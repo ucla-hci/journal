{
 "cells": [
  {
   "cell_type": "code",
   "execution_count": 602,
   "id": "33179056-c6c4-4d9f-8daf-20e57c3b27c9",
   "metadata": {},
   "outputs": [],
   "source": [
    "import pandas as pd\n",
    "import numpy as np\n",
    "import json\n",
    "import time\n",
    "import re\n",
    "import matplotlib.pyplot as plt\n",
    "\n",
    "from datetime import datetime\n",
    "\n",
    "filename = 'reports/report_P1.json'"
   ]
  },
  {
   "cell_type": "code",
   "execution_count": 603,
   "id": "6793a026-69e5-40d4-8a62-48ca28dbcce7",
   "metadata": {},
   "outputs": [],
   "source": [
    "with open(filename, encoding=\"utf-8\") as f:\n",
    "    target = f.read()"
   ]
  },
  {
   "cell_type": "code",
   "execution_count": 604,
   "id": "51f03d38-1657-41d9-9b77-a8d5271b2ca6",
   "metadata": {},
   "outputs": [
    {
     "data": {
      "text/plain": [
       "dict_keys(['title', 'content', 'date', 'flag', 'marks', 'mouse', 'key'])"
      ]
     },
     "execution_count": 604,
     "metadata": {},
     "output_type": "execute_result"
    }
   ],
   "source": [
    "data['2']['data'].keys()"
   ]
  },
  {
   "cell_type": "code",
   "execution_count": 608,
   "id": "5abe8e52-e8f4-4f91-bf45-2e757fae504c",
   "metadata": {
    "tags": []
   },
   "outputs": [
    {
     "name": "stdout",
     "output_type": "stream",
     "text": [
      "Start Time: 1969-12-31 16:07:57.403200\n"
     ]
    }
   ],
   "source": [
    "data = json.loads(target)\n",
    "note_number = '2'\n",
    "\n",
    "data[note_number]['data']['title']\n",
    "data[note_number]['data']['content']\n",
    "# start time\n",
    "tstamp = data[note_number]['data']['key'][0]['timestamp']\n",
    "print(\"Start Time: {}\".format(datetime.fromtimestamp((tstamp)/1000.0)))"
   ]
  },
  {
   "cell_type": "markdown",
   "id": "c279aa97-9ca9-4571-beb9-f11ed203dca8",
   "metadata": {},
   "source": [
    "## Writing Length (Words Count)"
   ]
  },
  {
   "cell_type": "code",
   "execution_count": 609,
   "id": "9a3ada76-3fe5-450f-97c1-5ebf8c8180ed",
   "metadata": {},
   "outputs": [
    {
     "name": "stdout",
     "output_type": "stream",
     "text": [
      "Note length: 2016 characters\n",
      "Note length: 375 words\n"
     ]
    }
   ],
   "source": [
    "content = data[note_number]['data']['content'].strip()\n",
    "print(f\"Note length: {len(content)} characters\")\n",
    "print(f\"Note length: {len(content.split(' '))} words\")"
   ]
  },
  {
   "cell_type": "markdown",
   "id": "f81d3ed6-58e8-4b19-b466-f5c68e34a695",
   "metadata": {},
   "source": [
    "## Writing Content"
   ]
  },
  {
   "cell_type": "code",
   "execution_count": 610,
   "id": "d45644e3-e0e5-4744-b580-4f76606c49d8",
   "metadata": {},
   "outputs": [
    {
     "name": "stdout",
     "output_type": "stream",
     "text": [
      "Full note:\n",
      "It is July 6th, I still feel that June has not ended. I guess it is because my days have been packed by tight schedule and heavy labor work so that every day seems a little bit longer than it should be. But all in all, the most difficult times have passed (maybe!) and a brand new summer is waiting for me!\n",
      "\n",
      "Summer does not mean vacation. For PhD students in HCI, summer is just another name of 'work all day for your CHI submission'. I have no problem with it as long as I love my project. However, I felt anxious for not being paid :( Yes I will receive no payments throughout the long summer, while I still need to pay housing, utilities and groceries! The insufficient income has affected my passion for work. I cannot stop thinking about money whenever I feel tired of debugging, or staying up late for ideation. It influenced both my mood and efficiency negatively. But I use the past tense. I have already overcome the obstacle.\n",
      "\n",
      "I wanna conclude takeaways so I will also recover quickly in the future. Thanks to Ruolin, I felt much better with her wise suggestions. The tips are:\n",
      "1. I do research to pursue my PhD. Doing research itself should be treated as a different thing from being paid.\n",
      "2. Not being paid is indeed a problem, so go urge for it! If I have tried everything to protect my rights (for being paid) but still do not work out, then this is an external problem. It has nothing to do with my fault.\n",
      "3. Since it can only be an external problem, forget about it. Unfairness in the world always exist. We accept the fact right now, does not mean we yield to the dark side. It means we reject to be \"infected\" by the bad things. It means I will accumulate capital and energy to fight back some day in the coming years.\n",
      "\n",
      "Don't think too much about money! The most important thing is I spent my time in worthy things. It's I live the life, enjoy every minute, and love myself.\n",
      "I will earn much much more money years later. And I will care about my students more if I can become a faculty. Haha! Yeah!\n"
     ]
    }
   ],
   "source": [
    "# text\n",
    "print(\"Full note:\")\n",
    "print(content)\n",
    "words_in_note = re.sub(r'[^\\w\\s]', '', content).lower().split(' ')"
   ]
  },
  {
   "cell_type": "code",
   "execution_count": 611,
   "id": "0dcc7de7-8dff-4059-8c2c-2cb1c8882510",
   "metadata": {},
   "outputs": [
    {
     "name": "stdout",
     "output_type": "stream",
     "text": [
      "/Users/royjara/dev/hci_lab/journal/dict/pickled-dict-full.pkl\n"
     ]
    }
   ],
   "source": [
    "import os\n",
    "from pathlib import Path\n",
    "\n",
    "pkl_file = Path(os.getcwd())# + '/../dict/picked-dict.pkl')\n",
    "pkl_file = pkl_file.parents[0] / 'dict' / 'pickled-dict-full.pkl'\n",
    "print(pkl_file)\n",
    "\n",
    "unpickle_dict = pd.read_pickle(pkl_file)\n",
    "expanded = unpickle_dict.explode('wordnet_ext').reset_index(drop=True)\n",
    "expanded = expanded.explode('phrase_ext').reset_index(drop=True)"
   ]
  },
  {
   "cell_type": "code",
   "execution_count": 612,
   "id": "46fb8cf9-8af3-46dd-941c-05cfd7a0bab3",
   "metadata": {},
   "outputs": [],
   "source": [
    "expanded['Word'] = expanded['Word'].str.strip()\n",
    "expanded['wordnet_ext'] = expanded['wordnet_ext'].str.strip()\n",
    "expanded['phrase_ext'] = expanded['phrase_ext'].str.strip()"
   ]
  },
  {
   "cell_type": "code",
   "execution_count": 613,
   "id": "a1752785-5277-440b-86dd-2745776b1387",
   "metadata": {},
   "outputs": [],
   "source": [
    "target_words = pd.unique(expanded['Word'].dropna().apply(lambda x: x.strip()))\n",
    "target_words = np.append(target_words, pd.unique(expanded['wordnet_ext'].dropna().apply(lambda x: x.strip())))\n",
    "target_words = np.append(target_words, pd.unique(expanded['phrase_ext'].dropna().apply(lambda x: x.strip())))"
   ]
  },
  {
   "cell_type": "code",
   "execution_count": 614,
   "id": "18e8879d-232f-4925-9254-b085baba4bd8",
   "metadata": {
    "tags": []
   },
   "outputs": [],
   "source": [
    "def get_ngram(alist, n):# {\n",
    "    holder = []\n",
    "    for i in range(len(alist) - (n-1)): \n",
    "        temp = alist[i]\n",
    "        for j in range(1,n):\n",
    "            temp = temp+ \" \" + alist[i + j]\n",
    "        holder.append(temp)\n",
    "    return holder"
   ]
  },
  {
   "cell_type": "code",
   "execution_count": 615,
   "id": "4aba3498-1859-40f7-9611-98733b1ed38c",
   "metadata": {},
   "outputs": [],
   "source": [
    "words_to_analyze = words_in_note + get_ngram(words_in_note, 2)\n",
    "words_to_analyze = words_to_analyze+get_ngram(words_in_note, 3)"
   ]
  },
  {
   "cell_type": "code",
   "execution_count": 616,
   "id": "bb0a4073-b20c-4ed3-99f2-8621bdf271de",
   "metadata": {
    "tags": []
   },
   "outputs": [],
   "source": [
    "filtered_content = [x for x in words_to_analyze if x in target_words]"
   ]
  },
  {
   "cell_type": "code",
   "execution_count": 617,
   "id": "537d44dd-9b4b-476e-9e6d-241fda8b8f5a",
   "metadata": {},
   "outputs": [
    {
     "name": "stdout",
     "output_type": "stream",
     "text": [
      "results: {'L2a': 4, 'L2b': 9, 'L2e': 9, 'L2f': 5}\n"
     ]
    }
   ],
   "source": [
    "cat_dict = {}\n",
    "\n",
    "for word in filtered_content:\n",
    "    # find category it belongs to\n",
    "    res = expanded[expanded['Word'].str.fullmatch(word, na=False) ]\n",
    "    cat = ''\n",
    "    if len(res) > 0:\n",
    "        cat = res['Strategy No.'].values[0]\n",
    "        # print(cat)\n",
    "    else:\n",
    "        res = expanded[expanded['wordnet_ext'].str.fullmatch(word, na=False) ]\n",
    "        if len(res) > 0:\n",
    "            cat = res['Strategy No.'].values[0]\n",
    "            # print(cat)\n",
    "        else:\n",
    "            res = expanded[expanded['phrase_ext'].str.fullmatch(word, na=False) ]\n",
    "            if len(res) > 0:\n",
    "                cat = res['Strategy No.'].values[0]\n",
    "                # print(cat)\n",
    "            else: \n",
    "                pass\n",
    "                # print('not found')\n",
    "            \n",
    "    # print('*********************************')\n",
    "    \n",
    "    if cat in cat_dict.keys():\n",
    "        cat_dict[cat]+=1\n",
    "    else:\n",
    "        cat_dict[cat] = 1\n",
    "\n",
    "cat_dict = dict(sorted(cat_dict.items()))\n",
    "\n",
    "print(f\"results: {cat_dict}\")"
   ]
  },
  {
   "cell_type": "code",
   "execution_count": 618,
   "id": "a6251309-8ed9-4ffd-9e87-b2b06322f97a",
   "metadata": {},
   "outputs": [
    {
     "data": {
      "text/plain": [
       "([<matplotlib.axis.XTick at 0x7f856d6f1a90>,\n",
       "  <matplotlib.axis.XTick at 0x7f856d6f1130>,\n",
       "  <matplotlib.axis.XTick at 0x7f856fa74340>,\n",
       "  <matplotlib.axis.XTick at 0x7f856703a3a0>],\n",
       " [Text(0, 0, 'L2a'), Text(1, 0, 'L2b'), Text(2, 0, 'L2e'), Text(3, 0, 'L2f')])"
      ]
     },
     "execution_count": 618,
     "metadata": {},
     "output_type": "execute_result"
    },
    {
     "data": {
      "image/png": "[encoded data removed]",
      "text/plain": [
       "<Figure size 432x288 with 1 Axes>"
      ]
     },
     "metadata": {
      "needs_background": "light"
     },
     "output_type": "display_data"
    }
   ],
   "source": [
    "plt.bar(range(len(cat_dict)), list(cat_dict.values()), align='center')\n",
    "plt.xticks(range(len(cat_dict)), list(cat_dict.keys()))"
   ]
  },
  {
   "cell_type": "markdown",
   "id": "5171ce94-7e5c-4942-a026-b1ad19d28a09",
   "metadata": {},
   "source": [
    "## Writing Behavior\n",
    "\n",
    "JS EVT TIMESTAMP ==> TIME IN MILLISECONDS!\n",
    "\n",
    "\n",
    "Analysis approach:\n",
    "- no need to know actual time, just the difference between events\n",
    "- plot the timestamps in the same order as indices.\n",
    "- then bundle up all the rising ones as one session\n",
    "- then analyze per session and combine!"
   ]
  },
  {
   "cell_type": "code",
   "execution_count": 619,
   "id": "ec45a9ed-5f04-45c9-8be5-dbfd226bf77e",
   "metadata": {},
   "outputs": [
    {
     "data": {
      "text/plain": [
       "<AxesSubplot:>"
      ]
     },
     "execution_count": 619,
     "metadata": {},
     "output_type": "execute_result"
    },
    {
     "data": {
      "image/png": "[encoded data removed]",
      "text/plain": [
       "<Figure size 432x288 with 1 Axes>"
      ]
     },
     "metadata": {
      "needs_background": "light"
     },
     "output_type": "display_data"
    }
   ],
   "source": [
    "df = pd.DataFrame(data[note_number]['data']['key'])\n",
    "df = df.drop([0])\n",
    "df[\"timestamp\"].plot()"
   ]
  },
  {
   "cell_type": "code",
   "execution_count": 620,
   "id": "1526cb70-48e3-4500-acaa-cfd0ddce4390",
   "metadata": {},
   "outputs": [
    {
     "data": {
      "text/html": [
       "<div>\n",
       "<style scoped>\n",
       "    .dataframe tbody tr th:only-of-type {\n",
       "        vertical-align: middle;\n",
       "    }\n",
       "\n",
       "    .dataframe tbody tr th {\n",
       "        vertical-align: top;\n",
       "    }\n",
       "\n",
       "    .dataframe thead th {\n",
       "        text-align: right;\n",
       "    }\n",
       "</style>\n",
       "<table border=\"1\" class=\"dataframe\">\n",
       "  <thead>\n",
       "    <tr style=\"text-align: right;\">\n",
       "      <th></th>\n",
       "      <th>text</th>\n",
       "      <th>cursor</th>\n",
       "      <th>timestamp</th>\n",
       "      <th>session_id</th>\n",
       "      <th>timestamp_diff</th>\n",
       "      <th>pauses</th>\n",
       "    </tr>\n",
       "  </thead>\n",
       "  <tbody>\n",
       "    <tr>\n",
       "      <th>41</th>\n",
       "      <td></td>\n",
       "      <td>{'line': 0, 'ch': 0, 'sticky': None}</td>\n",
       "      <td>694293.7</td>\n",
       "      <td>0</td>\n",
       "      <td>207306.0</td>\n",
       "      <td>1</td>\n",
       "    </tr>\n",
       "    <tr>\n",
       "      <th>57</th>\n",
       "      <td></td>\n",
       "      <td>{'line': 0, 'ch': 0, 'sticky': None}</td>\n",
       "      <td>708574.9</td>\n",
       "      <td>0</td>\n",
       "      <td>12840.8</td>\n",
       "      <td>1</td>\n",
       "    </tr>\n",
       "    <tr>\n",
       "      <th>88</th>\n",
       "      <td></td>\n",
       "      <td>{'line': 0, 'ch': 0, 'sticky': None}</td>\n",
       "      <td>715575.7</td>\n",
       "      <td>0</td>\n",
       "      <td>3160.4</td>\n",
       "      <td>1</td>\n",
       "    </tr>\n",
       "  </tbody>\n",
       "</table>\n",
       "</div>"
      ],
      "text/plain": [
       "   text                                cursor  timestamp  session_id  \\\n",
       "41       {'line': 0, 'ch': 0, 'sticky': None}   694293.7           0   \n",
       "57       {'line': 0, 'ch': 0, 'sticky': None}   708574.9           0   \n",
       "88       {'line': 0, 'ch': 0, 'sticky': None}   715575.7           0   \n",
       "\n",
       "    timestamp_diff  pauses  \n",
       "41        207306.0       1  \n",
       "57         12840.8       1  \n",
       "88          3160.4       1  "
      ]
     },
     "execution_count": 620,
     "metadata": {},
     "output_type": "execute_result"
    }
   ],
   "source": [
    "df['timestamp_diff'] = df['timestamp'].diff()\n",
    "df['session_id'] = df.apply(lambda row: 1 if row['timestamp_diff'] < 0 else 0, axis=1).cumsum()\n",
    "df['pauses'] = df.apply(lambda row: 1 if row['timestamp_diff'] > 3000 else 0, axis=1)\n",
    "df[['text', 'cursor', 'timestamp', 'session_id', 'timestamp_diff', 'pauses']][df['pauses']==1].head(3)"
   ]
  },
  {
   "cell_type": "code",
   "execution_count": 621,
   "id": "5c117583-08fc-4ecc-880f-25700eb85edb",
   "metadata": {
    "tags": []
   },
   "outputs": [],
   "source": [
    "pause_list = df.index[df['pauses'] == 1].tolist()"
   ]
  },
  {
   "cell_type": "code",
   "execution_count": 622,
   "id": "e8b35995-ef9f-4b78-a17c-c808d23c707c",
   "metadata": {},
   "outputs": [
    {
     "data": {
      "text/plain": [
       "[<matplotlib.lines.Line2D at 0x7f8567078df0>,\n",
       " <matplotlib.lines.Line2D at 0x7f8567244a60>,\n",
       " <matplotlib.lines.Line2D at 0x7f8567244dc0>,\n",
       " <matplotlib.lines.Line2D at 0x7f856724d160>,\n",
       " <matplotlib.lines.Line2D at 0x7f856724d4c0>,\n",
       " <matplotlib.lines.Line2D at 0x7f856724d820>,\n",
       " <matplotlib.lines.Line2D at 0x7f856724db80>,\n",
       " <matplotlib.lines.Line2D at 0x7f8567244880>,\n",
       " <matplotlib.lines.Line2D at 0x7f8567235400>,\n",
       " <matplotlib.lines.Line2D at 0x7f856724dee0>,\n",
       " <matplotlib.lines.Line2D at 0x7f856725c280>,\n",
       " <matplotlib.lines.Line2D at 0x7f856725c5e0>,\n",
       " <matplotlib.lines.Line2D at 0x7f856725c940>,\n",
       " <matplotlib.lines.Line2D at 0x7f856725cca0>,\n",
       " <matplotlib.lines.Line2D at 0x7f8567269070>,\n",
       " <matplotlib.lines.Line2D at 0x7f85672693d0>,\n",
       " <matplotlib.lines.Line2D at 0x7f8567269730>,\n",
       " <matplotlib.lines.Line2D at 0x7f8567269a90>,\n",
       " <matplotlib.lines.Line2D at 0x7f8567269df0>,\n",
       " <matplotlib.lines.Line2D at 0x7f85672b4190>,\n",
       " <matplotlib.lines.Line2D at 0x7f85672b44f0>,\n",
       " <matplotlib.lines.Line2D at 0x7f85672b4850>,\n",
       " <matplotlib.lines.Line2D at 0x7f85672b4bb0>,\n",
       " <matplotlib.lines.Line2D at 0x7f85672b4f10>,\n",
       " <matplotlib.lines.Line2D at 0x7f85672c22b0>,\n",
       " <matplotlib.lines.Line2D at 0x7f85672c2610>,\n",
       " <matplotlib.lines.Line2D at 0x7f85672c2970>,\n",
       " <matplotlib.lines.Line2D at 0x7f85672c2cd0>,\n",
       " <matplotlib.lines.Line2D at 0x7f85672cd070>,\n",
       " <matplotlib.lines.Line2D at 0x7f85672cd3d0>,\n",
       " <matplotlib.lines.Line2D at 0x7f85672cd730>,\n",
       " <matplotlib.lines.Line2D at 0x7f85672cda90>,\n",
       " <matplotlib.lines.Line2D at 0x7f85672cddf0>,\n",
       " <matplotlib.lines.Line2D at 0x7f85672da190>,\n",
       " <matplotlib.lines.Line2D at 0x7f85672da4f0>,\n",
       " <matplotlib.lines.Line2D at 0x7f85672da850>,\n",
       " <matplotlib.lines.Line2D at 0x7f85672dabb0>]"
      ]
     },
     "execution_count": 622,
     "metadata": {},
     "output_type": "execute_result"
    },
    {
     "data": {
      "image/png": "[encoded data removed]",
      "text/plain": [
       "<Figure size 432x288 with 1 Axes>"
      ]
     },
     "metadata": {
      "needs_background": "light"
     },
     "output_type": "display_data"
    }
   ],
   "source": [
    "df[\"timestamp\"].plot()\n",
    "[plt.axvline(_x, linewidth=0.2, color='r') for _x in pause_list]\n",
    "# missing ax labels (x-keystroke event, y-timestamp) \n",
    "# larger size\n",
    "# red overlay lines represent pauses\n",
    "# big drop is the resetting of the session --> could be adjusted to make continuous. \n",
    "# idk if there is any value in displaying the sessions"
   ]
  },
  {
   "cell_type": "code",
   "execution_count": 623,
   "id": "92a37dba-c3af-4645-ae65-090ea5c14494",
   "metadata": {},
   "outputs": [
    {
     "name": "stdout",
     "output_type": "stream",
     "text": [
      "Writing duration 24.62 minutes\n"
     ]
    }
   ],
   "source": [
    "# writing duration -- aggregate per session_id and add results\n",
    "a = df.groupby('session_id')['timestamp'].max()\n",
    "print(f\"Writing duration {(a.sum()/1000)/60:.2f} minutes\")"
   ]
  },
  {
   "cell_type": "code",
   "execution_count": 624,
   "id": "dd766f38-376e-4256-92e2-170a6e8a694c",
   "metadata": {},
   "outputs": [],
   "source": [
    "# save to csv for further inspection.\n",
    "df[['text', 'cursor', 'timestamp', 'session_id', 'timestamp_diff', 'pauses']][df['pauses']==1].to_csv('pauses.csv')"
   ]
  },
  {
   "cell_type": "markdown",
   "id": "37de1e9e-4fbd-4ceb-aab6-205524d28f74",
   "metadata": {},
   "source": [
    "## Interactions with features\n",
    "\n",
    "Simplify!\n",
    "- separate into groups of interactions (columns): dismisses, accepts, l2dismisses\n",
    "- but at the same time (before or after) \n",
    "- find unique for both \n",
    "\n",
    "- Marks can be either placeholder (L1/L3) or highlights (L2)\n",
    "- dismisses are the L1/L3 dismisses\n",
    "- accepts are the L1/L3 accepts\n",
    "- l2dismisses are the \n",
    "- placeholder only relevant if marks has placeholder"
   ]
  },
  {
   "cell_type": "code",
   "execution_count": 625,
   "id": "77006d04-829d-4d59-8c21-b1f783d57073",
   "metadata": {},
   "outputs": [],
   "source": [
    "df_mouse = pd.DataFrame(data[note_number]['data']['mouse']).drop(0)\n",
    "df_key = pd.DataFrame(data[note_number]['data']['key']).drop(0)"
   ]
  },
  {
   "cell_type": "markdown",
   "id": "c538a9fd-1981-4f15-b5f2-d200e03e97c5",
   "metadata": {},
   "source": [
    "## df_mouse['marks']\n",
    "By keeping the unique values, we can show all the different highlights in full"
   ]
  },
  {
   "cell_type": "code",
   "execution_count": 636,
   "id": "6280c978-6a4f-40b8-a1bb-1e1d8471c5d7",
   "metadata": {},
   "outputs": [
    {
     "data": {
      "text/html": [
       "<div>\n",
       "<style scoped>\n",
       "    .dataframe tbody tr th:only-of-type {\n",
       "        vertical-align: middle;\n",
       "    }\n",
       "\n",
       "    .dataframe tbody tr th {\n",
       "        vertical-align: top;\n",
       "    }\n",
       "\n",
       "    .dataframe thead th {\n",
       "        text-align: right;\n",
       "    }\n",
       "</style>\n",
       "<table border=\"1\" class=\"dataframe\">\n",
       "  <thead>\n",
       "    <tr style=\"text-align: right;\">\n",
       "      <th></th>\n",
       "      <th>timestamp</th>\n",
       "      <th>type</th>\n",
       "      <th>marks</th>\n",
       "    </tr>\n",
       "  </thead>\n",
       "  <tbody>\n",
       "    <tr>\n",
       "      <th>19</th>\n",
       "      <td>1476048.7000000477</td>\n",
       "      <td>click</td>\n",
       "      <td>[{'tag': 'CodeMirror-selectedtext', 'from': {'...</td>\n",
       "    </tr>\n",
       "  </tbody>\n",
       "</table>\n",
       "</div>"
      ],
      "text/plain": [
       "             timestamp   type  \\\n",
       "19  1476048.7000000477  click   \n",
       "\n",
       "                                                marks  \n",
       "19  [{'tag': 'CodeMirror-selectedtext', 'from': {'...  "
      ]
     },
     "execution_count": 636,
     "metadata": {},
     "output_type": "execute_result"
    }
   ],
   "source": [
    "# shows total number of different highlights\n",
    "df_mouse_marks = df_mouse[df_mouse['marks'].map(lambda d: len(d)) > 0] \\\n",
    "                                           .drop(['placeholder','dismisses','accepts','l2dismisses','x','y'], axis=1) \\\n",
    "                                           .astype(str) \\\n",
    "                                           .drop_duplicates(subset=['marks'])\n",
    "df_mouse_marks"
   ]
  },
  {
   "cell_type": "markdown",
   "id": "fcdf18de-a83b-46c3-bd7e-0bebf47af8da",
   "metadata": {},
   "source": [
    "## df_key['marks']\n",
    "Useful if you want to see the progression of typing with placeholders."
   ]
  },
  {
   "cell_type": "code",
   "execution_count": 637,
   "id": "ae6e3c49-4bbb-4d97-84a4-bca95d3bbf43",
   "metadata": {
    "tags": []
   },
   "outputs": [
    {
     "data": {
      "text/html": [
       "<div>\n",
       "<style scoped>\n",
       "    .dataframe tbody tr th:only-of-type {\n",
       "        vertical-align: middle;\n",
       "    }\n",
       "\n",
       "    .dataframe tbody tr th {\n",
       "        vertical-align: top;\n",
       "    }\n",
       "\n",
       "    .dataframe thead th {\n",
       "        text-align: right;\n",
       "    }\n",
       "</style>\n",
       "<table border=\"1\" class=\"dataframe\">\n",
       "  <thead>\n",
       "    <tr style=\"text-align: right;\">\n",
       "      <th></th>\n",
       "      <th>timestamp</th>\n",
       "      <th>type</th>\n",
       "      <th>text</th>\n",
       "      <th>marks</th>\n",
       "    </tr>\n",
       "  </thead>\n",
       "  <tbody>\n",
       "    <tr>\n",
       "      <th>1</th>\n",
       "      <td>477563.2999999523</td>\n",
       "      <td>type</td>\n",
       "      <td></td>\n",
       "      <td>[]</td>\n",
       "    </tr>\n",
       "    <tr>\n",
       "      <th>2878</th>\n",
       "      <td>1477002.2000000477</td>\n",
       "      <td>type</td>\n",
       "      <td>It is July 6th, I still feel that June has not...</td>\n",
       "      <td>[{'tag': 'CodeMirror-selectedtext', 'from': {'...</td>\n",
       "    </tr>\n",
       "  </tbody>\n",
       "</table>\n",
       "</div>"
      ],
      "text/plain": [
       "               timestamp  type  \\\n",
       "1      477563.2999999523  type   \n",
       "2878  1477002.2000000477  type   \n",
       "\n",
       "                                                   text  \\\n",
       "1                                                         \n",
       "2878  It is July 6th, I still feel that June has not...   \n",
       "\n",
       "                                                  marks  \n",
       "1                                                    []  \n",
       "2878  [{'tag': 'CodeMirror-selectedtext', 'from': {'...  "
      ]
     },
     "execution_count": 637,
     "metadata": {},
     "output_type": "execute_result"
    }
   ],
   "source": [
    "# shows keystroke updates when filling in placeholder text\n",
    "df_key_marks = df_key[df_key['marks'].notnull()] \\\n",
    "                                     .drop(['keycode','dismisses','cursor', 'placeholder', 'accepts', 'l2dismisses'], axis=1) \\\n",
    "                                     .astype(str) \\\n",
    "                                     .drop_duplicates(subset=['marks'])\n",
    "                      \n",
    "df_key_marks #.to_csv('dummy.csv')"
   ]
  },
  {
   "cell_type": "code",
   "execution_count": 633,
   "id": "e4d9086e-82e2-4da5-8c9a-e3a4b969c286",
   "metadata": {},
   "outputs": [
    {
     "data": {
      "text/html": [
       "<div>\n",
       "<style scoped>\n",
       "    .dataframe tbody tr th:only-of-type {\n",
       "        vertical-align: middle;\n",
       "    }\n",
       "\n",
       "    .dataframe tbody tr th {\n",
       "        vertical-align: top;\n",
       "    }\n",
       "\n",
       "    .dataframe thead th {\n",
       "        text-align: right;\n",
       "    }\n",
       "</style>\n",
       "<table border=\"1\" class=\"dataframe\">\n",
       "  <thead>\n",
       "    <tr style=\"text-align: right;\">\n",
       "      <th></th>\n",
       "      <th>tag</th>\n",
       "      <th>from</th>\n",
       "      <th>to</th>\n",
       "    </tr>\n",
       "  </thead>\n",
       "  <tbody>\n",
       "  </tbody>\n",
       "</table>\n",
       "</div>"
      ],
      "text/plain": [
       "Empty DataFrame\n",
       "Columns: [tag, from, to]\n",
       "Index: []"
      ]
     },
     "execution_count": 633,
     "metadata": {},
     "output_type": "execute_result"
    }
   ],
   "source": [
    "df_key_marks_f = pd.DataFrame(df_key.loc[df_key_marks.index].explode('marks')['marks'].dropna().to_list())#.drop_duplicates(subset=['suggestion'])\n",
    "df_key_marks_f[df_key_marks_f['tag']=='placeholder']#.astype(str).drop_duplicates(subset=['from','to'])\n",
    "# df_key_marks_f[df_key_marks_f['tag']=='L2-highlight'].astype(str).drop_duplicates(subset=['from','to'])"
   ]
  },
  {
   "cell_type": "markdown",
   "id": "15619c34-463f-4d36-8a66-4df4838d91d2",
   "metadata": {},
   "source": [
    "## df_key['dismisses']\n",
    "at end, shows if backspaced or how far along the user typed\n",
    "- Problem1: don't know if it is L1 or L3 --> SOLUTION lookup in dict df\n",
    "- Problem2: timestamp is in unix datetime structure (fixed in latest push to repo)\n"
   ]
  },
  {
   "cell_type": "code",
   "execution_count": 550,
   "id": "845ad253-9cea-48c1-ae1a-cec1563c72ea",
   "metadata": {},
   "outputs": [],
   "source": [
    "df_key_dis = df_key[df_key['dismisses'].notnull()] \\\n",
    "                                     .drop(['keycode','cursor', 'marks','accepts', 'l2dismisses'], axis=1) \\\n",
    "                                     .astype(str) \\\n",
    "                                     .drop_duplicates(subset=['dismisses'])\n",
    "                      \n",
    "dis_idx = df_key_dis.index"
   ]
  },
  {
   "cell_type": "code",
   "execution_count": 551,
   "id": "7cdba37b-9fce-4693-87e0-391fc7098878",
   "metadata": {},
   "outputs": [
    {
     "data": {
      "text/html": [
       "<div>\n",
       "<style scoped>\n",
       "    .dataframe tbody tr th:only-of-type {\n",
       "        vertical-align: middle;\n",
       "    }\n",
       "\n",
       "    .dataframe tbody tr th {\n",
       "        vertical-align: top;\n",
       "    }\n",
       "\n",
       "    .dataframe thead th {\n",
       "        text-align: right;\n",
       "    }\n",
       "</style>\n",
       "<table border=\"1\" class=\"dataframe\">\n",
       "  <thead>\n",
       "    <tr style=\"text-align: right;\">\n",
       "      <th></th>\n",
       "      <th>time</th>\n",
       "      <th>suggestion</th>\n",
       "      <th>completed_amount</th>\n",
       "    </tr>\n",
       "  </thead>\n",
       "  <tbody>\n",
       "    <tr>\n",
       "      <th>0</th>\n",
       "      <td>1657165258648</td>\n",
       "      <td>When I say this, I mean...</td>\n",
       "      <td>-1</td>\n",
       "    </tr>\n",
       "    <tr>\n",
       "      <th>1</th>\n",
       "      <td>1657165308161</td>\n",
       "      <td>To be specific,</td>\n",
       "      <td>-1</td>\n",
       "    </tr>\n",
       "    <tr>\n",
       "      <th>2</th>\n",
       "      <td>1657165317258</td>\n",
       "      <td>A different point of view can be...</td>\n",
       "      <td>-1</td>\n",
       "    </tr>\n",
       "    <tr>\n",
       "      <th>3</th>\n",
       "      <td>1657165345840</td>\n",
       "      <td>An example to support this is...</td>\n",
       "      <td>-1</td>\n",
       "    </tr>\n",
       "    <tr>\n",
       "      <th>5</th>\n",
       "      <td>1657165437845</td>\n",
       "      <td></td>\n",
       "      <td>-1</td>\n",
       "    </tr>\n",
       "    <tr>\n",
       "      <th>6</th>\n",
       "      <td>1657165457359</td>\n",
       "      <td>Someone else may respond to this in a differen...</td>\n",
       "      <td>-1</td>\n",
       "    </tr>\n",
       "  </tbody>\n",
       "</table>\n",
       "</div>"
      ],
      "text/plain": [
       "            time                                         suggestion  \\\n",
       "0  1657165258648                         When I say this, I mean...   \n",
       "1  1657165308161                                    To be specific,   \n",
       "2  1657165317258                A different point of view can be...   \n",
       "3  1657165345840                   An example to support this is...   \n",
       "5  1657165437845                                                      \n",
       "6  1657165457359  Someone else may respond to this in a differen...   \n",
       "\n",
       "   completed_amount  \n",
       "0                -1  \n",
       "1                -1  \n",
       "2                -1  \n",
       "3                -1  \n",
       "5                -1  \n",
       "6                -1  "
      ]
     },
     "execution_count": 551,
     "metadata": {},
     "output_type": "execute_result"
    }
   ],
   "source": [
    "pd.DataFrame(df_key.loc[dis_idx].explode('dismisses')['dismisses'].to_list()).drop_duplicates(subset=['suggestion'])"
   ]
  },
  {
   "cell_type": "code",
   "execution_count": null,
   "id": "26bf42d6-653d-44ba-909d-f00e3c88f813",
   "metadata": {},
   "outputs": [],
   "source": []
  },
  {
   "cell_type": "markdown",
   "id": "ce37e235-46e5-4ec5-8700-c268dc3c9dfb",
   "metadata": {},
   "source": [
    "## df_key['accepts']\n",
    "shows the rewrites that were completed in full\n",
    "\n",
    "- problems: in cases where suggestion is empty, don't know where they're coming from\n",
    "- will need to associate them with origin, and also if they are L1 or L3"
   ]
  },
  {
   "cell_type": "code",
   "execution_count": 552,
   "id": "a2771ed1-55a0-4deb-9c05-03771bee7e00",
   "metadata": {},
   "outputs": [],
   "source": [
    "df_key_acc = df_key[df_key['accepts'].notnull()] \\\n",
    "                                     .drop(['keycode','cursor', 'marks','dismisses', 'l2dismisses'], axis=1) \\\n",
    "                                     .astype(str) \\\n",
    "                                     .drop_duplicates(subset=['accepts'])\n",
    "                      \n",
    "acc_idx = df_key_acc.index"
   ]
  },
  {
   "cell_type": "code",
   "execution_count": 553,
   "id": "bf340e6e-efb8-456a-9fc1-f27f0e6318c2",
   "metadata": {},
   "outputs": [
    {
     "data": {
      "text/html": [
       "<div>\n",
       "<style scoped>\n",
       "    .dataframe tbody tr th:only-of-type {\n",
       "        vertical-align: middle;\n",
       "    }\n",
       "\n",
       "    .dataframe tbody tr th {\n",
       "        vertical-align: top;\n",
       "    }\n",
       "\n",
       "    .dataframe thead th {\n",
       "        text-align: right;\n",
       "    }\n",
       "</style>\n",
       "<table border=\"1\" class=\"dataframe\">\n",
       "  <thead>\n",
       "    <tr style=\"text-align: right;\">\n",
       "      <th></th>\n",
       "      <th>timestamp</th>\n",
       "      <th>type</th>\n",
       "      <th>text</th>\n",
       "      <th>placeholder</th>\n",
       "      <th>accepts</th>\n",
       "    </tr>\n",
       "  </thead>\n",
       "  <tbody>\n",
       "    <tr>\n",
       "      <th>1</th>\n",
       "      <td>477563.2999999523</td>\n",
       "      <td>type</td>\n",
       "      <td></td>\n",
       "      <td></td>\n",
       "      <td>[]</td>\n",
       "    </tr>\n",
       "  </tbody>\n",
       "</table>\n",
       "</div>"
      ],
      "text/plain": [
       "           timestamp  type text placeholder accepts\n",
       "1  477563.2999999523  type                       []"
      ]
     },
     "execution_count": 553,
     "metadata": {},
     "output_type": "execute_result"
    }
   ],
   "source": [
    "df_key_acc"
   ]
  },
  {
   "cell_type": "code",
   "execution_count": 554,
   "id": "559d72dd-5aef-4701-b8a3-d1b940ea473a",
   "metadata": {},
   "outputs": [
    {
     "data": {
      "text/html": [
       "<div>\n",
       "<style scoped>\n",
       "    .dataframe tbody tr th:only-of-type {\n",
       "        vertical-align: middle;\n",
       "    }\n",
       "\n",
       "    .dataframe tbody tr th {\n",
       "        vertical-align: top;\n",
       "    }\n",
       "\n",
       "    .dataframe thead th {\n",
       "        text-align: right;\n",
       "    }\n",
       "</style>\n",
       "<table border=\"1\" class=\"dataframe\">\n",
       "  <thead>\n",
       "    <tr style=\"text-align: right;\">\n",
       "      <th></th>\n",
       "      <th>0</th>\n",
       "    </tr>\n",
       "  </thead>\n",
       "  <tbody>\n",
       "    <tr>\n",
       "      <th>0</th>\n",
       "      <td>NaN</td>\n",
       "    </tr>\n",
       "  </tbody>\n",
       "</table>\n",
       "</div>"
      ],
      "text/plain": [
       "    0\n",
       "0 NaN"
      ]
     },
     "execution_count": 554,
     "metadata": {},
     "output_type": "execute_result"
    }
   ],
   "source": [
    "pd.DataFrame(df_key.loc[acc_idx].explode('accepts')['accepts'].to_list()) "
   ]
  },
  {
   "cell_type": "markdown",
   "id": "056bdce7-b00b-47a3-b846-f7d79814078d",
   "metadata": {},
   "source": [
    "## df_mouse['placeholder'] \n",
    "-- shows full placeholder right after first activation"
   ]
  },
  {
   "cell_type": "code",
   "execution_count": 564,
   "id": "fd20d018-2680-4ce3-8d54-881889d70353",
   "metadata": {},
   "outputs": [
    {
     "data": {
      "text/plain": [
       "array(['', 'When I say this, I mean...', 'To be specific,',\n",
       "       'A different point of view can be...',\n",
       "       'An example to support this is...',\n",
       "       'Someone else may respond to this in a different way:'],\n",
       "      dtype=object)"
      ]
     },
     "execution_count": 564,
     "metadata": {},
     "output_type": "execute_result"
    }
   ],
   "source": [
    "# shows total number of different highlights\n",
    "df_mouse_ph = df_mouse[df_mouse['placeholder'].map(lambda d: len(d)) > 0] \\\n",
    "                                           .drop(['dismisses','accepts','l2dismisses','x','y'], axis=1) \\\n",
    "                                           .astype(str) #\\\n",
    "                                           #.drop_duplicates(subset=['placeholder'])\n",
    "# df_mouse_ph#.to_csv('dummy.csv')\n",
    "df_mouse['placeholder'].unique()"
   ]
  },
  {
   "cell_type": "code",
   "execution_count": 556,
   "id": "e12323a2-2f4b-4598-9ea6-b93774f4c77b",
   "metadata": {},
   "outputs": [
    {
     "data": {
      "text/plain": [
       "array(['', 'When I say this, I mean...',\n",
       "       'An example to support this is...', 'To be specific,'],\n",
       "      dtype=object)"
      ]
     },
     "execution_count": 556,
     "metadata": {},
     "output_type": "execute_result"
    }
   ],
   "source": [
    "df_key_ph = df_key[df_key['accepts'].notnull()] \\\n",
    "                                     .drop(['keycode','cursor', 'marks','dismisses', 'l2dismisses'], axis=1) \\\n",
    "                                     .astype(str) #\\\n",
    "                                     #.drop_duplicates(subset=['accepts'])\n",
    "                      \n",
    "# ph_idx = df_key_ph.index\n",
    "df_key_ph['placeholder'].unique()"
   ]
  },
  {
   "cell_type": "code",
   "execution_count": 557,
   "id": "7922d845-2869-428d-93cd-d8609678539d",
   "metadata": {},
   "outputs": [],
   "source": [
    "# combine into one list of placeholders\n",
    "# then search to see which ones are L1 and L2"
   ]
  },
  {
   "cell_type": "markdown",
   "id": "bc70b946-3f19-437e-81b6-1fb44435bf83",
   "metadata": {},
   "source": [
    "## df_mouse['l2dismisses'] \n",
    "-- shows the words that were wrongly analyzed"
   ]
  },
  {
   "cell_type": "code",
   "execution_count": 558,
   "id": "33e88e7e-c32c-466e-8dbb-9c294175cca0",
   "metadata": {},
   "outputs": [],
   "source": [
    "df_mouse_l2dis = df_mouse[df_mouse['l2dismisses'].map(lambda d: len(d)) > 0] \\\n",
    "                                           .drop(['dismisses','accepts','placeholder','x','y'], axis=1) \\\n",
    "                                           .astype(str) \\\n",
    "                                           .drop_duplicates(subset=['l2dismisses'])\n",
    "l2dis_idx = df_mouse_l2dis.index#.to_csv('dummy.csv')"
   ]
  },
  {
   "cell_type": "code",
   "execution_count": 559,
   "id": "37adf6ac-1246-4d8b-9a6d-4a2b50fcc340",
   "metadata": {},
   "outputs": [
    {
     "data": {
      "text/plain": [
       "0"
      ]
     },
     "execution_count": 559,
     "metadata": {},
     "output_type": "execute_result"
    }
   ],
   "source": [
    "# number of l2 dismisses\n",
    "pd.DataFrame(df_mouse.loc[l2dis_idx].explode('l2dismisses')['l2dismisses'].to_list()).shape[0]"
   ]
  },
  {
   "cell_type": "code",
   "execution_count": 560,
   "id": "d0d76058-7617-4358-adcb-9ff7b85e7eeb",
   "metadata": {},
   "outputs": [
    {
     "ename": "KeyError",
     "evalue": "'word'",
     "output_type": "error",
     "traceback": [
      "\u001b[0;31m---------------------------------------------------------------------------\u001b[0m",
      "\u001b[0;31mKeyError\u001b[0m                                  Traceback (most recent call last)",
      "File \u001b[0;32m~/opt/miniconda3/lib/python3.9/site-packages/pandas/core/indexes/base.py:3621\u001b[0m, in \u001b[0;36mIndex.get_loc\u001b[0;34m(self, key, method, tolerance)\u001b[0m\n\u001b[1;32m   3620\u001b[0m \u001b[38;5;28;01mtry\u001b[39;00m:\n\u001b[0;32m-> 3621\u001b[0m     \u001b[38;5;28;01mreturn\u001b[39;00m \u001b[38;5;28;43mself\u001b[39;49m\u001b[38;5;241;43m.\u001b[39;49m\u001b[43m_engine\u001b[49m\u001b[38;5;241;43m.\u001b[39;49m\u001b[43mget_loc\u001b[49m\u001b[43m(\u001b[49m\u001b[43mcasted_key\u001b[49m\u001b[43m)\u001b[49m\n\u001b[1;32m   3622\u001b[0m \u001b[38;5;28;01mexcept\u001b[39;00m \u001b[38;5;167;01mKeyError\u001b[39;00m \u001b[38;5;28;01mas\u001b[39;00m err:\n",
      "File \u001b[0;32mpandas/_libs/index.pyx:136\u001b[0m, in \u001b[0;36mpandas._libs.index.IndexEngine.get_loc\u001b[0;34m()\u001b[0m\n",
      "File \u001b[0;32mpandas/_libs/index.pyx:163\u001b[0m, in \u001b[0;36mpandas._libs.index.IndexEngine.get_loc\u001b[0;34m()\u001b[0m\n",
      "File \u001b[0;32mpandas/_libs/hashtable_class_helper.pxi:5198\u001b[0m, in \u001b[0;36mpandas._libs.hashtable.PyObjectHashTable.get_item\u001b[0;34m()\u001b[0m\n",
      "File \u001b[0;32mpandas/_libs/hashtable_class_helper.pxi:5206\u001b[0m, in \u001b[0;36mpandas._libs.hashtable.PyObjectHashTable.get_item\u001b[0;34m()\u001b[0m\n",
      "\u001b[0;31mKeyError\u001b[0m: 'word'",
      "\nThe above exception was the direct cause of the following exception:\n",
      "\u001b[0;31mKeyError\u001b[0m                                  Traceback (most recent call last)",
      "Input \u001b[0;32mIn [560]\u001b[0m, in \u001b[0;36m<cell line: 2>\u001b[0;34m()\u001b[0m\n\u001b[1;32m      1\u001b[0m \u001b[38;5;66;03m# the words in question\u001b[39;00m\n\u001b[0;32m----> 2\u001b[0m \u001b[43mpd\u001b[49m\u001b[38;5;241;43m.\u001b[39;49m\u001b[43mDataFrame\u001b[49m\u001b[43m(\u001b[49m\u001b[43mdf_mouse\u001b[49m\u001b[38;5;241;43m.\u001b[39;49m\u001b[43mloc\u001b[49m\u001b[43m[\u001b[49m\u001b[43ml2dis_idx\u001b[49m\u001b[43m]\u001b[49m\u001b[38;5;241;43m.\u001b[39;49m\u001b[43mexplode\u001b[49m\u001b[43m(\u001b[49m\u001b[38;5;124;43m'\u001b[39;49m\u001b[38;5;124;43ml2dismisses\u001b[39;49m\u001b[38;5;124;43m'\u001b[39;49m\u001b[43m)\u001b[49m\u001b[43m[\u001b[49m\u001b[38;5;124;43m'\u001b[39;49m\u001b[38;5;124;43ml2dismisses\u001b[39;49m\u001b[38;5;124;43m'\u001b[39;49m\u001b[43m]\u001b[49m\u001b[38;5;241;43m.\u001b[39;49m\u001b[43mto_list\u001b[49m\u001b[43m(\u001b[49m\u001b[43m)\u001b[49m\u001b[43m)\u001b[49m\u001b[43m[\u001b[49m\u001b[38;5;124;43m'\u001b[39;49m\u001b[38;5;124;43mword\u001b[39;49m\u001b[38;5;124;43m'\u001b[39;49m\u001b[43m]\u001b[49m\u001b[38;5;241m.\u001b[39munique()\n",
      "File \u001b[0;32m~/opt/miniconda3/lib/python3.9/site-packages/pandas/core/frame.py:3505\u001b[0m, in \u001b[0;36mDataFrame.__getitem__\u001b[0;34m(self, key)\u001b[0m\n\u001b[1;32m   3503\u001b[0m \u001b[38;5;28;01mif\u001b[39;00m \u001b[38;5;28mself\u001b[39m\u001b[38;5;241m.\u001b[39mcolumns\u001b[38;5;241m.\u001b[39mnlevels \u001b[38;5;241m>\u001b[39m \u001b[38;5;241m1\u001b[39m:\n\u001b[1;32m   3504\u001b[0m     \u001b[38;5;28;01mreturn\u001b[39;00m \u001b[38;5;28mself\u001b[39m\u001b[38;5;241m.\u001b[39m_getitem_multilevel(key)\n\u001b[0;32m-> 3505\u001b[0m indexer \u001b[38;5;241m=\u001b[39m \u001b[38;5;28;43mself\u001b[39;49m\u001b[38;5;241;43m.\u001b[39;49m\u001b[43mcolumns\u001b[49m\u001b[38;5;241;43m.\u001b[39;49m\u001b[43mget_loc\u001b[49m\u001b[43m(\u001b[49m\u001b[43mkey\u001b[49m\u001b[43m)\u001b[49m\n\u001b[1;32m   3506\u001b[0m \u001b[38;5;28;01mif\u001b[39;00m is_integer(indexer):\n\u001b[1;32m   3507\u001b[0m     indexer \u001b[38;5;241m=\u001b[39m [indexer]\n",
      "File \u001b[0;32m~/opt/miniconda3/lib/python3.9/site-packages/pandas/core/indexes/base.py:3623\u001b[0m, in \u001b[0;36mIndex.get_loc\u001b[0;34m(self, key, method, tolerance)\u001b[0m\n\u001b[1;32m   3621\u001b[0m     \u001b[38;5;28;01mreturn\u001b[39;00m \u001b[38;5;28mself\u001b[39m\u001b[38;5;241m.\u001b[39m_engine\u001b[38;5;241m.\u001b[39mget_loc(casted_key)\n\u001b[1;32m   3622\u001b[0m \u001b[38;5;28;01mexcept\u001b[39;00m \u001b[38;5;167;01mKeyError\u001b[39;00m \u001b[38;5;28;01mas\u001b[39;00m err:\n\u001b[0;32m-> 3623\u001b[0m     \u001b[38;5;28;01mraise\u001b[39;00m \u001b[38;5;167;01mKeyError\u001b[39;00m(key) \u001b[38;5;28;01mfrom\u001b[39;00m \u001b[38;5;21;01merr\u001b[39;00m\n\u001b[1;32m   3624\u001b[0m \u001b[38;5;28;01mexcept\u001b[39;00m \u001b[38;5;167;01mTypeError\u001b[39;00m:\n\u001b[1;32m   3625\u001b[0m     \u001b[38;5;66;03m# If we have a listlike key, _check_indexing_error will raise\u001b[39;00m\n\u001b[1;32m   3626\u001b[0m     \u001b[38;5;66;03m#  InvalidIndexError. Otherwise we fall through and re-raise\u001b[39;00m\n\u001b[1;32m   3627\u001b[0m     \u001b[38;5;66;03m#  the TypeError.\u001b[39;00m\n\u001b[1;32m   3628\u001b[0m     \u001b[38;5;28mself\u001b[39m\u001b[38;5;241m.\u001b[39m_check_indexing_error(key)\n",
      "\u001b[0;31mKeyError\u001b[0m: 'word'"
     ]
    }
   ],
   "source": [
    "# the words in question\n",
    "pd.DataFrame(df_mouse.loc[l2dis_idx].explode('l2dismisses')['l2dismisses'].to_list())['word'].unique()"
   ]
  },
  {
   "cell_type": "markdown",
   "id": "e24c141d-c46d-4f32-97bd-b5d19a651268",
   "metadata": {},
   "source": [
    "# in semi conclusion. Can do counts, can't tell exactly when they used the features. Neither through time stamps or from context\n",
    "# could use some joins to figure it out...\n",
    "## start with concrete numbers/results/plots and then decide if further effort will even be worth it. "
   ]
  },
  {
   "cell_type": "code",
   "execution_count": null,
   "id": "53d9f74d-ff72-4a82-a479-10f13a905aae",
   "metadata": {},
   "outputs": [],
   "source": []
  }
 ],
 "metadata": {
  "kernelspec": {
   "display_name": "Python 3 (ipykernel)",
   "language": "python",
   "name": "python3"
  },
  "language_info": {
   "codemirror_mode": {
    "name": "ipython",
    "version": 3
   },
   "file_extension": ".py",
   "mimetype": "text/x-python",
   "name": "python",
   "nbconvert_exporter": "python",
   "pygments_lexer": "ipython3",
   "version": "3.9.5"
  }
 },
 "nbformat": 4,
 "nbformat_minor": 5
}
