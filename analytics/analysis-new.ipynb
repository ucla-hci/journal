{
 "cells": [
  {
   "cell_type": "markdown",
   "id": "42b6cb06-b024-4b46-9fb6-084f36200906",
   "metadata": {},
   "source": [
    "# NEW VERSION TO HANDLE CHANGES IN LOGGING"
   ]
  },
  {
   "cell_type": "code",
   "execution_count": 50,
   "id": "33179056-c6c4-4d9f-8daf-20e57c3b27c9",
   "metadata": {},
   "outputs": [],
   "source": [
    "import pandas as pd\n",
    "import numpy as np\n",
    "import json\n",
    "import time\n",
    "import re\n",
    "import matplotlib.pyplot as plt\n",
    "\n",
    "from datetime import datetime\n",
    "\n",
    "filename = 'reports/report3.json'"
   ]
  },
  {
   "cell_type": "code",
   "execution_count": 51,
   "id": "6793a026-69e5-40d4-8a62-48ca28dbcce7",
   "metadata": {},
   "outputs": [],
   "source": [
    "with open(filename, encoding=\"utf-8\") as f:\n",
    "    target = f.read()"
   ]
  },
  {
   "cell_type": "code",
   "execution_count": 57,
   "id": "5abe8e52-e8f4-4f91-bf45-2e757fae504c",
   "metadata": {
    "tags": []
   },
   "outputs": [
    {
     "name": "stdout",
     "output_type": "stream",
     "text": [
      "Start Time: 2022-07-10 23:25:03.072000\n"
     ]
    }
   ],
   "source": [
    "data = json.loads(target)\n",
    "note_number = '4'\n",
    "\n",
    "data[note_number]['data']['title']\n",
    "data[note_number]['data']['content']\n",
    "# start time\n",
    "tstamp = data[note_number]['data']['key'][0]['timestamp']\n",
    "print(\"Start Time: {}\".format(datetime.fromtimestamp((tstamp)/1000.0)))"
   ]
  },
  {
   "cell_type": "markdown",
   "id": "c279aa97-9ca9-4571-beb9-f11ed203dca8",
   "metadata": {},
   "source": [
    "## Writing Length (Words Count)"
   ]
  },
  {
   "cell_type": "code",
   "execution_count": 70,
   "id": "9a3ada76-3fe5-450f-97c1-5ebf8c8180ed",
   "metadata": {},
   "outputs": [
    {
     "name": "stdout",
     "output_type": "stream",
     "text": [
      "Note length: 50 characters\n",
      "Note length: 8 words\n"
     ]
    }
   ],
   "source": [
    "content = data[note_number]['data']['content'].strip()\n",
    "print(f\"Note length: {len(content)} characters\")\n",
    "print(f\"Note length: {len(content.split(' '))} words\")"
   ]
  },
  {
   "cell_type": "markdown",
   "id": "f81d3ed6-58e8-4b19-b466-f5c68e34a695",
   "metadata": {},
   "source": [
    "## Writing Content"
   ]
  },
  {
   "cell_type": "code",
   "execution_count": 71,
   "id": "d45644e3-e0e5-4744-b580-4f76606c49d8",
   "metadata": {},
   "outputs": [
    {
     "name": "stdout",
     "output_type": "stream",
     "text": [
      "Full note:\n",
      "use this note to check dismisses.\n",
      "plan to kill\n",
      "bad\n"
     ]
    }
   ],
   "source": [
    "# text\n",
    "print(\"Full note:\")\n",
    "print(content)\n",
    "words_in_note = re.sub(r'[^\\w\\s]', '', content).lower().split(' ')"
   ]
  },
  {
   "cell_type": "code",
   "execution_count": 7,
   "id": "0dcc7de7-8dff-4059-8c2c-2cb1c8882510",
   "metadata": {},
   "outputs": [
    {
     "name": "stdout",
     "output_type": "stream",
     "text": [
      "/Users/royjara/dev/hci_lab/journal/dict/pickled-dict-full.pkl\n"
     ]
    }
   ],
   "source": [
    "import os\n",
    "from pathlib import Path\n",
    "\n",
    "pkl_file = Path(os.getcwd())\n",
    "pkl_file = pkl_file.parents[0] / 'dict' / 'pickled-dict-full.pkl'\n",
    "print(pkl_file)\n",
    "\n",
    "unpickle_dict = pd.read_pickle(pkl_file)\n",
    "expanded = unpickle_dict.explode('wordnet_ext').reset_index(drop=True)\n",
    "expanded = expanded.explode('phrase_ext').reset_index(drop=True)"
   ]
  },
  {
   "cell_type": "code",
   "execution_count": 8,
   "id": "46fb8cf9-8af3-46dd-941c-05cfd7a0bab3",
   "metadata": {},
   "outputs": [],
   "source": [
    "expanded['Word'] = expanded['Word'].str.strip()\n",
    "expanded['wordnet_ext'] = expanded['wordnet_ext'].str.strip()\n",
    "expanded['phrase_ext'] = expanded['phrase_ext'].str.strip()"
   ]
  },
  {
   "cell_type": "code",
   "execution_count": 9,
   "id": "a1752785-5277-440b-86dd-2745776b1387",
   "metadata": {},
   "outputs": [],
   "source": [
    "target_words = pd.unique(expanded['Word'].dropna().apply(lambda x: x.strip()))\n",
    "target_words = np.append(target_words, pd.unique(expanded['wordnet_ext'].dropna().apply(lambda x: x.strip())))\n",
    "target_words = np.append(target_words, pd.unique(expanded['phrase_ext'].dropna().apply(lambda x: x.strip())))"
   ]
  },
  {
   "cell_type": "code",
   "execution_count": 10,
   "id": "18e8879d-232f-4925-9254-b085baba4bd8",
   "metadata": {
    "tags": []
   },
   "outputs": [],
   "source": [
    "def get_ngram(alist, n):# {\n",
    "    holder = []\n",
    "    for i in range(len(alist) - (n-1)): \n",
    "        temp = alist[i]\n",
    "        for j in range(1,n):\n",
    "            temp = temp+ \" \" + alist[i + j]\n",
    "        holder.append(temp)\n",
    "    return holder"
   ]
  },
  {
   "cell_type": "code",
   "execution_count": 11,
   "id": "4aba3498-1859-40f7-9611-98733b1ed38c",
   "metadata": {},
   "outputs": [],
   "source": [
    "words_to_analyze = words_in_note + get_ngram(words_in_note, 2)\n",
    "words_to_analyze = words_to_analyze + get_ngram(words_in_note, 3)"
   ]
  },
  {
   "cell_type": "code",
   "execution_count": 12,
   "id": "bb0a4073-b20c-4ed3-99f2-8621bdf271de",
   "metadata": {
    "tags": []
   },
   "outputs": [],
   "source": [
    "filtered_content = [x for x in words_to_analyze if x in target_words]"
   ]
  },
  {
   "cell_type": "code",
   "execution_count": 13,
   "id": "537d44dd-9b4b-476e-9e6d-241fda8b8f5a",
   "metadata": {},
   "outputs": [
    {
     "name": "stdout",
     "output_type": "stream",
     "text": [
      "results: {'L2a': 1, 'L2b': 3, 'L2e': 9, 'L2f': 3}\n"
     ]
    }
   ],
   "source": [
    "cat_dict = {}\n",
    "\n",
    "for word in filtered_content:\n",
    "    # find category it belongs to\n",
    "    res = expanded[expanded['Word'].str.fullmatch(word, na=False) ]\n",
    "    cat = ''\n",
    "    if len(res) > 0:\n",
    "        cat = res['Strategy No.'].values[0]\n",
    "        # print(cat)\n",
    "    else:\n",
    "        res = expanded[expanded['wordnet_ext'].str.fullmatch(word, na=False) ]\n",
    "        if len(res) > 0:\n",
    "            cat = res['Strategy No.'].values[0]\n",
    "            # print(cat)\n",
    "        else:\n",
    "            res = expanded[expanded['phrase_ext'].str.fullmatch(word, na=False) ]\n",
    "            if len(res) > 0:\n",
    "                cat = res['Strategy No.'].values[0]\n",
    "                # print(cat)\n",
    "            else: \n",
    "                pass\n",
    "                # print('not found')\n",
    "            \n",
    "    # print('*********************************')\n",
    "    \n",
    "    if cat in cat_dict.keys():\n",
    "        cat_dict[cat]+=1\n",
    "    else:\n",
    "        cat_dict[cat] = 1\n",
    "\n",
    "cat_dict = dict(sorted(cat_dict.items()))\n",
    "\n",
    "print(f\"results: {cat_dict}\")"
   ]
  },
  {
   "cell_type": "code",
   "execution_count": 14,
   "id": "a6251309-8ed9-4ffd-9e87-b2b06322f97a",
   "metadata": {},
   "outputs": [
    {
     "data": {
      "text/plain": [
       "([<matplotlib.axis.XTick at 0x7f958fb71be0>,\n",
       "  <matplotlib.axis.XTick at 0x7f958fb71a30>,\n",
       "  <matplotlib.axis.XTick at 0x7f958fba4820>,\n",
       "  <matplotlib.axis.XTick at 0x7f958f9cd3a0>],\n",
       " [Text(0, 0, 'L2a'), Text(1, 0, 'L2b'), Text(2, 0, 'L2e'), Text(3, 0, 'L2f')])"
      ]
     },
     "execution_count": 14,
     "metadata": {},
     "output_type": "execute_result"
    },
    {
     "data": {
      "image/png": "[encoded data removed]",
      "text/plain": [
       "<Figure size 432x288 with 1 Axes>"
      ]
     },
     "metadata": {
      "needs_background": "light"
     },
     "output_type": "display_data"
    }
   ],
   "source": [
    "plt.bar(range(len(cat_dict)), list(cat_dict.values()), align='center')\n",
    "plt.xticks(range(len(cat_dict)), list(cat_dict.keys()))"
   ]
  },
  {
   "cell_type": "markdown",
   "id": "5171ce94-7e5c-4942-a026-b1ad19d28a09",
   "metadata": {},
   "source": [
    "## Writing Behavior\n",
    "\n",
    "JS EVT TIMESTAMP ==> TIME IN MILLISECONDS!\n",
    "\n",
    "\n",
    "Analysis approach:\n",
    "- no need to know actual time, just the difference between events\n",
    "- plot the timestamps in the same order as indices.\n",
    "- then bundle up all the rising ones as one session\n",
    "- then analyze per session and combine!"
   ]
  },
  {
   "cell_type": "code",
   "execution_count": 15,
   "id": "ec45a9ed-5f04-45c9-8be5-dbfd226bf77e",
   "metadata": {},
   "outputs": [
    {
     "data": {
      "text/plain": [
       "<AxesSubplot:>"
      ]
     },
     "execution_count": 15,
     "metadata": {},
     "output_type": "execute_result"
    },
    {
     "data": {
      "image/png": "[encoded data removed]",
      "text/plain": [
       "<Figure size 432x288 with 1 Axes>"
      ]
     },
     "metadata": {
      "needs_background": "light"
     },
     "output_type": "display_data"
    }
   ],
   "source": [
    "df = pd.DataFrame(data[note_number]['data']['key'])\n",
    "df = df.drop([0])\n",
    "df[\"timestamp\"].plot()"
   ]
  },
  {
   "cell_type": "code",
   "execution_count": 16,
   "id": "1526cb70-48e3-4500-acaa-cfd0ddce4390",
   "metadata": {},
   "outputs": [
    {
     "data": {
      "text/html": [
       "<div>\n",
       "<style scoped>\n",
       "    .dataframe tbody tr th:only-of-type {\n",
       "        vertical-align: middle;\n",
       "    }\n",
       "\n",
       "    .dataframe tbody tr th {\n",
       "        vertical-align: top;\n",
       "    }\n",
       "\n",
       "    .dataframe thead th {\n",
       "        text-align: right;\n",
       "    }\n",
       "</style>\n",
       "<table border=\"1\" class=\"dataframe\">\n",
       "  <thead>\n",
       "    <tr style=\"text-align: right;\">\n",
       "      <th></th>\n",
       "      <th>text</th>\n",
       "      <th>cursor</th>\n",
       "      <th>timestamp</th>\n",
       "      <th>session_id</th>\n",
       "      <th>timestamp_diff</th>\n",
       "      <th>pauses</th>\n",
       "    </tr>\n",
       "  </thead>\n",
       "  <tbody>\n",
       "    <tr>\n",
       "      <th>280</th>\n",
       "      <td>Today was a fine day. I went out with my frien...</td>\n",
       "      <td>{'line': 0, 'ch': 210, 'sticky': None}</td>\n",
       "      <td>71324</td>\n",
       "      <td>0</td>\n",
       "      <td>6496.0</td>\n",
       "      <td>1</td>\n",
       "    </tr>\n",
       "    <tr>\n",
       "      <th>412</th>\n",
       "      <td>Today was a fine day. I went out with my frien...</td>\n",
       "      <td>{'line': 0, 'ch': 253, 'sticky': None}</td>\n",
       "      <td>102784</td>\n",
       "      <td>0</td>\n",
       "      <td>6005.0</td>\n",
       "      <td>1</td>\n",
       "    </tr>\n",
       "    <tr>\n",
       "      <th>529</th>\n",
       "      <td>Today was a fine day. I went out with my frien...</td>\n",
       "      <td>{'line': 0, 'ch': 339, 'sticky': None}</td>\n",
       "      <td>126398</td>\n",
       "      <td>0</td>\n",
       "      <td>4576.0</td>\n",
       "      <td>1</td>\n",
       "    </tr>\n",
       "  </tbody>\n",
       "</table>\n",
       "</div>"
      ],
      "text/plain": [
       "                                                  text  \\\n",
       "280  Today was a fine day. I went out with my frien...   \n",
       "412  Today was a fine day. I went out with my frien...   \n",
       "529  Today was a fine day. I went out with my frien...   \n",
       "\n",
       "                                     cursor  timestamp  session_id  \\\n",
       "280  {'line': 0, 'ch': 210, 'sticky': None}      71324           0   \n",
       "412  {'line': 0, 'ch': 253, 'sticky': None}     102784           0   \n",
       "529  {'line': 0, 'ch': 339, 'sticky': None}     126398           0   \n",
       "\n",
       "     timestamp_diff  pauses  \n",
       "280          6496.0       1  \n",
       "412          6005.0       1  \n",
       "529          4576.0       1  "
      ]
     },
     "execution_count": 16,
     "metadata": {},
     "output_type": "execute_result"
    }
   ],
   "source": [
    "df['timestamp_diff'] = df['timestamp'].diff()\n",
    "df['session_id'] = df.apply(lambda row: 1 if row['timestamp_diff'] < 0 else 0, axis=1).cumsum()\n",
    "df['pauses'] = df.apply(lambda row: 1 if row['timestamp_diff'] > 3000 else 0, axis=1)\n",
    "df[['text', 'cursor', 'timestamp', 'session_id', 'timestamp_diff', 'pauses']][df['pauses']==1].head(3)"
   ]
  },
  {
   "cell_type": "code",
   "execution_count": 17,
   "id": "5c117583-08fc-4ecc-880f-25700eb85edb",
   "metadata": {
    "tags": []
   },
   "outputs": [],
   "source": [
    "pause_list = df.index[df['pauses'] == 1].tolist()"
   ]
  },
  {
   "cell_type": "code",
   "execution_count": 18,
   "id": "e8b35995-ef9f-4b78-a17c-c808d23c707c",
   "metadata": {},
   "outputs": [
    {
     "data": {
      "text/plain": [
       "[<matplotlib.lines.Line2D at 0x7f9591b53d00>,\n",
       " <matplotlib.lines.Line2D at 0x7f9591c50fa0>,\n",
       " <matplotlib.lines.Line2D at 0x7f9591c5a3a0>,\n",
       " <matplotlib.lines.Line2D at 0x7f9591c5a700>,\n",
       " <matplotlib.lines.Line2D at 0x7f9591c5aa60>,\n",
       " <matplotlib.lines.Line2D at 0x7f9591c50ca0>,\n",
       " <matplotlib.lines.Line2D at 0x7f9591b53400>,\n",
       " <matplotlib.lines.Line2D at 0x7f9591c1ebe0>,\n",
       " <matplotlib.lines.Line2D at 0x7f9591c5adf0>,\n",
       " <matplotlib.lines.Line2D at 0x7f9591c681f0>,\n",
       " <matplotlib.lines.Line2D at 0x7f9591c68550>]"
      ]
     },
     "execution_count": 18,
     "metadata": {},
     "output_type": "execute_result"
    },
    {
     "data": {
      "image/png": "[encoded data removed]",
      "text/plain": [
       "<Figure size 432x288 with 1 Axes>"
      ]
     },
     "metadata": {
      "needs_background": "light"
     },
     "output_type": "display_data"
    }
   ],
   "source": [
    "df[\"timestamp\"].plot()\n",
    "[plt.axvline(_x, linewidth=0.2, color='r') for _x in pause_list]\n",
    "# missing ax labels (x-keystroke event, y-timestamp) \n",
    "# larger size\n",
    "# red overlay lines represent pauses\n",
    "# big drop is the resetting of the session --> could be adjusted to make continuous. \n",
    "# idk if there is any value in displaying the sessions"
   ]
  },
  {
   "cell_type": "code",
   "execution_count": 19,
   "id": "92a37dba-c3af-4645-ae65-090ea5c14494",
   "metadata": {},
   "outputs": [
    {
     "name": "stdout",
     "output_type": "stream",
     "text": [
      "Writing duration 7.48 minutes\n"
     ]
    }
   ],
   "source": [
    "# writing duration -- aggregate per session_id and add results\n",
    "a = df.groupby('session_id')['timestamp'].max()\n",
    "print(f\"Writing duration {(a.sum()/1000)/60:.2f} minutes\")"
   ]
  },
  {
   "cell_type": "code",
   "execution_count": 20,
   "id": "dd766f38-376e-4256-92e2-170a6e8a694c",
   "metadata": {},
   "outputs": [],
   "source": [
    "# save to csv for further inspection.\n",
    "df[['text', 'cursor', 'timestamp', 'session_id', 'timestamp_diff', 'pauses']][df['pauses']==1].to_csv('pauses.csv')"
   ]
  },
  {
   "cell_type": "markdown",
   "id": "37de1e9e-4fbd-4ceb-aab6-205524d28f74",
   "metadata": {},
   "source": [
    "## Interactions with features\n",
    "\n",
    "Simplify!\n",
    "- separate into groups of interactions (columns): dismisses, accepts, l2dismisses\n",
    "- but at the same time (before or after) \n",
    "- find unique for both \n",
    "\n",
    "- Marks can be either placeholder (L1/L3) or highlights (L2)\n",
    "- dismisses are the L1/L3 dismisses\n",
    "- accepts are the L1/L3 accepts\n",
    "- l2dismisses are the \n",
    "- placeholder only relevant if marks has placeholder"
   ]
  },
  {
   "cell_type": "code",
   "execution_count": 24,
   "id": "93c06708-85d9-45b9-92ae-cdd0777a23d7",
   "metadata": {},
   "outputs": [
    {
     "data": {
      "text/plain": [
       "dict_keys(['title', 'content', 'date', 'flag', 'marks', 'mouse', 'key', 'sidebar', 'popup', 'toggle', 'dismiss', 'accept', 'dismisslist'])"
      ]
     },
     "execution_count": 24,
     "metadata": {},
     "output_type": "execute_result"
    }
   ],
   "source": [
    "data[note_number]['data'].keys()"
   ]
  },
  {
   "cell_type": "code",
   "execution_count": 58,
   "id": "4d7ff0fb-3f19-4e28-8ac7-a5b7263aa284",
   "metadata": {},
   "outputs": [
    {
     "data": {
      "text/html": [
       "<div>\n",
       "<style scoped>\n",
       "    .dataframe tbody tr th:only-of-type {\n",
       "        vertical-align: middle;\n",
       "    }\n",
       "\n",
       "    .dataframe tbody tr th {\n",
       "        vertical-align: top;\n",
       "    }\n",
       "\n",
       "    .dataframe thead th {\n",
       "        text-align: right;\n",
       "    }\n",
       "</style>\n",
       "<table border=\"1\" class=\"dataframe\">\n",
       "  <thead>\n",
       "    <tr style=\"text-align: right;\">\n",
       "      <th></th>\n",
       "      <th>timestamp</th>\n",
       "      <th>type</th>\n",
       "      <th>word</th>\n",
       "      <th>state</th>\n",
       "      <th>duration</th>\n",
       "    </tr>\n",
       "  </thead>\n",
       "  <tbody>\n",
       "    <tr>\n",
       "      <th>0</th>\n",
       "      <td>1657520703072</td>\n",
       "      <td>start</td>\n",
       "      <td>NaN</td>\n",
       "      <td>NaN</td>\n",
       "      <td>NaN</td>\n",
       "    </tr>\n",
       "    <tr>\n",
       "      <th>1</th>\n",
       "      <td>29846</td>\n",
       "      <td>sidebar</td>\n",
       "      <td>should</td>\n",
       "      <td>start</td>\n",
       "      <td>NaN</td>\n",
       "    </tr>\n",
       "    <tr>\n",
       "      <th>2</th>\n",
       "      <td>30843</td>\n",
       "      <td>sidebar</td>\n",
       "      <td>NaN</td>\n",
       "      <td>stop</td>\n",
       "      <td>1006.0</td>\n",
       "    </tr>\n",
       "    <tr>\n",
       "      <th>3</th>\n",
       "      <td>60731</td>\n",
       "      <td>sidebar</td>\n",
       "      <td>kill</td>\n",
       "      <td>start</td>\n",
       "      <td>NaN</td>\n",
       "    </tr>\n",
       "    <tr>\n",
       "      <th>4</th>\n",
       "      <td>63380</td>\n",
       "      <td>sidebar</td>\n",
       "      <td>NaN</td>\n",
       "      <td>stop</td>\n",
       "      <td>2650.0</td>\n",
       "    </tr>\n",
       "    <tr>\n",
       "      <th>5</th>\n",
       "      <td>77483</td>\n",
       "      <td>sidebar</td>\n",
       "      <td>bad</td>\n",
       "      <td>start</td>\n",
       "      <td>NaN</td>\n",
       "    </tr>\n",
       "    <tr>\n",
       "      <th>6</th>\n",
       "      <td>79056</td>\n",
       "      <td>sidebar</td>\n",
       "      <td>NaN</td>\n",
       "      <td>stop</td>\n",
       "      <td>1582.0</td>\n",
       "    </tr>\n",
       "  </tbody>\n",
       "</table>\n",
       "</div>"
      ],
      "text/plain": [
       "       timestamp     type    word  state  duration\n",
       "0  1657520703072    start     NaN    NaN       NaN\n",
       "1          29846  sidebar  should  start       NaN\n",
       "2          30843  sidebar     NaN   stop    1006.0\n",
       "3          60731  sidebar    kill  start       NaN\n",
       "4          63380  sidebar     NaN   stop    2650.0\n",
       "5          77483  sidebar     bad  start       NaN\n",
       "6          79056  sidebar     NaN   stop    1582.0"
      ]
     },
     "execution_count": 58,
     "metadata": {},
     "output_type": "execute_result"
    }
   ],
   "source": [
    "pd.DataFrame(data[note_number]['data']['sidebar'])"
   ]
  },
  {
   "cell_type": "code",
   "execution_count": 59,
   "id": "54239c30-2cd8-4be8-b59b-163d7be53bb2",
   "metadata": {},
   "outputs": [
    {
     "data": {
      "text/html": [
       "<div>\n",
       "<style scoped>\n",
       "    .dataframe tbody tr th:only-of-type {\n",
       "        vertical-align: middle;\n",
       "    }\n",
       "\n",
       "    .dataframe tbody tr th {\n",
       "        vertical-align: top;\n",
       "    }\n",
       "\n",
       "    .dataframe thead th {\n",
       "        text-align: right;\n",
       "    }\n",
       "</style>\n",
       "<table border=\"1\" class=\"dataframe\">\n",
       "  <thead>\n",
       "    <tr style=\"text-align: right;\">\n",
       "      <th></th>\n",
       "      <th>timestamp</th>\n",
       "      <th>type</th>\n",
       "      <th>word</th>\n",
       "      <th>popup_title</th>\n",
       "      <th>state</th>\n",
       "      <th>duration</th>\n",
       "    </tr>\n",
       "  </thead>\n",
       "  <tbody>\n",
       "    <tr>\n",
       "      <th>0</th>\n",
       "      <td>1657520703072</td>\n",
       "      <td>start</td>\n",
       "      <td>NaN</td>\n",
       "      <td>NaN</td>\n",
       "      <td>NaN</td>\n",
       "      <td>NaN</td>\n",
       "    </tr>\n",
       "    <tr>\n",
       "      <th>1</th>\n",
       "      <td>29090</td>\n",
       "      <td>popup</td>\n",
       "      <td>should</td>\n",
       "      <td>Should Statment</td>\n",
       "      <td>start</td>\n",
       "      <td>NaN</td>\n",
       "    </tr>\n",
       "    <tr>\n",
       "      <th>2</th>\n",
       "      <td>29846</td>\n",
       "      <td>popup</td>\n",
       "      <td>NaN</td>\n",
       "      <td>NaN</td>\n",
       "      <td>stop</td>\n",
       "      <td>760.0</td>\n",
       "    </tr>\n",
       "    <tr>\n",
       "      <th>3</th>\n",
       "      <td>60013</td>\n",
       "      <td>popup</td>\n",
       "      <td>kill</td>\n",
       "      <td>None</td>\n",
       "      <td>start</td>\n",
       "      <td>NaN</td>\n",
       "    </tr>\n",
       "    <tr>\n",
       "      <th>4</th>\n",
       "      <td>60731</td>\n",
       "      <td>popup</td>\n",
       "      <td>NaN</td>\n",
       "      <td>NaN</td>\n",
       "      <td>stop</td>\n",
       "      <td>720.0</td>\n",
       "    </tr>\n",
       "    <tr>\n",
       "      <th>5</th>\n",
       "      <td>76733</td>\n",
       "      <td>popup</td>\n",
       "      <td>bad</td>\n",
       "      <td>Judgment</td>\n",
       "      <td>start</td>\n",
       "      <td>NaN</td>\n",
       "    </tr>\n",
       "    <tr>\n",
       "      <th>6</th>\n",
       "      <td>77483</td>\n",
       "      <td>popup</td>\n",
       "      <td>NaN</td>\n",
       "      <td>NaN</td>\n",
       "      <td>stop</td>\n",
       "      <td>753.0</td>\n",
       "    </tr>\n",
       "  </tbody>\n",
       "</table>\n",
       "</div>"
      ],
      "text/plain": [
       "       timestamp   type    word      popup_title  state  duration\n",
       "0  1657520703072  start     NaN              NaN    NaN       NaN\n",
       "1          29090  popup  should  Should Statment  start       NaN\n",
       "2          29846  popup     NaN              NaN   stop     760.0\n",
       "3          60013  popup    kill             None  start       NaN\n",
       "4          60731  popup     NaN              NaN   stop     720.0\n",
       "5          76733  popup     bad         Judgment  start       NaN\n",
       "6          77483  popup     NaN              NaN   stop     753.0"
      ]
     },
     "execution_count": 59,
     "metadata": {},
     "output_type": "execute_result"
    }
   ],
   "source": [
    "pd.DataFrame(data[note_number]['data']['popup'])"
   ]
  },
  {
   "cell_type": "code",
   "execution_count": 60,
   "id": "dce433e3-722f-43ae-8df5-282e6792d223",
   "metadata": {},
   "outputs": [
    {
     "data": {
      "text/html": [
       "<div>\n",
       "<style scoped>\n",
       "    .dataframe tbody tr th:only-of-type {\n",
       "        vertical-align: middle;\n",
       "    }\n",
       "\n",
       "    .dataframe tbody tr th {\n",
       "        vertical-align: top;\n",
       "    }\n",
       "\n",
       "    .dataframe thead th {\n",
       "        text-align: right;\n",
       "    }\n",
       "</style>\n",
       "<table border=\"1\" class=\"dataframe\">\n",
       "  <thead>\n",
       "    <tr style=\"text-align: right;\">\n",
       "      <th></th>\n",
       "      <th>timestamp</th>\n",
       "      <th>type</th>\n",
       "      <th>activated</th>\n",
       "    </tr>\n",
       "  </thead>\n",
       "  <tbody>\n",
       "    <tr>\n",
       "      <th>0</th>\n",
       "      <td>1657520703072</td>\n",
       "      <td>start</td>\n",
       "      <td>NaN</td>\n",
       "    </tr>\n",
       "    <tr>\n",
       "      <th>1</th>\n",
       "      <td>27002</td>\n",
       "      <td>toggleL2</td>\n",
       "      <td>True</td>\n",
       "    </tr>\n",
       "  </tbody>\n",
       "</table>\n",
       "</div>"
      ],
      "text/plain": [
       "       timestamp      type activated\n",
       "0  1657520703072     start       NaN\n",
       "1          27002  toggleL2      True"
      ]
     },
     "execution_count": 60,
     "metadata": {},
     "output_type": "execute_result"
    }
   ],
   "source": [
    "pd.DataFrame(data[note_number]['data']['toggle'])"
   ]
  },
  {
   "cell_type": "code",
   "execution_count": 61,
   "id": "168fea96-894e-4980-924c-07c300300e9d",
   "metadata": {},
   "outputs": [
    {
     "data": {
      "text/html": [
       "<div>\n",
       "<style scoped>\n",
       "    .dataframe tbody tr th:only-of-type {\n",
       "        vertical-align: middle;\n",
       "    }\n",
       "\n",
       "    .dataframe tbody tr th {\n",
       "        vertical-align: top;\n",
       "    }\n",
       "\n",
       "    .dataframe thead th {\n",
       "        text-align: right;\n",
       "    }\n",
       "</style>\n",
       "<table border=\"1\" class=\"dataframe\">\n",
       "  <thead>\n",
       "    <tr style=\"text-align: right;\">\n",
       "      <th></th>\n",
       "      <th>timestamp</th>\n",
       "      <th>type</th>\n",
       "      <th>content</th>\n",
       "      <th>marks</th>\n",
       "      <th>suggestion</th>\n",
       "      <th>completed_amount</th>\n",
       "    </tr>\n",
       "  </thead>\n",
       "  <tbody>\n",
       "    <tr>\n",
       "      <th>0</th>\n",
       "      <td>1657520703072</td>\n",
       "      <td>start</td>\n",
       "      <td>NaN</td>\n",
       "      <td>NaN</td>\n",
       "      <td>NaN</td>\n",
       "      <td>NaN</td>\n",
       "    </tr>\n",
       "    <tr>\n",
       "      <th>1</th>\n",
       "      <td>81714</td>\n",
       "      <td>NaN</td>\n",
       "      <td>use this note to check dismisses.\\nplan to kil...</td>\n",
       "      <td>[{'tag': 'L2-highlight', 'from': {'line': 2, '...</td>\n",
       "      <td>Without this judgment, I will</td>\n",
       "      <td>-1.0</td>\n",
       "    </tr>\n",
       "    <tr>\n",
       "      <th>2</th>\n",
       "      <td>86361</td>\n",
       "      <td>NaN</td>\n",
       "      <td>use this note to check dismisses.\\nplan to kil...</td>\n",
       "      <td>[{'tag': 'L2-highlight', 'from': {'line': 2, '...</td>\n",
       "      <td>Without this judgment, I will</td>\n",
       "      <td>4.0</td>\n",
       "    </tr>\n",
       "    <tr>\n",
       "      <th>3</th>\n",
       "      <td>141778</td>\n",
       "      <td>NaN</td>\n",
       "      <td>use this note to check dismisses.\\nplan to kil...</td>\n",
       "      <td>[{'tag': 'L2-highlight', 'from': {'line': 2, '...</td>\n",
       "      <td>Without this judgment, I will</td>\n",
       "      <td>-1.0</td>\n",
       "    </tr>\n",
       "    <tr>\n",
       "      <th>4</th>\n",
       "      <td>173832</td>\n",
       "      <td>NaN</td>\n",
       "      <td>use this note to check dismisses.\\nplan to kil...</td>\n",
       "      <td>[{'tag': 'L2-highlight', 'from': {'line': 2, '...</td>\n",
       "      <td>Beyond judgment, the situation and my feelings...</td>\n",
       "      <td>13.0</td>\n",
       "    </tr>\n",
       "  </tbody>\n",
       "</table>\n",
       "</div>"
      ],
      "text/plain": [
       "       timestamp   type                                            content  \\\n",
       "0  1657520703072  start                                                NaN   \n",
       "1          81714    NaN  use this note to check dismisses.\\nplan to kil...   \n",
       "2          86361    NaN  use this note to check dismisses.\\nplan to kil...   \n",
       "3         141778    NaN  use this note to check dismisses.\\nplan to kil...   \n",
       "4         173832    NaN  use this note to check dismisses.\\nplan to kil...   \n",
       "\n",
       "                                               marks  \\\n",
       "0                                                NaN   \n",
       "1  [{'tag': 'L2-highlight', 'from': {'line': 2, '...   \n",
       "2  [{'tag': 'L2-highlight', 'from': {'line': 2, '...   \n",
       "3  [{'tag': 'L2-highlight', 'from': {'line': 2, '...   \n",
       "4  [{'tag': 'L2-highlight', 'from': {'line': 2, '...   \n",
       "\n",
       "                                          suggestion  completed_amount  \n",
       "0                                                NaN               NaN  \n",
       "1                      Without this judgment, I will              -1.0  \n",
       "2                      Without this judgment, I will               4.0  \n",
       "3                      Without this judgment, I will              -1.0  \n",
       "4  Beyond judgment, the situation and my feelings...              13.0  "
      ]
     },
     "execution_count": 61,
     "metadata": {},
     "output_type": "execute_result"
    }
   ],
   "source": [
    "pd.DataFrame(data[note_number]['data']['dismiss'])"
   ]
  },
  {
   "cell_type": "code",
   "execution_count": 68,
   "id": "b4c6f306-7eda-4b3f-a132-cf625d303788",
   "metadata": {},
   "outputs": [
    {
     "data": {
      "text/html": [
       "<div>\n",
       "<style scoped>\n",
       "    .dataframe tbody tr th:only-of-type {\n",
       "        vertical-align: middle;\n",
       "    }\n",
       "\n",
       "    .dataframe tbody tr th {\n",
       "        vertical-align: top;\n",
       "    }\n",
       "\n",
       "    .dataframe thead th {\n",
       "        text-align: right;\n",
       "    }\n",
       "</style>\n",
       "<table border=\"1\" class=\"dataframe\">\n",
       "  <thead>\n",
       "    <tr style=\"text-align: right;\">\n",
       "      <th></th>\n",
       "      <th>timestamp</th>\n",
       "      <th>type</th>\n",
       "      <th>suggestion</th>\n",
       "      <th>content</th>\n",
       "      <th>marks</th>\n",
       "    </tr>\n",
       "  </thead>\n",
       "  <tbody>\n",
       "    <tr>\n",
       "      <th>0</th>\n",
       "      <td>1657520703072</td>\n",
       "      <td>start</td>\n",
       "      <td>NaN</td>\n",
       "      <td>NaN</td>\n",
       "      <td>NaN</td>\n",
       "    </tr>\n",
       "    <tr>\n",
       "      <th>1</th>\n",
       "      <td>33336</td>\n",
       "      <td>NaN</td>\n",
       "      <td>plan to</td>\n",
       "      <td>use this note to check dismisses.\\nplan to  sh...</td>\n",
       "      <td>[{'tag': 'L2-highlight', 'from': {'line': 1, '...</td>\n",
       "    </tr>\n",
       "    <tr>\n",
       "      <th>4</th>\n",
       "      <td>231130</td>\n",
       "      <td>NaN</td>\n",
       "      <td>Without this judgment, I will</td>\n",
       "      <td>use this note to check dismisses.\\nplan to kil...</td>\n",
       "      <td>[{'tag': 'L2-highlight', 'from': {'line': 2, '...</td>\n",
       "    </tr>\n",
       "  </tbody>\n",
       "</table>\n",
       "</div>"
      ],
      "text/plain": [
       "       timestamp   type                     suggestion  \\\n",
       "0  1657520703072  start                            NaN   \n",
       "1          33336    NaN                        plan to   \n",
       "4         231130    NaN  Without this judgment, I will   \n",
       "\n",
       "                                             content  \\\n",
       "0                                                NaN   \n",
       "1  use this note to check dismisses.\\nplan to  sh...   \n",
       "4  use this note to check dismisses.\\nplan to kil...   \n",
       "\n",
       "                                               marks  \n",
       "0                                                NaN  \n",
       "1  [{'tag': 'L2-highlight', 'from': {'line': 1, '...  \n",
       "4  [{'tag': 'L2-highlight', 'from': {'line': 2, '...  "
      ]
     },
     "execution_count": 68,
     "metadata": {},
     "output_type": "execute_result"
    }
   ],
   "source": [
    "temp = pd.DataFrame(data[note_number]['data']['accept'])\n",
    "temp[temp['suggestion'] != '']"
   ]
  },
  {
   "cell_type": "code",
   "execution_count": 63,
   "id": "db521941-33e7-4f7a-9349-72737cf53312",
   "metadata": {},
   "outputs": [
    {
     "data": {
      "text/html": [
       "<div>\n",
       "<style scoped>\n",
       "    .dataframe tbody tr th:only-of-type {\n",
       "        vertical-align: middle;\n",
       "    }\n",
       "\n",
       "    .dataframe tbody tr th {\n",
       "        vertical-align: top;\n",
       "    }\n",
       "\n",
       "    .dataframe thead th {\n",
       "        text-align: right;\n",
       "    }\n",
       "</style>\n",
       "<table border=\"1\" class=\"dataframe\">\n",
       "  <thead>\n",
       "    <tr style=\"text-align: right;\">\n",
       "      <th></th>\n",
       "    </tr>\n",
       "  </thead>\n",
       "  <tbody>\n",
       "  </tbody>\n",
       "</table>\n",
       "</div>"
      ],
      "text/plain": [
       "Empty DataFrame\n",
       "Columns: []\n",
       "Index: []"
      ]
     },
     "execution_count": 63,
     "metadata": {},
     "output_type": "execute_result"
    }
   ],
   "source": [
    "pd.DataFrame(data[note_number]['data']['dismisslist'])"
   ]
  },
  {
   "cell_type": "code",
   "execution_count": null,
   "id": "c49eca9a-7d51-46a0-98dc-513d8aaa393e",
   "metadata": {},
   "outputs": [],
   "source": []
  }
 ],
 "metadata": {
  "kernelspec": {
   "display_name": "Python 3 (ipykernel)",
   "language": "python",
   "name": "python3"
  },
  "language_info": {
   "codemirror_mode": {
    "name": "ipython",
    "version": 3
   },
   "file_extension": ".py",
   "mimetype": "text/x-python",
   "name": "python",
   "nbconvert_exporter": "python",
   "pygments_lexer": "ipython3",
   "version": "3.9.5"
  }
 },
 "nbformat": 4,
 "nbformat_minor": 5
}
