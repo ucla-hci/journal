{
 "cells": [
  {
   "cell_type": "markdown",
   "id": "42b6cb06-b024-4b46-9fb6-084f36200906",
   "metadata": {},
   "source": [
    "# NEW VERSION TO HANDLE CHANGES IN LOGGING"
   ]
  },
  {
   "cell_type": "code",
   "execution_count": 1,
   "id": "33179056-c6c4-4d9f-8daf-20e57c3b27c9",
   "metadata": {},
   "outputs": [],
   "source": [
    "import pandas as pd\n",
    "import numpy as np\n",
    "import json\n",
    "import time\n",
    "import re\n",
    "import matplotlib.pyplot as plt\n",
    "\n",
    "from datetime import datetime\n",
    "\n",
    "filename = 'reports/report_P6.json'"
   ]
  },
  {
   "cell_type": "code",
   "execution_count": 2,
   "id": "6793a026-69e5-40d4-8a62-48ca28dbcce7",
   "metadata": {},
   "outputs": [],
   "source": [
    "with open(filename, encoding=\"utf-8\") as f:\n",
    "    target = f.read()\n",
    "    data = json.loads(target)"
   ]
  },
  {
   "cell_type": "code",
   "execution_count": 3,
   "id": "9cbe5d02-790b-419c-a9c8-16bc9f29cac4",
   "metadata": {},
   "outputs": [
    {
     "data": {
      "text/plain": [
       "dict_keys(['1', '2', '3', '4', '5'])"
      ]
     },
     "execution_count": 3,
     "metadata": {},
     "output_type": "execute_result"
    }
   ],
   "source": [
    "data.keys()"
   ]
  },
  {
   "cell_type": "code",
   "execution_count": 4,
   "id": "e80022be-5b10-478f-bea1-b5a375b3dd7b",
   "metadata": {},
   "outputs": [
    {
     "name": "stdout",
     "output_type": "stream",
     "text": [
      "keys in note number 1: dict_keys(['title', 'content', 'date', 'flag', 'marks', 'mouse', 'key', 'dismisslist'])\n",
      "data contains new format: False\n",
      "keys in note number 2: dict_keys(['title', 'content', 'date', 'flag', 'marks', 'mouse', 'key', 'sidebar', 'popup', 'toggle', 'dismiss', 'accept', 'dismisslist'])\n",
      "data contains new format: True\n",
      "keys in note number 3: dict_keys(['title', 'content', 'date', 'flag', 'marks', 'mouse', 'key', 'sidebar', 'popup', 'toggle', 'dismiss', 'accept', 'dismisslist'])\n",
      "data contains new format: True\n",
      "keys in note number 4: dict_keys(['title', 'content', 'date', 'flag', 'marks', 'mouse', 'key', 'sidebar', 'popup', 'toggle', 'dismiss', 'accept', 'dismisslist'])\n",
      "data contains new format: True\n",
      "keys in note number 5: dict_keys(['title', 'content', 'date', 'flag', 'marks', 'mouse', 'key', 'sidebar', 'popup', 'toggle', 'dismiss', 'accept', 'dismisslist'])\n",
      "data contains new format: True\n"
     ]
    }
   ],
   "source": [
    "for el in data.keys():\n",
    "    print(f\"keys in note number {el}: {data[el]['data'].keys()}\")\n",
    "    print(f\"data contains new format: {'accept' in data[el]['data'].keys()}\")\n",
    "    #print(f\"keys in note number {el}: {data[el].keys()}\")"
   ]
  },
  {
   "cell_type": "code",
   "execution_count": 5,
   "id": "5abe8e52-e8f4-4f91-bf45-2e757fae504c",
   "metadata": {
    "tags": []
   },
   "outputs": [
    {
     "name": "stdout",
     "output_type": "stream",
     "text": [
      "Happiness is short-lived\n",
      "Start Time: 2022-07-12 03:01:29.941000\n"
     ]
    }
   ],
   "source": [
    "note_number = '2'\n",
    "\n",
    "data[note_number]['data']['title']\n",
    "print(data[note_number]['data']['title'])\n",
    "data[note_number]['data']['content']\n",
    "# start time\n",
    "tstamp = data[note_number]['data']['key'][0]['timestamp']\n",
    "print(\"Start Time: {}\".format(datetime.fromtimestamp((tstamp)/1000.0)))"
   ]
  },
  {
   "cell_type": "markdown",
   "id": "c279aa97-9ca9-4571-beb9-f11ed203dca8",
   "metadata": {},
   "source": [
    "## Writing Length (Words Count)"
   ]
  },
  {
   "cell_type": "code",
   "execution_count": 6,
   "id": "9a3ada76-3fe5-450f-97c1-5ebf8c8180ed",
   "metadata": {},
   "outputs": [
    {
     "name": "stdout",
     "output_type": "stream",
     "text": [
      "Note length: 2180 characters\n",
      "Note length: 421 words\n"
     ]
    }
   ],
   "source": [
    "content = data[note_number]['data']['content'].strip()\n",
    "print(f\"Note length: {len(content)} characters\")\n",
    "print(f\"Note length: {len(content.split(' '))} words\")"
   ]
  },
  {
   "cell_type": "markdown",
   "id": "f81d3ed6-58e8-4b19-b466-f5c68e34a695",
   "metadata": {},
   "source": [
    "## Writing Content"
   ]
  },
  {
   "cell_type": "code",
   "execution_count": 7,
   "id": "d45644e3-e0e5-4744-b580-4f76606c49d8",
   "metadata": {},
   "outputs": [
    {
     "name": "stdout",
     "output_type": "stream",
     "text": [
      "Full note:\n",
      "I got a salary hike recently and I was very happy about it. I had been wanting it since March. I remember I started complaining about unfair pay to me since then considering the amount of work I was doing. I was getting paid less than my coworker. It made me feel neglected and displeased. I thought it was unfair.  They gave me full virtual work and I was happy about it, but soon after I caught myself complaining about the pay and the lack of recognition and appreciation. I started comparing myself with my coworkers and the amount of work they did compared to what I did. I started looking down on them and I think I also started talking a bit rudely with them. I used to also get stressed very easily, I think I also had aches and pains. But soon, I started to let it go, I told myself I need to have more gratitude because I can work virtually but the thought that I should get paid more never went away. Recently now my boss msged me saying they would offer me a salary hike and i was like FINALLY. And i was really happy. Then I had the meeting with her and she offered me 40 K from 30 k and but also told me that I would be required to come to office twice or thrice a week. I agreed to that. I was happy for that day. But today I was thinking that I shouldve been offered 50K considering the amount of work that I am doing. I am handling their accounts with all the 7 companies rigth now. I'm looking after everything. And now i see that Ive started complaining again. The happiness was so short-lived. It was just there for such a short while. Now I am thinking if i should be satisfied and stop complaining? I know I should, but I guess its hard. I want to be happy for longer durations. I think I should really just work on my self development. Get more feedback on my work, get better at therapy!! Get my NET and leave the thought of MPHIL behind maybe? Okay that's something I have to keep thinking about, but the destination is no tthe point. the process is what I need to focus on.I am dissapointed that my happiness lasted only for a short while. But it's okay.  The long-term implications of this can be...that I am more often dissatisfied more than satisfied.\n"
     ]
    }
   ],
   "source": [
    "# text\n",
    "print(\"Full note:\")\n",
    "print(content)\n",
    "words_in_note = re.sub(r'[^\\w\\s]', '', content).lower().split(' ')"
   ]
  },
  {
   "cell_type": "code",
   "execution_count": 8,
   "id": "0dcc7de7-8dff-4059-8c2c-2cb1c8882510",
   "metadata": {},
   "outputs": [
    {
     "name": "stdout",
     "output_type": "stream",
     "text": [
      "/Users/royjara/dev/hci_lab/journal/dict/pickled-dict-full.pkl\n"
     ]
    }
   ],
   "source": [
    "import os\n",
    "from pathlib import Path\n",
    "\n",
    "pkl_file = Path(os.getcwd())\n",
    "pkl_file = pkl_file.parents[0] / 'dict' / 'pickled-dict-full.pkl'\n",
    "print(pkl_file)\n",
    "\n",
    "unpickle_dict = pd.read_pickle(pkl_file)\n",
    "expanded = unpickle_dict.explode('wordnet_ext').reset_index(drop=True)\n",
    "expanded = expanded.explode('phrase_ext').reset_index(drop=True)"
   ]
  },
  {
   "cell_type": "code",
   "execution_count": 9,
   "id": "46fb8cf9-8af3-46dd-941c-05cfd7a0bab3",
   "metadata": {},
   "outputs": [],
   "source": [
    "expanded['Word'] = expanded['Word'].str.strip()\n",
    "expanded['wordnet_ext'] = expanded['wordnet_ext'].str.strip()\n",
    "expanded['phrase_ext'] = expanded['phrase_ext'].str.strip()"
   ]
  },
  {
   "cell_type": "code",
   "execution_count": 10,
   "id": "a1752785-5277-440b-86dd-2745776b1387",
   "metadata": {},
   "outputs": [],
   "source": [
    "target_words = pd.unique(expanded['Word'].dropna().apply(lambda x: x.strip()))\n",
    "target_words = np.append(target_words, pd.unique(expanded['wordnet_ext'].dropna().apply(lambda x: x.strip())))\n",
    "target_words = np.append(target_words, pd.unique(expanded['phrase_ext'].dropna().apply(lambda x: x.strip())))"
   ]
  },
  {
   "cell_type": "code",
   "execution_count": 11,
   "id": "18e8879d-232f-4925-9254-b085baba4bd8",
   "metadata": {
    "tags": []
   },
   "outputs": [],
   "source": [
    "def get_ngram(alist, n):# {\n",
    "    holder = []\n",
    "    for i in range(len(alist) - (n-1)): \n",
    "        temp = alist[i]\n",
    "        for j in range(1,n):\n",
    "            temp = temp+ \" \" + alist[i + j]\n",
    "        holder.append(temp)\n",
    "    return holder"
   ]
  },
  {
   "cell_type": "code",
   "execution_count": 12,
   "id": "4aba3498-1859-40f7-9611-98733b1ed38c",
   "metadata": {},
   "outputs": [],
   "source": [
    "words_to_analyze = words_in_note + get_ngram(words_in_note, 2)\n",
    "words_to_analyze = words_to_analyze + get_ngram(words_in_note, 3)"
   ]
  },
  {
   "cell_type": "code",
   "execution_count": 13,
   "id": "bb0a4073-b20c-4ed3-99f2-8621bdf271de",
   "metadata": {
    "tags": []
   },
   "outputs": [],
   "source": [
    "filtered_content = [x for x in words_to_analyze if x in target_words]"
   ]
  },
  {
   "cell_type": "code",
   "execution_count": 14,
   "id": "537d44dd-9b4b-476e-9e6d-241fda8b8f5a",
   "metadata": {},
   "outputs": [
    {
     "name": "stdout",
     "output_type": "stream",
     "text": [
      "results: {'L2a': 2, 'L2b': 10, 'L2d': 2, 'L2e': 18, 'L2f': 9}\n"
     ]
    }
   ],
   "source": [
    "cat_dict = {}\n",
    "\n",
    "for word in filtered_content:\n",
    "    # find category it belongs to\n",
    "    res = expanded[expanded['Word'].str.fullmatch(word, na=False) ]\n",
    "    cat = ''\n",
    "    if len(res) > 0:\n",
    "        cat = res['Strategy No.'].values[0]\n",
    "        # print(cat)\n",
    "    else:\n",
    "        res = expanded[expanded['wordnet_ext'].str.fullmatch(word, na=False) ]\n",
    "        if len(res) > 0:\n",
    "            cat = res['Strategy No.'].values[0]\n",
    "            # print(cat)\n",
    "        else:\n",
    "            res = expanded[expanded['phrase_ext'].str.fullmatch(word, na=False) ]\n",
    "            if len(res) > 0:\n",
    "                cat = res['Strategy No.'].values[0]\n",
    "                # print(cat)\n",
    "            else: \n",
    "                pass\n",
    "                # print('not found')\n",
    "            \n",
    "    # print('*********************************')\n",
    "    \n",
    "    if cat in cat_dict.keys():\n",
    "        cat_dict[cat]+=1\n",
    "    else:\n",
    "        cat_dict[cat] = 1\n",
    "\n",
    "cat_dict = dict(sorted(cat_dict.items()))\n",
    "\n",
    "print(f\"results: {cat_dict}\")"
   ]
  },
  {
   "cell_type": "code",
   "execution_count": 15,
   "id": "a6251309-8ed9-4ffd-9e87-b2b06322f97a",
   "metadata": {},
   "outputs": [
    {
     "data": {
      "text/plain": [
       "([<matplotlib.axis.XTick at 0x7fb2241e2070>,\n",
       "  <matplotlib.axis.XTick at 0x7fb2241e2040>,\n",
       "  <matplotlib.axis.XTick at 0x7fb2241cdee0>,\n",
       "  <matplotlib.axis.XTick at 0x7fb224235430>,\n",
       "  <matplotlib.axis.XTick at 0x7fb2242350a0>],\n",
       " [Text(0, 0, 'L2a'),\n",
       "  Text(1, 0, 'L2b'),\n",
       "  Text(2, 0, 'L2d'),\n",
       "  Text(3, 0, 'L2e'),\n",
       "  Text(4, 0, 'L2f')])"
      ]
     },
     "execution_count": 15,
     "metadata": {},
     "output_type": "execute_result"
    },
    {
     "data": {
      "image/png": "[encoded data removed]",
      "text/plain": [
       "<Figure size 432x288 with 1 Axes>"
      ]
     },
     "metadata": {
      "needs_background": "light"
     },
     "output_type": "display_data"
    }
   ],
   "source": [
    "plt.bar(range(len(cat_dict)), list(cat_dict.values()), align='center')\n",
    "plt.xticks(range(len(cat_dict)), list(cat_dict.keys()))"
   ]
  },
  {
   "cell_type": "markdown",
   "id": "5171ce94-7e5c-4942-a026-b1ad19d28a09",
   "metadata": {},
   "source": [
    "## Writing Behavior\n",
    "\n",
    "JS EVT TIMESTAMP ==> TIME IN MILLISECONDS!\n",
    "\n",
    "\n",
    "Analysis approach:\n",
    "- no need to know actual time, just the difference between events\n",
    "- plot the timestamps in the same order as indices.\n",
    "- then bundle up all the rising ones as one session\n",
    "- then analyze per session and combine!"
   ]
  },
  {
   "cell_type": "code",
   "execution_count": 16,
   "id": "ec45a9ed-5f04-45c9-8be5-dbfd226bf77e",
   "metadata": {},
   "outputs": [
    {
     "data": {
      "text/plain": [
       "<AxesSubplot:>"
      ]
     },
     "execution_count": 16,
     "metadata": {},
     "output_type": "execute_result"
    },
    {
     "data": {
      "image/png": "[encoded data removed]",
      "text/plain": [
       "<Figure size 432x288 with 1 Axes>"
      ]
     },
     "metadata": {
      "needs_background": "light"
     },
     "output_type": "display_data"
    }
   ],
   "source": [
    "df = pd.DataFrame(data[note_number]['data']['key'])\n",
    "df = df.drop([0])\n",
    "df[\"timestamp\"].plot()"
   ]
  },
  {
   "cell_type": "code",
   "execution_count": 17,
   "id": "1526cb70-48e3-4500-acaa-cfd0ddce4390",
   "metadata": {},
   "outputs": [
    {
     "data": {
      "text/html": [
       "<div>\n",
       "<style scoped>\n",
       "    .dataframe tbody tr th:only-of-type {\n",
       "        vertical-align: middle;\n",
       "    }\n",
       "\n",
       "    .dataframe tbody tr th {\n",
       "        vertical-align: top;\n",
       "    }\n",
       "\n",
       "    .dataframe thead th {\n",
       "        text-align: right;\n",
       "    }\n",
       "</style>\n",
       "<table border=\"1\" class=\"dataframe\">\n",
       "  <thead>\n",
       "    <tr style=\"text-align: right;\">\n",
       "      <th></th>\n",
       "      <th>text</th>\n",
       "      <th>cursor</th>\n",
       "      <th>timestamp</th>\n",
       "      <th>session_id</th>\n",
       "      <th>timestamp_diff</th>\n",
       "      <th>pauses</th>\n",
       "    </tr>\n",
       "  </thead>\n",
       "  <tbody>\n",
       "    <tr>\n",
       "      <th>2</th>\n",
       "      <td></td>\n",
       "      <td>{'line': 0, 'ch': 0, 'sticky': None}</td>\n",
       "      <td>2640828.4</td>\n",
       "      <td>0</td>\n",
       "      <td>18950.4</td>\n",
       "      <td>1</td>\n",
       "    </tr>\n",
       "    <tr>\n",
       "      <th>9</th>\n",
       "      <td></td>\n",
       "      <td>{'line': 0, 'ch': 0, 'sticky': None}</td>\n",
       "      <td>2647175.2</td>\n",
       "      <td>0</td>\n",
       "      <td>4625.4</td>\n",
       "      <td>1</td>\n",
       "    </tr>\n",
       "    <tr>\n",
       "      <th>47</th>\n",
       "      <td>I</td>\n",
       "      <td>{'line': 0, 'ch': 1, 'sticky': None}</td>\n",
       "      <td>2669817.7</td>\n",
       "      <td>0</td>\n",
       "      <td>16507.1</td>\n",
       "      <td>1</td>\n",
       "    </tr>\n",
       "    <tr>\n",
       "      <th>56</th>\n",
       "      <td>I got a s</td>\n",
       "      <td>{'line': 0, 'ch': 9, 'sticky': None}</td>\n",
       "      <td>2674823.0</td>\n",
       "      <td>0</td>\n",
       "      <td>3972.9</td>\n",
       "      <td>1</td>\n",
       "    </tr>\n",
       "    <tr>\n",
       "      <th>208</th>\n",
       "      <td>I got a salary hike recently and I was very ha...</td>\n",
       "      <td>{'line': 0, 'ch': 60, 'sticky': None}</td>\n",
       "      <td>2703027.5</td>\n",
       "      <td>0</td>\n",
       "      <td>3930.6</td>\n",
       "      <td>1</td>\n",
       "    </tr>\n",
       "    <tr>\n",
       "      <th>321</th>\n",
       "      <td>I got a salary hike recently and I was very ha...</td>\n",
       "      <td>{'line': 0, 'ch': 153, 'sticky': None}</td>\n",
       "      <td>2727851.6</td>\n",
       "      <td>0</td>\n",
       "      <td>4060.1</td>\n",
       "      <td>1</td>\n",
       "    </tr>\n",
       "    <tr>\n",
       "      <th>327</th>\n",
       "      <td>I got a salary hike recently and I was very ha...</td>\n",
       "      <td>{'line': 0, 'ch': 157, 'sticky': None}</td>\n",
       "      <td>2738407.5</td>\n",
       "      <td>0</td>\n",
       "      <td>10106.3</td>\n",
       "      <td>1</td>\n",
       "    </tr>\n",
       "    <tr>\n",
       "      <th>537</th>\n",
       "      <td>I got a salary hike recently and I was very ha...</td>\n",
       "      <td>{'line': 0, 'ch': 262, 'sticky': None}</td>\n",
       "      <td>2783302.2</td>\n",
       "      <td>0</td>\n",
       "      <td>16244.5</td>\n",
       "      <td>1</td>\n",
       "    </tr>\n",
       "    <tr>\n",
       "      <th>595</th>\n",
       "      <td>I got a salary hike recently and I was very ha...</td>\n",
       "      <td>{'line': 0, 'ch': 313, 'sticky': None}</td>\n",
       "      <td>2795494.0</td>\n",
       "      <td>0</td>\n",
       "      <td>4379.1</td>\n",
       "      <td>1</td>\n",
       "    </tr>\n",
       "    <tr>\n",
       "      <th>725</th>\n",
       "      <td>I got a salary hike recently and I was very ha...</td>\n",
       "      <td>{'line': 0, 'ch': 386, 'sticky': None}</td>\n",
       "      <td>2826999.5</td>\n",
       "      <td>0</td>\n",
       "      <td>12459.7</td>\n",
       "      <td>1</td>\n",
       "    </tr>\n",
       "  </tbody>\n",
       "</table>\n",
       "</div>"
      ],
      "text/plain": [
       "                                                  text  \\\n",
       "2                                                        \n",
       "9                                                        \n",
       "47                                                   I   \n",
       "56                                           I got a s   \n",
       "208  I got a salary hike recently and I was very ha...   \n",
       "321  I got a salary hike recently and I was very ha...   \n",
       "327  I got a salary hike recently and I was very ha...   \n",
       "537  I got a salary hike recently and I was very ha...   \n",
       "595  I got a salary hike recently and I was very ha...   \n",
       "725  I got a salary hike recently and I was very ha...   \n",
       "\n",
       "                                     cursor  timestamp  session_id  \\\n",
       "2      {'line': 0, 'ch': 0, 'sticky': None}  2640828.4           0   \n",
       "9      {'line': 0, 'ch': 0, 'sticky': None}  2647175.2           0   \n",
       "47     {'line': 0, 'ch': 1, 'sticky': None}  2669817.7           0   \n",
       "56     {'line': 0, 'ch': 9, 'sticky': None}  2674823.0           0   \n",
       "208   {'line': 0, 'ch': 60, 'sticky': None}  2703027.5           0   \n",
       "321  {'line': 0, 'ch': 153, 'sticky': None}  2727851.6           0   \n",
       "327  {'line': 0, 'ch': 157, 'sticky': None}  2738407.5           0   \n",
       "537  {'line': 0, 'ch': 262, 'sticky': None}  2783302.2           0   \n",
       "595  {'line': 0, 'ch': 313, 'sticky': None}  2795494.0           0   \n",
       "725  {'line': 0, 'ch': 386, 'sticky': None}  2826999.5           0   \n",
       "\n",
       "     timestamp_diff  pauses  \n",
       "2           18950.4       1  \n",
       "9            4625.4       1  \n",
       "47          16507.1       1  \n",
       "56           3972.9       1  \n",
       "208          3930.6       1  \n",
       "321          4060.1       1  \n",
       "327         10106.3       1  \n",
       "537         16244.5       1  \n",
       "595          4379.1       1  \n",
       "725         12459.7       1  "
      ]
     },
     "execution_count": 17,
     "metadata": {},
     "output_type": "execute_result"
    }
   ],
   "source": [
    "df['timestamp_diff'] = df['timestamp'].diff()\n",
    "df['session_id'] = df.apply(lambda row: 1 if row['timestamp_diff'] < 0 else 0, axis=1).cumsum()\n",
    "df['pauses'] = df.apply(lambda row: 1 if row['timestamp_diff'] > 3000 else 0, axis=1)\n",
    "df[['text', 'cursor', 'timestamp', 'session_id', 'timestamp_diff', 'pauses']][df['pauses']==1].head(10)"
   ]
  },
  {
   "cell_type": "code",
   "execution_count": 18,
   "id": "5c117583-08fc-4ecc-880f-25700eb85edb",
   "metadata": {
    "tags": []
   },
   "outputs": [
    {
     "name": "stdout",
     "output_type": "stream",
     "text": [
      "3006.201000000477\n"
     ]
    }
   ],
   "source": [
    "pause_list = df.index[df['pauses'] == 1].tolist()\n",
    "# print(df.iloc[pause_list].columns)\n",
    "# print(df.iloc[pause_list][['timestamp', 'text', 'marks', 'placeholder','session_id']].to_dict('records'))\n",
    "print(df.loc[pause_list]['timestamp_diff'].sum()/1000)"
   ]
  },
  {
   "cell_type": "code",
   "execution_count": 19,
   "id": "e8b35995-ef9f-4b78-a17c-c808d23c707c",
   "metadata": {
    "tags": []
   },
   "outputs": [
    {
     "data": {
      "text/plain": [
       "[<matplotlib.lines.Line2D at 0x7fb22446f3d0>,\n",
       " <matplotlib.lines.Line2D at 0x7fb224646d60>,\n",
       " <matplotlib.lines.Line2D at 0x7fb22464c100>,\n",
       " <matplotlib.lines.Line2D at 0x7fb22464c460>,\n",
       " <matplotlib.lines.Line2D at 0x7fb224646b80>,\n",
       " <matplotlib.lines.Line2D at 0x7fb2246463a0>,\n",
       " <matplotlib.lines.Line2D at 0x7fb224637970>,\n",
       " <matplotlib.lines.Line2D at 0x7fb224636820>,\n",
       " <matplotlib.lines.Line2D at 0x7fb22464ca00>,\n",
       " <matplotlib.lines.Line2D at 0x7fb22464cd60>,\n",
       " <matplotlib.lines.Line2D at 0x7fb22465e100>,\n",
       " <matplotlib.lines.Line2D at 0x7fb22465e460>,\n",
       " <matplotlib.lines.Line2D at 0x7fb22465e7c0>,\n",
       " <matplotlib.lines.Line2D at 0x7fb22465eb20>,\n",
       " <matplotlib.lines.Line2D at 0x7fb22465ee80>,\n",
       " <matplotlib.lines.Line2D at 0x7fb22466a220>,\n",
       " <matplotlib.lines.Line2D at 0x7fb22466a580>,\n",
       " <matplotlib.lines.Line2D at 0x7fb22466a8e0>,\n",
       " <matplotlib.lines.Line2D at 0x7fb22466ac40>,\n",
       " <matplotlib.lines.Line2D at 0x7fb22466afd0>,\n",
       " <matplotlib.lines.Line2D at 0x7fb22453c340>,\n",
       " <matplotlib.lines.Line2D at 0x7fb22453c6a0>,\n",
       " <matplotlib.lines.Line2D at 0x7fb22453ca00>,\n",
       " <matplotlib.lines.Line2D at 0x7fb22453cd60>,\n",
       " <matplotlib.lines.Line2D at 0x7fb224547100>,\n",
       " <matplotlib.lines.Line2D at 0x7fb224547460>,\n",
       " <matplotlib.lines.Line2D at 0x7fb2245477c0>,\n",
       " <matplotlib.lines.Line2D at 0x7fb224547b20>,\n",
       " <matplotlib.lines.Line2D at 0x7fb224547e80>,\n",
       " <matplotlib.lines.Line2D at 0x7fb224555220>,\n",
       " <matplotlib.lines.Line2D at 0x7fb224555580>,\n",
       " <matplotlib.lines.Line2D at 0x7fb2245558e0>,\n",
       " <matplotlib.lines.Line2D at 0x7fb224555c40>,\n",
       " <matplotlib.lines.Line2D at 0x7fb224555fd0>,\n",
       " <matplotlib.lines.Line2D at 0x7fb224563340>,\n",
       " <matplotlib.lines.Line2D at 0x7fb2245636a0>,\n",
       " <matplotlib.lines.Line2D at 0x7fb224563a00>,\n",
       " <matplotlib.lines.Line2D at 0x7fb224563d60>,\n",
       " <matplotlib.lines.Line2D at 0x7fb22456d100>,\n",
       " <matplotlib.lines.Line2D at 0x7fb22456d460>,\n",
       " <matplotlib.lines.Line2D at 0x7fb22456d7c0>,\n",
       " <matplotlib.lines.Line2D at 0x7fb22456db20>]"
      ]
     },
     "execution_count": 19,
     "metadata": {},
     "output_type": "execute_result"
    },
    {
     "data": {
      "image/png": "[encoded data removed]",
      "text/plain": [
       "<Figure size 432x288 with 1 Axes>"
      ]
     },
     "metadata": {
      "needs_background": "light"
     },
     "output_type": "display_data"
    }
   ],
   "source": [
    "df[\"timestamp\"].div(1000).round(2).plot()\n",
    "[plt.axvline(_x, linewidth=0.2, color='r') for _x in pause_list]\n",
    "# missing ax labels (x-keystroke event, y-timestamp) \n",
    "# larger size\n",
    "# red overlay lines represent pauses\n",
    "# prev big drop was the resetting of the session --> has been adjusted to make continuous. "
   ]
  },
  {
   "cell_type": "code",
   "execution_count": 20,
   "id": "fd8c527d-f90a-4c81-b8c6-581bb1acfc73",
   "metadata": {
    "tags": []
   },
   "outputs": [],
   "source": [
    "#TODO same plot as above but include all the events that occur\n",
    "# -- interaction with features\n",
    "df_key = pd.DataFrame(data[note_number]['data']['key'])\n",
    "df_toggle =  pd.DataFrame(data[note_number]['data']['toggle'])\n",
    "df_sidebar =  pd.DataFrame(data[note_number]['data']['sidebar'])\n",
    "df_popup =  pd.DataFrame(data[note_number]['data']['popup'])\n",
    "df_dismiss =  pd.DataFrame(data[note_number]['data']['dismiss'])\n",
    "df_accept =  pd.DataFrame(data[note_number]['data']['accept'])\n",
    "\n",
    "# dismiss', 'accept', 'dismisslist"
   ]
  },
  {
   "cell_type": "code",
   "execution_count": 21,
   "id": "c949fdbc-3b68-4fee-8acd-1cfcdb1d8615",
   "metadata": {
    "tags": []
   },
   "outputs": [],
   "source": [
    "df_dismiss = df_dismiss[df_dismiss['type']!='start']\n",
    "df_dismiss = df_dismiss.assign(type = 'dismiss')\n",
    "df_accept = df_accept[df_accept['type']!='start']\n",
    "df_accept = df_accept.assign(type = 'accept')"
   ]
  },
  {
   "cell_type": "code",
   "execution_count": 22,
   "id": "cecc06a9-3bff-4fd8-b25b-44c289881be4",
   "metadata": {},
   "outputs": [
    {
     "ename": "NameError",
     "evalue": "name 'concat1' is not defined",
     "output_type": "error",
     "traceback": [
      "\u001b[0;31m---------------------------------------------------------------------------\u001b[0m",
      "\u001b[0;31mNameError\u001b[0m                                 Traceback (most recent call last)",
      "Input \u001b[0;32mIn [22]\u001b[0m, in \u001b[0;36m<cell line: 1>\u001b[0;34m()\u001b[0m\n\u001b[0;32m----> 1\u001b[0m \u001b[43mconcat1\u001b[49m[concat1[\u001b[38;5;124m'\u001b[39m\u001b[38;5;124mactivated\u001b[39m\u001b[38;5;124m'\u001b[39m]\u001b[38;5;241m.\u001b[39mnotnull()]\n",
      "\u001b[0;31mNameError\u001b[0m: name 'concat1' is not defined"
     ]
    }
   ],
   "source": []
  },
  {
   "cell_type": "code",
   "execution_count": 23,
   "id": "cd5e0f32-0105-4f65-ba25-feb53304ef3b",
   "metadata": {},
   "outputs": [
    {
     "data": {
      "image/png": "[encoded data removed]",
      "text/plain": [
       "<Figure size 432x288 with 1 Axes>"
      ]
     },
     "metadata": {
      "needs_background": "light"
     },
     "output_type": "display_data"
    }
   ],
   "source": [
    "filteredL2 = df_toggle[df_toggle['type']=='toggleL2']\n",
    "concat1 = pd.concat([df_key, filteredL2]).sort_values(by=\"timestamp\")\n",
    "concat1 = concat1[concat1['type']!='start'].reset_index()\n",
    "# L2 on and off\n",
    "L2_toggleOn_list = concat1.index[(concat1['type'] == 'toggleL2') & (concat1['activated'] == True)].tolist()\n",
    "L2_toggleOff_list = concat1.index[(concat1['type'] == 'toggleL2') & (concat1['activated'] == False)].tolist()\n",
    "\n",
    "concat1[\"timestamp\"].round(2).plot() # x-axis: indices, \n",
    "y_max = concat1[\"timestamp\"].max() # /1000\n",
    "\n",
    "for enum, val in enumerate(L2_toggleOn_list):\n",
    "    try:\n",
    "        start_idx = val\n",
    "        end_idx = L2_toggleOff_list[enum]\n",
    "    except IndexError:\n",
    "        end_idx = len(concat1[\"timestamp\"])\n",
    "    # print(f\"start_idx {start_idx}, end_idx: {end_idx}\")\n",
    "    plt.fill_between([x for x in range(start_idx,end_idx)], 0, y_max, color='green', alpha=0.2)"
   ]
  },
  {
   "cell_type": "code",
   "execution_count": 24,
   "id": "cc1bc398-8844-488f-b535-1b2e64a9bbec",
   "metadata": {},
   "outputs": [
    {
     "name": "stdout",
     "output_type": "stream",
     "text": [
      "pop: [3255, 3256, 3489, 3490, 3493, 3495, 3497, 3499, 3501, 3502, 3503, 3504, 3505, 3506, 3507, 3508, 3509, 3510, 3511, 3512, 3513, 3515, 3517, 3518, 3519, 3520, 3521, 3522, 3523, 3524, 3525, 3527, 3529, 3530, 3533, 3534, 3537, 3538, 3539, 3540, 3541, 3542, 3543, 3544, 3545, 3546, 3547, 3548, 3549, 3550, 3551, 3552, 3553, 3554, 3555, 3556, 3557, 3558, 3559, 3560, 3561, 3562, 3563, 3687, 3688, 3700, 3701, 3702, 3703, 3704, 3705, 3710, 3711, 3712, 3713, 3714, 3715]\n",
      " sidebar: [3257, 3258, 3491, 3492, 3494, 3496, 3498, 3500, 3514, 3516, 3526, 3528, 3531, 3532, 3535, 3536, 3707, 3708]\n",
      "\n"
     ]
    },
    {
     "ename": "ValueError",
     "evalue": "markevery=[3255, 3256, 3489, 3490, 3493, 3495, 3497, 3499, 3501, 3502, 3503, 3504, 3505, 3506, 3507, 3508, 3509, 3510, 3511, 3512, 3513, 3515, 3517, 3518, 3519, 3520, 3521, 3522, 3523, 3524, 3525, 3527, 3529, 3530, 3533, 3534, 3537, 3538, 3539, 3540, 3541, 3542, 3543, 3544, 3545, 3546, 3547, 3548, 3549, 3550, 3551, 3552, 3553, 3554, 3555, 3556, 3557, 3558, 3559, 3560, 3561, 3562, 3563, 3687, 3688, 3700, 3701, 3702, 3703, 3704, 3705, 3710, 3711, 3712, 3713, 3714, 3715, 3257, 3258, 3491, 3492, 3494, 3496, 3498, 3500, 3514, 3516, 3526, 3528, 3531, 3532, 3535, 3536, 3707, 3708] is iterable but not a valid numpy fancy index",
     "output_type": "error",
     "traceback": [
      "\u001b[0;31m---------------------------------------------------------------------------\u001b[0m",
      "\u001b[0;31mIndexError\u001b[0m                                Traceback (most recent call last)",
      "File \u001b[0;32m~/opt/miniconda3/lib/python3.9/site-packages/matplotlib/lines.py:189\u001b[0m, in \u001b[0;36m_mark_every_path\u001b[0;34m(markevery, tpath, affine, ax)\u001b[0m\n\u001b[1;32m    188\u001b[0m \u001b[38;5;28;01mtry\u001b[39;00m:\n\u001b[0;32m--> 189\u001b[0m     \u001b[38;5;28;01mreturn\u001b[39;00m Path(\u001b[43mverts\u001b[49m\u001b[43m[\u001b[49m\u001b[43mmarkevery\u001b[49m\u001b[43m]\u001b[49m, _slice_or_none(codes, markevery))\n\u001b[1;32m    190\u001b[0m \u001b[38;5;28;01mexcept\u001b[39;00m (\u001b[38;5;167;01mValueError\u001b[39;00m, \u001b[38;5;167;01mIndexError\u001b[39;00m) \u001b[38;5;28;01mas\u001b[39;00m err:\n",
      "\u001b[0;31mIndexError\u001b[0m: index 3687 is out of bounds for axis 0 with size 3627",
      "\nThe above exception was the direct cause of the following exception:\n",
      "\u001b[0;31mValueError\u001b[0m                                Traceback (most recent call last)",
      "File \u001b[0;32m~/opt/miniconda3/lib/python3.9/site-packages/IPython/core/formatters.py:339\u001b[0m, in \u001b[0;36mBaseFormatter.__call__\u001b[0;34m(self, obj)\u001b[0m\n\u001b[1;32m    337\u001b[0m     \u001b[38;5;28;01mpass\u001b[39;00m\n\u001b[1;32m    338\u001b[0m \u001b[38;5;28;01melse\u001b[39;00m:\n\u001b[0;32m--> 339\u001b[0m     \u001b[38;5;28;01mreturn\u001b[39;00m \u001b[43mprinter\u001b[49m\u001b[43m(\u001b[49m\u001b[43mobj\u001b[49m\u001b[43m)\u001b[49m\n\u001b[1;32m    340\u001b[0m \u001b[38;5;66;03m# Finally look for special method names\u001b[39;00m\n\u001b[1;32m    341\u001b[0m method \u001b[38;5;241m=\u001b[39m get_real_method(obj, \u001b[38;5;28mself\u001b[39m\u001b[38;5;241m.\u001b[39mprint_method)\n",
      "File \u001b[0;32m~/opt/miniconda3/lib/python3.9/site-packages/IPython/core/pylabtools.py:151\u001b[0m, in \u001b[0;36mprint_figure\u001b[0;34m(fig, fmt, bbox_inches, base64, **kwargs)\u001b[0m\n\u001b[1;32m    148\u001b[0m     \u001b[38;5;28;01mfrom\u001b[39;00m \u001b[38;5;21;01mmatplotlib\u001b[39;00m\u001b[38;5;21;01m.\u001b[39;00m\u001b[38;5;21;01mbackend_bases\u001b[39;00m \u001b[38;5;28;01mimport\u001b[39;00m FigureCanvasBase\n\u001b[1;32m    149\u001b[0m     FigureCanvasBase(fig)\n\u001b[0;32m--> 151\u001b[0m \u001b[43mfig\u001b[49m\u001b[38;5;241;43m.\u001b[39;49m\u001b[43mcanvas\u001b[49m\u001b[38;5;241;43m.\u001b[39;49m\u001b[43mprint_figure\u001b[49m\u001b[43m(\u001b[49m\u001b[43mbytes_io\u001b[49m\u001b[43m,\u001b[49m\u001b[43m \u001b[49m\u001b[38;5;241;43m*\u001b[39;49m\u001b[38;5;241;43m*\u001b[39;49m\u001b[43mkw\u001b[49m\u001b[43m)\u001b[49m\n\u001b[1;32m    152\u001b[0m data \u001b[38;5;241m=\u001b[39m bytes_io\u001b[38;5;241m.\u001b[39mgetvalue()\n\u001b[1;32m    153\u001b[0m \u001b[38;5;28;01mif\u001b[39;00m fmt \u001b[38;5;241m==\u001b[39m \u001b[38;5;124m'\u001b[39m\u001b[38;5;124msvg\u001b[39m\u001b[38;5;124m'\u001b[39m:\n",
      "File \u001b[0;32m~/opt/miniconda3/lib/python3.9/site-packages/matplotlib/backend_bases.py:2295\u001b[0m, in \u001b[0;36mFigureCanvasBase.print_figure\u001b[0;34m(self, filename, dpi, facecolor, edgecolor, orientation, format, bbox_inches, pad_inches, bbox_extra_artists, backend, **kwargs)\u001b[0m\n\u001b[1;32m   2289\u001b[0m     renderer \u001b[38;5;241m=\u001b[39m _get_renderer(\n\u001b[1;32m   2290\u001b[0m         \u001b[38;5;28mself\u001b[39m\u001b[38;5;241m.\u001b[39mfigure,\n\u001b[1;32m   2291\u001b[0m         functools\u001b[38;5;241m.\u001b[39mpartial(\n\u001b[1;32m   2292\u001b[0m             print_method, orientation\u001b[38;5;241m=\u001b[39morientation)\n\u001b[1;32m   2293\u001b[0m     )\n\u001b[1;32m   2294\u001b[0m     \u001b[38;5;28;01mwith\u001b[39;00m \u001b[38;5;28mgetattr\u001b[39m(renderer, \u001b[38;5;124m\"\u001b[39m\u001b[38;5;124m_draw_disabled\u001b[39m\u001b[38;5;124m\"\u001b[39m, nullcontext)():\n\u001b[0;32m-> 2295\u001b[0m         \u001b[38;5;28;43mself\u001b[39;49m\u001b[38;5;241;43m.\u001b[39;49m\u001b[43mfigure\u001b[49m\u001b[38;5;241;43m.\u001b[39;49m\u001b[43mdraw\u001b[49m\u001b[43m(\u001b[49m\u001b[43mrenderer\u001b[49m\u001b[43m)\u001b[49m\n\u001b[1;32m   2297\u001b[0m \u001b[38;5;28;01mif\u001b[39;00m bbox_inches:\n\u001b[1;32m   2298\u001b[0m     \u001b[38;5;28;01mif\u001b[39;00m bbox_inches \u001b[38;5;241m==\u001b[39m \u001b[38;5;124m\"\u001b[39m\u001b[38;5;124mtight\u001b[39m\u001b[38;5;124m\"\u001b[39m:\n",
      "File \u001b[0;32m~/opt/miniconda3/lib/python3.9/site-packages/matplotlib/artist.py:73\u001b[0m, in \u001b[0;36m_finalize_rasterization.<locals>.draw_wrapper\u001b[0;34m(artist, renderer, *args, **kwargs)\u001b[0m\n\u001b[1;32m     71\u001b[0m \u001b[38;5;129m@wraps\u001b[39m(draw)\n\u001b[1;32m     72\u001b[0m \u001b[38;5;28;01mdef\u001b[39;00m \u001b[38;5;21mdraw_wrapper\u001b[39m(artist, renderer, \u001b[38;5;241m*\u001b[39margs, \u001b[38;5;241m*\u001b[39m\u001b[38;5;241m*\u001b[39mkwargs):\n\u001b[0;32m---> 73\u001b[0m     result \u001b[38;5;241m=\u001b[39m \u001b[43mdraw\u001b[49m\u001b[43m(\u001b[49m\u001b[43martist\u001b[49m\u001b[43m,\u001b[49m\u001b[43m \u001b[49m\u001b[43mrenderer\u001b[49m\u001b[43m,\u001b[49m\u001b[43m \u001b[49m\u001b[38;5;241;43m*\u001b[39;49m\u001b[43margs\u001b[49m\u001b[43m,\u001b[49m\u001b[43m \u001b[49m\u001b[38;5;241;43m*\u001b[39;49m\u001b[38;5;241;43m*\u001b[39;49m\u001b[43mkwargs\u001b[49m\u001b[43m)\u001b[49m\n\u001b[1;32m     74\u001b[0m     \u001b[38;5;28;01mif\u001b[39;00m renderer\u001b[38;5;241m.\u001b[39m_rasterizing:\n\u001b[1;32m     75\u001b[0m         renderer\u001b[38;5;241m.\u001b[39mstop_rasterizing()\n",
      "File \u001b[0;32m~/opt/miniconda3/lib/python3.9/site-packages/matplotlib/artist.py:50\u001b[0m, in \u001b[0;36mallow_rasterization.<locals>.draw_wrapper\u001b[0;34m(artist, renderer)\u001b[0m\n\u001b[1;32m     47\u001b[0m     \u001b[38;5;28;01mif\u001b[39;00m artist\u001b[38;5;241m.\u001b[39mget_agg_filter() \u001b[38;5;129;01mis\u001b[39;00m \u001b[38;5;129;01mnot\u001b[39;00m \u001b[38;5;28;01mNone\u001b[39;00m:\n\u001b[1;32m     48\u001b[0m         renderer\u001b[38;5;241m.\u001b[39mstart_filter()\n\u001b[0;32m---> 50\u001b[0m     \u001b[38;5;28;01mreturn\u001b[39;00m \u001b[43mdraw\u001b[49m\u001b[43m(\u001b[49m\u001b[43martist\u001b[49m\u001b[43m,\u001b[49m\u001b[43m \u001b[49m\u001b[43mrenderer\u001b[49m\u001b[43m)\u001b[49m\n\u001b[1;32m     51\u001b[0m \u001b[38;5;28;01mfinally\u001b[39;00m:\n\u001b[1;32m     52\u001b[0m     \u001b[38;5;28;01mif\u001b[39;00m artist\u001b[38;5;241m.\u001b[39mget_agg_filter() \u001b[38;5;129;01mis\u001b[39;00m \u001b[38;5;129;01mnot\u001b[39;00m \u001b[38;5;28;01mNone\u001b[39;00m:\n",
      "File \u001b[0;32m~/opt/miniconda3/lib/python3.9/site-packages/matplotlib/figure.py:2837\u001b[0m, in \u001b[0;36mFigure.draw\u001b[0;34m(self, renderer)\u001b[0m\n\u001b[1;32m   2834\u001b[0m         \u001b[38;5;66;03m# ValueError can occur when resizing a window.\u001b[39;00m\n\u001b[1;32m   2836\u001b[0m \u001b[38;5;28mself\u001b[39m\u001b[38;5;241m.\u001b[39mpatch\u001b[38;5;241m.\u001b[39mdraw(renderer)\n\u001b[0;32m-> 2837\u001b[0m \u001b[43mmimage\u001b[49m\u001b[38;5;241;43m.\u001b[39;49m\u001b[43m_draw_list_compositing_images\u001b[49m\u001b[43m(\u001b[49m\n\u001b[1;32m   2838\u001b[0m \u001b[43m    \u001b[49m\u001b[43mrenderer\u001b[49m\u001b[43m,\u001b[49m\u001b[43m \u001b[49m\u001b[38;5;28;43mself\u001b[39;49m\u001b[43m,\u001b[49m\u001b[43m \u001b[49m\u001b[43martists\u001b[49m\u001b[43m,\u001b[49m\u001b[43m \u001b[49m\u001b[38;5;28;43mself\u001b[39;49m\u001b[38;5;241;43m.\u001b[39;49m\u001b[43msuppressComposite\u001b[49m\u001b[43m)\u001b[49m\n\u001b[1;32m   2840\u001b[0m \u001b[38;5;28;01mfor\u001b[39;00m sfig \u001b[38;5;129;01min\u001b[39;00m \u001b[38;5;28mself\u001b[39m\u001b[38;5;241m.\u001b[39msubfigs:\n\u001b[1;32m   2841\u001b[0m     sfig\u001b[38;5;241m.\u001b[39mdraw(renderer)\n",
      "File \u001b[0;32m~/opt/miniconda3/lib/python3.9/site-packages/matplotlib/image.py:132\u001b[0m, in \u001b[0;36m_draw_list_compositing_images\u001b[0;34m(renderer, parent, artists, suppress_composite)\u001b[0m\n\u001b[1;32m    130\u001b[0m \u001b[38;5;28;01mif\u001b[39;00m not_composite \u001b[38;5;129;01mor\u001b[39;00m \u001b[38;5;129;01mnot\u001b[39;00m has_images:\n\u001b[1;32m    131\u001b[0m     \u001b[38;5;28;01mfor\u001b[39;00m a \u001b[38;5;129;01min\u001b[39;00m artists:\n\u001b[0;32m--> 132\u001b[0m         \u001b[43ma\u001b[49m\u001b[38;5;241;43m.\u001b[39;49m\u001b[43mdraw\u001b[49m\u001b[43m(\u001b[49m\u001b[43mrenderer\u001b[49m\u001b[43m)\u001b[49m\n\u001b[1;32m    133\u001b[0m \u001b[38;5;28;01melse\u001b[39;00m:\n\u001b[1;32m    134\u001b[0m     \u001b[38;5;66;03m# Composite any adjacent images together\u001b[39;00m\n\u001b[1;32m    135\u001b[0m     image_group \u001b[38;5;241m=\u001b[39m []\n",
      "File \u001b[0;32m~/opt/miniconda3/lib/python3.9/site-packages/matplotlib/artist.py:50\u001b[0m, in \u001b[0;36mallow_rasterization.<locals>.draw_wrapper\u001b[0;34m(artist, renderer)\u001b[0m\n\u001b[1;32m     47\u001b[0m     \u001b[38;5;28;01mif\u001b[39;00m artist\u001b[38;5;241m.\u001b[39mget_agg_filter() \u001b[38;5;129;01mis\u001b[39;00m \u001b[38;5;129;01mnot\u001b[39;00m \u001b[38;5;28;01mNone\u001b[39;00m:\n\u001b[1;32m     48\u001b[0m         renderer\u001b[38;5;241m.\u001b[39mstart_filter()\n\u001b[0;32m---> 50\u001b[0m     \u001b[38;5;28;01mreturn\u001b[39;00m \u001b[43mdraw\u001b[49m\u001b[43m(\u001b[49m\u001b[43martist\u001b[49m\u001b[43m,\u001b[49m\u001b[43m \u001b[49m\u001b[43mrenderer\u001b[49m\u001b[43m)\u001b[49m\n\u001b[1;32m     51\u001b[0m \u001b[38;5;28;01mfinally\u001b[39;00m:\n\u001b[1;32m     52\u001b[0m     \u001b[38;5;28;01mif\u001b[39;00m artist\u001b[38;5;241m.\u001b[39mget_agg_filter() \u001b[38;5;129;01mis\u001b[39;00m \u001b[38;5;129;01mnot\u001b[39;00m \u001b[38;5;28;01mNone\u001b[39;00m:\n",
      "File \u001b[0;32m~/opt/miniconda3/lib/python3.9/site-packages/matplotlib/axes/_base.py:3091\u001b[0m, in \u001b[0;36m_AxesBase.draw\u001b[0;34m(self, renderer)\u001b[0m\n\u001b[1;32m   3088\u001b[0m         a\u001b[38;5;241m.\u001b[39mdraw(renderer)\n\u001b[1;32m   3089\u001b[0m     renderer\u001b[38;5;241m.\u001b[39mstop_rasterizing()\n\u001b[0;32m-> 3091\u001b[0m \u001b[43mmimage\u001b[49m\u001b[38;5;241;43m.\u001b[39;49m\u001b[43m_draw_list_compositing_images\u001b[49m\u001b[43m(\u001b[49m\n\u001b[1;32m   3092\u001b[0m \u001b[43m    \u001b[49m\u001b[43mrenderer\u001b[49m\u001b[43m,\u001b[49m\u001b[43m \u001b[49m\u001b[38;5;28;43mself\u001b[39;49m\u001b[43m,\u001b[49m\u001b[43m \u001b[49m\u001b[43martists\u001b[49m\u001b[43m,\u001b[49m\u001b[43m \u001b[49m\u001b[38;5;28;43mself\u001b[39;49m\u001b[38;5;241;43m.\u001b[39;49m\u001b[43mfigure\u001b[49m\u001b[38;5;241;43m.\u001b[39;49m\u001b[43msuppressComposite\u001b[49m\u001b[43m)\u001b[49m\n\u001b[1;32m   3094\u001b[0m renderer\u001b[38;5;241m.\u001b[39mclose_group(\u001b[38;5;124m'\u001b[39m\u001b[38;5;124maxes\u001b[39m\u001b[38;5;124m'\u001b[39m)\n\u001b[1;32m   3095\u001b[0m \u001b[38;5;28mself\u001b[39m\u001b[38;5;241m.\u001b[39mstale \u001b[38;5;241m=\u001b[39m \u001b[38;5;28;01mFalse\u001b[39;00m\n",
      "File \u001b[0;32m~/opt/miniconda3/lib/python3.9/site-packages/matplotlib/image.py:132\u001b[0m, in \u001b[0;36m_draw_list_compositing_images\u001b[0;34m(renderer, parent, artists, suppress_composite)\u001b[0m\n\u001b[1;32m    130\u001b[0m \u001b[38;5;28;01mif\u001b[39;00m not_composite \u001b[38;5;129;01mor\u001b[39;00m \u001b[38;5;129;01mnot\u001b[39;00m has_images:\n\u001b[1;32m    131\u001b[0m     \u001b[38;5;28;01mfor\u001b[39;00m a \u001b[38;5;129;01min\u001b[39;00m artists:\n\u001b[0;32m--> 132\u001b[0m         \u001b[43ma\u001b[49m\u001b[38;5;241;43m.\u001b[39;49m\u001b[43mdraw\u001b[49m\u001b[43m(\u001b[49m\u001b[43mrenderer\u001b[49m\u001b[43m)\u001b[49m\n\u001b[1;32m    133\u001b[0m \u001b[38;5;28;01melse\u001b[39;00m:\n\u001b[1;32m    134\u001b[0m     \u001b[38;5;66;03m# Composite any adjacent images together\u001b[39;00m\n\u001b[1;32m    135\u001b[0m     image_group \u001b[38;5;241m=\u001b[39m []\n",
      "File \u001b[0;32m~/opt/miniconda3/lib/python3.9/site-packages/matplotlib/artist.py:50\u001b[0m, in \u001b[0;36mallow_rasterization.<locals>.draw_wrapper\u001b[0;34m(artist, renderer)\u001b[0m\n\u001b[1;32m     47\u001b[0m     \u001b[38;5;28;01mif\u001b[39;00m artist\u001b[38;5;241m.\u001b[39mget_agg_filter() \u001b[38;5;129;01mis\u001b[39;00m \u001b[38;5;129;01mnot\u001b[39;00m \u001b[38;5;28;01mNone\u001b[39;00m:\n\u001b[1;32m     48\u001b[0m         renderer\u001b[38;5;241m.\u001b[39mstart_filter()\n\u001b[0;32m---> 50\u001b[0m     \u001b[38;5;28;01mreturn\u001b[39;00m \u001b[43mdraw\u001b[49m\u001b[43m(\u001b[49m\u001b[43martist\u001b[49m\u001b[43m,\u001b[49m\u001b[43m \u001b[49m\u001b[43mrenderer\u001b[49m\u001b[43m)\u001b[49m\n\u001b[1;32m     51\u001b[0m \u001b[38;5;28;01mfinally\u001b[39;00m:\n\u001b[1;32m     52\u001b[0m     \u001b[38;5;28;01mif\u001b[39;00m artist\u001b[38;5;241m.\u001b[39mget_agg_filter() \u001b[38;5;129;01mis\u001b[39;00m \u001b[38;5;129;01mnot\u001b[39;00m \u001b[38;5;28;01mNone\u001b[39;00m:\n",
      "File \u001b[0;32m~/opt/miniconda3/lib/python3.9/site-packages/matplotlib/lines.py:822\u001b[0m, in \u001b[0;36mLine2D.draw\u001b[0;34m(self, renderer)\u001b[0m\n\u001b[1;32m    820\u001b[0m markevery \u001b[38;5;241m=\u001b[39m \u001b[38;5;28mself\u001b[39m\u001b[38;5;241m.\u001b[39mget_markevery()\n\u001b[1;32m    821\u001b[0m \u001b[38;5;28;01mif\u001b[39;00m markevery \u001b[38;5;129;01mis\u001b[39;00m \u001b[38;5;129;01mnot\u001b[39;00m \u001b[38;5;28;01mNone\u001b[39;00m:\n\u001b[0;32m--> 822\u001b[0m     subsampled \u001b[38;5;241m=\u001b[39m \u001b[43m_mark_every_path\u001b[49m\u001b[43m(\u001b[49m\n\u001b[1;32m    823\u001b[0m \u001b[43m        \u001b[49m\u001b[43mmarkevery\u001b[49m\u001b[43m,\u001b[49m\u001b[43m \u001b[49m\u001b[43mtpath\u001b[49m\u001b[43m,\u001b[49m\u001b[43m \u001b[49m\u001b[43maffine\u001b[49m\u001b[43m,\u001b[49m\u001b[43m \u001b[49m\u001b[38;5;28;43mself\u001b[39;49m\u001b[38;5;241;43m.\u001b[39;49m\u001b[43maxes\u001b[49m\u001b[43m)\u001b[49m\n\u001b[1;32m    824\u001b[0m \u001b[38;5;28;01melse\u001b[39;00m:\n\u001b[1;32m    825\u001b[0m     subsampled \u001b[38;5;241m=\u001b[39m tpath\n",
      "File \u001b[0;32m~/opt/miniconda3/lib/python3.9/site-packages/matplotlib/lines.py:191\u001b[0m, in \u001b[0;36m_mark_every_path\u001b[0;34m(markevery, tpath, affine, ax)\u001b[0m\n\u001b[1;32m    189\u001b[0m         \u001b[38;5;28;01mreturn\u001b[39;00m Path(verts[markevery], _slice_or_none(codes, markevery))\n\u001b[1;32m    190\u001b[0m     \u001b[38;5;28;01mexcept\u001b[39;00m (\u001b[38;5;167;01mValueError\u001b[39;00m, \u001b[38;5;167;01mIndexError\u001b[39;00m) \u001b[38;5;28;01mas\u001b[39;00m err:\n\u001b[0;32m--> 191\u001b[0m         \u001b[38;5;28;01mraise\u001b[39;00m \u001b[38;5;167;01mValueError\u001b[39;00m(\n\u001b[1;32m    192\u001b[0m             \u001b[38;5;124mf\u001b[39m\u001b[38;5;124m\"\u001b[39m\u001b[38;5;124mmarkevery=\u001b[39m\u001b[38;5;132;01m{\u001b[39;00mmarkevery\u001b[38;5;132;01m!r}\u001b[39;00m\u001b[38;5;124m is iterable but not a valid numpy \u001b[39m\u001b[38;5;124m\"\u001b[39m\n\u001b[1;32m    193\u001b[0m             \u001b[38;5;124mf\u001b[39m\u001b[38;5;124m\"\u001b[39m\u001b[38;5;124mfancy index\u001b[39m\u001b[38;5;124m\"\u001b[39m) \u001b[38;5;28;01mfrom\u001b[39;00m \u001b[38;5;21;01merr\u001b[39;00m\n\u001b[1;32m    194\u001b[0m \u001b[38;5;28;01melse\u001b[39;00m:\n\u001b[1;32m    195\u001b[0m     \u001b[38;5;28;01mraise\u001b[39;00m \u001b[38;5;167;01mValueError\u001b[39;00m(\u001b[38;5;124mf\u001b[39m\u001b[38;5;124m\"\u001b[39m\u001b[38;5;124mmarkevery=\u001b[39m\u001b[38;5;132;01m{\u001b[39;00mmarkevery\u001b[38;5;132;01m!r}\u001b[39;00m\u001b[38;5;124m is not a recognized value\u001b[39m\u001b[38;5;124m\"\u001b[39m)\n",
      "\u001b[0;31mValueError\u001b[0m: markevery=[3255, 3256, 3489, 3490, 3493, 3495, 3497, 3499, 3501, 3502, 3503, 3504, 3505, 3506, 3507, 3508, 3509, 3510, 3511, 3512, 3513, 3515, 3517, 3518, 3519, 3520, 3521, 3522, 3523, 3524, 3525, 3527, 3529, 3530, 3533, 3534, 3537, 3538, 3539, 3540, 3541, 3542, 3543, 3544, 3545, 3546, 3547, 3548, 3549, 3550, 3551, 3552, 3553, 3554, 3555, 3556, 3557, 3558, 3559, 3560, 3561, 3562, 3563, 3687, 3688, 3700, 3701, 3702, 3703, 3704, 3705, 3710, 3711, 3712, 3713, 3714, 3715, 3257, 3258, 3491, 3492, 3494, 3496, 3498, 3500, 3514, 3516, 3526, 3528, 3531, 3532, 3535, 3536, 3707, 3708] is iterable but not a valid numpy fancy index"
     ]
    },
    {
     "data": {
      "text/plain": [
       "<Figure size 432x288 with 1 Axes>"
      ]
     },
     "metadata": {
      "needs_background": "light"
     },
     "output_type": "display_data"
    }
   ],
   "source": [
    "concat1b = pd.concat([concat1, df_sidebar, df_popup]).sort_values(by='timestamp')\n",
    "concat1b = concat1b[concat1b['type']!='start'].reset_index() \n",
    "\n",
    "popup_evts = concat1b.index[concat1b['type'] == \"popup\"].tolist()\n",
    "sidebar_evts = concat1b.index[concat1b['type'] == \"sidebar\"].tolist()\n",
    "print(f\"pop: {popup_evts}\\n sidebar: {sidebar_evts}\\n\")\n",
    "\n",
    "concat1[\"timestamp\"].round(2).plot(marker='o', markevery=popup_evts+sidebar_evts, markeredgewidth=0, markerfacecolor=(1,0,0,0.3), markersize=6)\n",
    "y_max = concat1[\"timestamp\"].max() # /1000\n",
    "\n",
    "for enum, val in enumerate(L2_toggleOn_list):\n",
    "    try:\n",
    "        start_idx = val\n",
    "        end_idx = L2_toggleOff_list[enum]\n",
    "    except IndexError:\n",
    "        end_idx = len(concat1[\"timestamp\"])\n",
    "    # print(f\"start_idx {start_idx}, end_idx: {end_idx}\")\n",
    "    plt.fill_between([x for x in range(start_idx,end_idx)], 0, y_max, color='green', alpha=0.2, zorder=0)"
   ]
  },
  {
   "cell_type": "code",
   "execution_count": 25,
   "id": "f75fa80e-83de-4664-bc1f-487b2350106c",
   "metadata": {},
   "outputs": [
    {
     "name": "stdout",
     "output_type": "stream",
     "text": [
      "events: [3485, 3486, 3487, 3488, 3489, 3491, 3492, 3493, 3494, 3496, 3497, 3619, 3624, 3625, 3629, 3634, 3636, 3639, 3640]\n",
      "\n"
     ]
    },
    {
     "data": {
      "image/png": "[encoded data removed]",
      "text/plain": [
       "<Figure size 432x288 with 1 Axes>"
      ]
     },
     "metadata": {
      "needs_background": "light"
     },
     "output_type": "display_data"
    }
   ],
   "source": [
    "#newer version\n",
    "filteredL1 = df_toggle[df_toggle['type']=='toggleL1']\n",
    "concat2 = pd.concat([df_key, filteredL1]).sort_values(by=\"timestamp\")\n",
    "concat2 = concat2[concat2['type']!='start'].reset_index()\n",
    "\n",
    "L1_toggleOn_list = concat2.index[concat2['state'] == \"Auto Expressiveness on\"].tolist()\n",
    "L1_toggleOff_list = concat2.index[concat2['state'] == \"Auto Expressiveness off\"].tolist()\n",
    "L1_events_list = concat2.index[concat2['auto'] == False].tolist()\n",
    "# print(f\"On: {L1_toggleOn_list}\\nOff: {L1_toggleOff_list}\\n\")\n",
    "print(f\"events: {L1_events_list}\\n\")\n",
    "\n",
    "plt.plot(concat2.index, concat2['timestamp'], marker='o', markevery=L1_events_list, markeredgewidth=0, markerfacecolor=(1,0,0,0.3), markersize=6)\n",
    "y_max = concat2['timestamp'].max()\n",
    "\n",
    "for enum, val in enumerate(L1_toggleOn_list):\n",
    "    try:\n",
    "        start_idx = val\n",
    "        end_idx = L1_toggleOff_list[enum]\n",
    "    except IndexError:\n",
    "        end_idx = len(concat2.index)\n",
    "    # print(f\"start_idx {start_idx}, end_idx: {end_idx}\")\n",
    "    plt.fill_between([x for x in range(start_idx,end_idx)], 0, y_max, color='green', alpha=0.2)\n",
    "\n",
    "# overlay other stuff relevant to L1:\n",
    "# - edits, dismisses, accepts, "
   ]
  },
  {
   "cell_type": "code",
   "execution_count": 26,
   "id": "1b514646-80de-4118-9961-d2c1a331f8c1",
   "metadata": {},
   "outputs": [
    {
     "name": "stdout",
     "output_type": "stream",
     "text": [
      "events: [3485, 3486, 3487, 3488, 3489, 3491, 3492, 3493, 3494, 3496, 3497, 3619, 3624, 3625, 3629, 3634, 3636, 3639, 3640]\n",
      "\n"
     ]
    },
    {
     "ename": "ValueError",
     "evalue": "markevery=[3258, 3257, 3492, 3501, 3624, 3626, 3632, 3634, 3638, 3643, 3644, 3645, 3646, 3648, 3651, 3653, 3654, 3655, 3656, 3660, 3662] is iterable but not a valid numpy fancy index",
     "output_type": "error",
     "traceback": [
      "\u001b[0;31m---------------------------------------------------------------------------\u001b[0m",
      "\u001b[0;31mIndexError\u001b[0m                                Traceback (most recent call last)",
      "File \u001b[0;32m~/opt/miniconda3/lib/python3.9/site-packages/matplotlib/lines.py:189\u001b[0m, in \u001b[0;36m_mark_every_path\u001b[0;34m(markevery, tpath, affine, ax)\u001b[0m\n\u001b[1;32m    188\u001b[0m \u001b[38;5;28;01mtry\u001b[39;00m:\n\u001b[0;32m--> 189\u001b[0m     \u001b[38;5;28;01mreturn\u001b[39;00m Path(\u001b[43mverts\u001b[49m\u001b[43m[\u001b[49m\u001b[43mmarkevery\u001b[49m\u001b[43m]\u001b[49m, _slice_or_none(codes, markevery))\n\u001b[1;32m    190\u001b[0m \u001b[38;5;28;01mexcept\u001b[39;00m (\u001b[38;5;167;01mValueError\u001b[39;00m, \u001b[38;5;167;01mIndexError\u001b[39;00m) \u001b[38;5;28;01mas\u001b[39;00m err:\n",
      "\u001b[0;31mIndexError\u001b[0m: index 3646 is out of bounds for axis 0 with size 3646",
      "\nThe above exception was the direct cause of the following exception:\n",
      "\u001b[0;31mValueError\u001b[0m                                Traceback (most recent call last)",
      "File \u001b[0;32m~/opt/miniconda3/lib/python3.9/site-packages/IPython/core/formatters.py:339\u001b[0m, in \u001b[0;36mBaseFormatter.__call__\u001b[0;34m(self, obj)\u001b[0m\n\u001b[1;32m    337\u001b[0m     \u001b[38;5;28;01mpass\u001b[39;00m\n\u001b[1;32m    338\u001b[0m \u001b[38;5;28;01melse\u001b[39;00m:\n\u001b[0;32m--> 339\u001b[0m     \u001b[38;5;28;01mreturn\u001b[39;00m \u001b[43mprinter\u001b[49m\u001b[43m(\u001b[49m\u001b[43mobj\u001b[49m\u001b[43m)\u001b[49m\n\u001b[1;32m    340\u001b[0m \u001b[38;5;66;03m# Finally look for special method names\u001b[39;00m\n\u001b[1;32m    341\u001b[0m method \u001b[38;5;241m=\u001b[39m get_real_method(obj, \u001b[38;5;28mself\u001b[39m\u001b[38;5;241m.\u001b[39mprint_method)\n",
      "File \u001b[0;32m~/opt/miniconda3/lib/python3.9/site-packages/IPython/core/pylabtools.py:151\u001b[0m, in \u001b[0;36mprint_figure\u001b[0;34m(fig, fmt, bbox_inches, base64, **kwargs)\u001b[0m\n\u001b[1;32m    148\u001b[0m     \u001b[38;5;28;01mfrom\u001b[39;00m \u001b[38;5;21;01mmatplotlib\u001b[39;00m\u001b[38;5;21;01m.\u001b[39;00m\u001b[38;5;21;01mbackend_bases\u001b[39;00m \u001b[38;5;28;01mimport\u001b[39;00m FigureCanvasBase\n\u001b[1;32m    149\u001b[0m     FigureCanvasBase(fig)\n\u001b[0;32m--> 151\u001b[0m \u001b[43mfig\u001b[49m\u001b[38;5;241;43m.\u001b[39;49m\u001b[43mcanvas\u001b[49m\u001b[38;5;241;43m.\u001b[39;49m\u001b[43mprint_figure\u001b[49m\u001b[43m(\u001b[49m\u001b[43mbytes_io\u001b[49m\u001b[43m,\u001b[49m\u001b[43m \u001b[49m\u001b[38;5;241;43m*\u001b[39;49m\u001b[38;5;241;43m*\u001b[39;49m\u001b[43mkw\u001b[49m\u001b[43m)\u001b[49m\n\u001b[1;32m    152\u001b[0m data \u001b[38;5;241m=\u001b[39m bytes_io\u001b[38;5;241m.\u001b[39mgetvalue()\n\u001b[1;32m    153\u001b[0m \u001b[38;5;28;01mif\u001b[39;00m fmt \u001b[38;5;241m==\u001b[39m \u001b[38;5;124m'\u001b[39m\u001b[38;5;124msvg\u001b[39m\u001b[38;5;124m'\u001b[39m:\n",
      "File \u001b[0;32m~/opt/miniconda3/lib/python3.9/site-packages/matplotlib/backend_bases.py:2295\u001b[0m, in \u001b[0;36mFigureCanvasBase.print_figure\u001b[0;34m(self, filename, dpi, facecolor, edgecolor, orientation, format, bbox_inches, pad_inches, bbox_extra_artists, backend, **kwargs)\u001b[0m\n\u001b[1;32m   2289\u001b[0m     renderer \u001b[38;5;241m=\u001b[39m _get_renderer(\n\u001b[1;32m   2290\u001b[0m         \u001b[38;5;28mself\u001b[39m\u001b[38;5;241m.\u001b[39mfigure,\n\u001b[1;32m   2291\u001b[0m         functools\u001b[38;5;241m.\u001b[39mpartial(\n\u001b[1;32m   2292\u001b[0m             print_method, orientation\u001b[38;5;241m=\u001b[39morientation)\n\u001b[1;32m   2293\u001b[0m     )\n\u001b[1;32m   2294\u001b[0m     \u001b[38;5;28;01mwith\u001b[39;00m \u001b[38;5;28mgetattr\u001b[39m(renderer, \u001b[38;5;124m\"\u001b[39m\u001b[38;5;124m_draw_disabled\u001b[39m\u001b[38;5;124m\"\u001b[39m, nullcontext)():\n\u001b[0;32m-> 2295\u001b[0m         \u001b[38;5;28;43mself\u001b[39;49m\u001b[38;5;241;43m.\u001b[39;49m\u001b[43mfigure\u001b[49m\u001b[38;5;241;43m.\u001b[39;49m\u001b[43mdraw\u001b[49m\u001b[43m(\u001b[49m\u001b[43mrenderer\u001b[49m\u001b[43m)\u001b[49m\n\u001b[1;32m   2297\u001b[0m \u001b[38;5;28;01mif\u001b[39;00m bbox_inches:\n\u001b[1;32m   2298\u001b[0m     \u001b[38;5;28;01mif\u001b[39;00m bbox_inches \u001b[38;5;241m==\u001b[39m \u001b[38;5;124m\"\u001b[39m\u001b[38;5;124mtight\u001b[39m\u001b[38;5;124m\"\u001b[39m:\n",
      "File \u001b[0;32m~/opt/miniconda3/lib/python3.9/site-packages/matplotlib/artist.py:73\u001b[0m, in \u001b[0;36m_finalize_rasterization.<locals>.draw_wrapper\u001b[0;34m(artist, renderer, *args, **kwargs)\u001b[0m\n\u001b[1;32m     71\u001b[0m \u001b[38;5;129m@wraps\u001b[39m(draw)\n\u001b[1;32m     72\u001b[0m \u001b[38;5;28;01mdef\u001b[39;00m \u001b[38;5;21mdraw_wrapper\u001b[39m(artist, renderer, \u001b[38;5;241m*\u001b[39margs, \u001b[38;5;241m*\u001b[39m\u001b[38;5;241m*\u001b[39mkwargs):\n\u001b[0;32m---> 73\u001b[0m     result \u001b[38;5;241m=\u001b[39m \u001b[43mdraw\u001b[49m\u001b[43m(\u001b[49m\u001b[43martist\u001b[49m\u001b[43m,\u001b[49m\u001b[43m \u001b[49m\u001b[43mrenderer\u001b[49m\u001b[43m,\u001b[49m\u001b[43m \u001b[49m\u001b[38;5;241;43m*\u001b[39;49m\u001b[43margs\u001b[49m\u001b[43m,\u001b[49m\u001b[43m \u001b[49m\u001b[38;5;241;43m*\u001b[39;49m\u001b[38;5;241;43m*\u001b[39;49m\u001b[43mkwargs\u001b[49m\u001b[43m)\u001b[49m\n\u001b[1;32m     74\u001b[0m     \u001b[38;5;28;01mif\u001b[39;00m renderer\u001b[38;5;241m.\u001b[39m_rasterizing:\n\u001b[1;32m     75\u001b[0m         renderer\u001b[38;5;241m.\u001b[39mstop_rasterizing()\n",
      "File \u001b[0;32m~/opt/miniconda3/lib/python3.9/site-packages/matplotlib/artist.py:50\u001b[0m, in \u001b[0;36mallow_rasterization.<locals>.draw_wrapper\u001b[0;34m(artist, renderer)\u001b[0m\n\u001b[1;32m     47\u001b[0m     \u001b[38;5;28;01mif\u001b[39;00m artist\u001b[38;5;241m.\u001b[39mget_agg_filter() \u001b[38;5;129;01mis\u001b[39;00m \u001b[38;5;129;01mnot\u001b[39;00m \u001b[38;5;28;01mNone\u001b[39;00m:\n\u001b[1;32m     48\u001b[0m         renderer\u001b[38;5;241m.\u001b[39mstart_filter()\n\u001b[0;32m---> 50\u001b[0m     \u001b[38;5;28;01mreturn\u001b[39;00m \u001b[43mdraw\u001b[49m\u001b[43m(\u001b[49m\u001b[43martist\u001b[49m\u001b[43m,\u001b[49m\u001b[43m \u001b[49m\u001b[43mrenderer\u001b[49m\u001b[43m)\u001b[49m\n\u001b[1;32m     51\u001b[0m \u001b[38;5;28;01mfinally\u001b[39;00m:\n\u001b[1;32m     52\u001b[0m     \u001b[38;5;28;01mif\u001b[39;00m artist\u001b[38;5;241m.\u001b[39mget_agg_filter() \u001b[38;5;129;01mis\u001b[39;00m \u001b[38;5;129;01mnot\u001b[39;00m \u001b[38;5;28;01mNone\u001b[39;00m:\n",
      "File \u001b[0;32m~/opt/miniconda3/lib/python3.9/site-packages/matplotlib/figure.py:2837\u001b[0m, in \u001b[0;36mFigure.draw\u001b[0;34m(self, renderer)\u001b[0m\n\u001b[1;32m   2834\u001b[0m         \u001b[38;5;66;03m# ValueError can occur when resizing a window.\u001b[39;00m\n\u001b[1;32m   2836\u001b[0m \u001b[38;5;28mself\u001b[39m\u001b[38;5;241m.\u001b[39mpatch\u001b[38;5;241m.\u001b[39mdraw(renderer)\n\u001b[0;32m-> 2837\u001b[0m \u001b[43mmimage\u001b[49m\u001b[38;5;241;43m.\u001b[39;49m\u001b[43m_draw_list_compositing_images\u001b[49m\u001b[43m(\u001b[49m\n\u001b[1;32m   2838\u001b[0m \u001b[43m    \u001b[49m\u001b[43mrenderer\u001b[49m\u001b[43m,\u001b[49m\u001b[43m \u001b[49m\u001b[38;5;28;43mself\u001b[39;49m\u001b[43m,\u001b[49m\u001b[43m \u001b[49m\u001b[43martists\u001b[49m\u001b[43m,\u001b[49m\u001b[43m \u001b[49m\u001b[38;5;28;43mself\u001b[39;49m\u001b[38;5;241;43m.\u001b[39;49m\u001b[43msuppressComposite\u001b[49m\u001b[43m)\u001b[49m\n\u001b[1;32m   2840\u001b[0m \u001b[38;5;28;01mfor\u001b[39;00m sfig \u001b[38;5;129;01min\u001b[39;00m \u001b[38;5;28mself\u001b[39m\u001b[38;5;241m.\u001b[39msubfigs:\n\u001b[1;32m   2841\u001b[0m     sfig\u001b[38;5;241m.\u001b[39mdraw(renderer)\n",
      "File \u001b[0;32m~/opt/miniconda3/lib/python3.9/site-packages/matplotlib/image.py:132\u001b[0m, in \u001b[0;36m_draw_list_compositing_images\u001b[0;34m(renderer, parent, artists, suppress_composite)\u001b[0m\n\u001b[1;32m    130\u001b[0m \u001b[38;5;28;01mif\u001b[39;00m not_composite \u001b[38;5;129;01mor\u001b[39;00m \u001b[38;5;129;01mnot\u001b[39;00m has_images:\n\u001b[1;32m    131\u001b[0m     \u001b[38;5;28;01mfor\u001b[39;00m a \u001b[38;5;129;01min\u001b[39;00m artists:\n\u001b[0;32m--> 132\u001b[0m         \u001b[43ma\u001b[49m\u001b[38;5;241;43m.\u001b[39;49m\u001b[43mdraw\u001b[49m\u001b[43m(\u001b[49m\u001b[43mrenderer\u001b[49m\u001b[43m)\u001b[49m\n\u001b[1;32m    133\u001b[0m \u001b[38;5;28;01melse\u001b[39;00m:\n\u001b[1;32m    134\u001b[0m     \u001b[38;5;66;03m# Composite any adjacent images together\u001b[39;00m\n\u001b[1;32m    135\u001b[0m     image_group \u001b[38;5;241m=\u001b[39m []\n",
      "File \u001b[0;32m~/opt/miniconda3/lib/python3.9/site-packages/matplotlib/artist.py:50\u001b[0m, in \u001b[0;36mallow_rasterization.<locals>.draw_wrapper\u001b[0;34m(artist, renderer)\u001b[0m\n\u001b[1;32m     47\u001b[0m     \u001b[38;5;28;01mif\u001b[39;00m artist\u001b[38;5;241m.\u001b[39mget_agg_filter() \u001b[38;5;129;01mis\u001b[39;00m \u001b[38;5;129;01mnot\u001b[39;00m \u001b[38;5;28;01mNone\u001b[39;00m:\n\u001b[1;32m     48\u001b[0m         renderer\u001b[38;5;241m.\u001b[39mstart_filter()\n\u001b[0;32m---> 50\u001b[0m     \u001b[38;5;28;01mreturn\u001b[39;00m \u001b[43mdraw\u001b[49m\u001b[43m(\u001b[49m\u001b[43martist\u001b[49m\u001b[43m,\u001b[49m\u001b[43m \u001b[49m\u001b[43mrenderer\u001b[49m\u001b[43m)\u001b[49m\n\u001b[1;32m     51\u001b[0m \u001b[38;5;28;01mfinally\u001b[39;00m:\n\u001b[1;32m     52\u001b[0m     \u001b[38;5;28;01mif\u001b[39;00m artist\u001b[38;5;241m.\u001b[39mget_agg_filter() \u001b[38;5;129;01mis\u001b[39;00m \u001b[38;5;129;01mnot\u001b[39;00m \u001b[38;5;28;01mNone\u001b[39;00m:\n",
      "File \u001b[0;32m~/opt/miniconda3/lib/python3.9/site-packages/matplotlib/axes/_base.py:3091\u001b[0m, in \u001b[0;36m_AxesBase.draw\u001b[0;34m(self, renderer)\u001b[0m\n\u001b[1;32m   3088\u001b[0m         a\u001b[38;5;241m.\u001b[39mdraw(renderer)\n\u001b[1;32m   3089\u001b[0m     renderer\u001b[38;5;241m.\u001b[39mstop_rasterizing()\n\u001b[0;32m-> 3091\u001b[0m \u001b[43mmimage\u001b[49m\u001b[38;5;241;43m.\u001b[39;49m\u001b[43m_draw_list_compositing_images\u001b[49m\u001b[43m(\u001b[49m\n\u001b[1;32m   3092\u001b[0m \u001b[43m    \u001b[49m\u001b[43mrenderer\u001b[49m\u001b[43m,\u001b[49m\u001b[43m \u001b[49m\u001b[38;5;28;43mself\u001b[39;49m\u001b[43m,\u001b[49m\u001b[43m \u001b[49m\u001b[43martists\u001b[49m\u001b[43m,\u001b[49m\u001b[43m \u001b[49m\u001b[38;5;28;43mself\u001b[39;49m\u001b[38;5;241;43m.\u001b[39;49m\u001b[43mfigure\u001b[49m\u001b[38;5;241;43m.\u001b[39;49m\u001b[43msuppressComposite\u001b[49m\u001b[43m)\u001b[49m\n\u001b[1;32m   3094\u001b[0m renderer\u001b[38;5;241m.\u001b[39mclose_group(\u001b[38;5;124m'\u001b[39m\u001b[38;5;124maxes\u001b[39m\u001b[38;5;124m'\u001b[39m)\n\u001b[1;32m   3095\u001b[0m \u001b[38;5;28mself\u001b[39m\u001b[38;5;241m.\u001b[39mstale \u001b[38;5;241m=\u001b[39m \u001b[38;5;28;01mFalse\u001b[39;00m\n",
      "File \u001b[0;32m~/opt/miniconda3/lib/python3.9/site-packages/matplotlib/image.py:132\u001b[0m, in \u001b[0;36m_draw_list_compositing_images\u001b[0;34m(renderer, parent, artists, suppress_composite)\u001b[0m\n\u001b[1;32m    130\u001b[0m \u001b[38;5;28;01mif\u001b[39;00m not_composite \u001b[38;5;129;01mor\u001b[39;00m \u001b[38;5;129;01mnot\u001b[39;00m has_images:\n\u001b[1;32m    131\u001b[0m     \u001b[38;5;28;01mfor\u001b[39;00m a \u001b[38;5;129;01min\u001b[39;00m artists:\n\u001b[0;32m--> 132\u001b[0m         \u001b[43ma\u001b[49m\u001b[38;5;241;43m.\u001b[39;49m\u001b[43mdraw\u001b[49m\u001b[43m(\u001b[49m\u001b[43mrenderer\u001b[49m\u001b[43m)\u001b[49m\n\u001b[1;32m    133\u001b[0m \u001b[38;5;28;01melse\u001b[39;00m:\n\u001b[1;32m    134\u001b[0m     \u001b[38;5;66;03m# Composite any adjacent images together\u001b[39;00m\n\u001b[1;32m    135\u001b[0m     image_group \u001b[38;5;241m=\u001b[39m []\n",
      "File \u001b[0;32m~/opt/miniconda3/lib/python3.9/site-packages/matplotlib/artist.py:50\u001b[0m, in \u001b[0;36mallow_rasterization.<locals>.draw_wrapper\u001b[0;34m(artist, renderer)\u001b[0m\n\u001b[1;32m     47\u001b[0m     \u001b[38;5;28;01mif\u001b[39;00m artist\u001b[38;5;241m.\u001b[39mget_agg_filter() \u001b[38;5;129;01mis\u001b[39;00m \u001b[38;5;129;01mnot\u001b[39;00m \u001b[38;5;28;01mNone\u001b[39;00m:\n\u001b[1;32m     48\u001b[0m         renderer\u001b[38;5;241m.\u001b[39mstart_filter()\n\u001b[0;32m---> 50\u001b[0m     \u001b[38;5;28;01mreturn\u001b[39;00m \u001b[43mdraw\u001b[49m\u001b[43m(\u001b[49m\u001b[43martist\u001b[49m\u001b[43m,\u001b[49m\u001b[43m \u001b[49m\u001b[43mrenderer\u001b[49m\u001b[43m)\u001b[49m\n\u001b[1;32m     51\u001b[0m \u001b[38;5;28;01mfinally\u001b[39;00m:\n\u001b[1;32m     52\u001b[0m     \u001b[38;5;28;01mif\u001b[39;00m artist\u001b[38;5;241m.\u001b[39mget_agg_filter() \u001b[38;5;129;01mis\u001b[39;00m \u001b[38;5;129;01mnot\u001b[39;00m \u001b[38;5;28;01mNone\u001b[39;00m:\n",
      "File \u001b[0;32m~/opt/miniconda3/lib/python3.9/site-packages/matplotlib/lines.py:822\u001b[0m, in \u001b[0;36mLine2D.draw\u001b[0;34m(self, renderer)\u001b[0m\n\u001b[1;32m    820\u001b[0m markevery \u001b[38;5;241m=\u001b[39m \u001b[38;5;28mself\u001b[39m\u001b[38;5;241m.\u001b[39mget_markevery()\n\u001b[1;32m    821\u001b[0m \u001b[38;5;28;01mif\u001b[39;00m markevery \u001b[38;5;129;01mis\u001b[39;00m \u001b[38;5;129;01mnot\u001b[39;00m \u001b[38;5;28;01mNone\u001b[39;00m:\n\u001b[0;32m--> 822\u001b[0m     subsampled \u001b[38;5;241m=\u001b[39m \u001b[43m_mark_every_path\u001b[49m\u001b[43m(\u001b[49m\n\u001b[1;32m    823\u001b[0m \u001b[43m        \u001b[49m\u001b[43mmarkevery\u001b[49m\u001b[43m,\u001b[49m\u001b[43m \u001b[49m\u001b[43mtpath\u001b[49m\u001b[43m,\u001b[49m\u001b[43m \u001b[49m\u001b[43maffine\u001b[49m\u001b[43m,\u001b[49m\u001b[43m \u001b[49m\u001b[38;5;28;43mself\u001b[39;49m\u001b[38;5;241;43m.\u001b[39;49m\u001b[43maxes\u001b[49m\u001b[43m)\u001b[49m\n\u001b[1;32m    824\u001b[0m \u001b[38;5;28;01melse\u001b[39;00m:\n\u001b[1;32m    825\u001b[0m     subsampled \u001b[38;5;241m=\u001b[39m tpath\n",
      "File \u001b[0;32m~/opt/miniconda3/lib/python3.9/site-packages/matplotlib/lines.py:191\u001b[0m, in \u001b[0;36m_mark_every_path\u001b[0;34m(markevery, tpath, affine, ax)\u001b[0m\n\u001b[1;32m    189\u001b[0m         \u001b[38;5;28;01mreturn\u001b[39;00m Path(verts[markevery], _slice_or_none(codes, markevery))\n\u001b[1;32m    190\u001b[0m     \u001b[38;5;28;01mexcept\u001b[39;00m (\u001b[38;5;167;01mValueError\u001b[39;00m, \u001b[38;5;167;01mIndexError\u001b[39;00m) \u001b[38;5;28;01mas\u001b[39;00m err:\n\u001b[0;32m--> 191\u001b[0m         \u001b[38;5;28;01mraise\u001b[39;00m \u001b[38;5;167;01mValueError\u001b[39;00m(\n\u001b[1;32m    192\u001b[0m             \u001b[38;5;124mf\u001b[39m\u001b[38;5;124m\"\u001b[39m\u001b[38;5;124mmarkevery=\u001b[39m\u001b[38;5;132;01m{\u001b[39;00mmarkevery\u001b[38;5;132;01m!r}\u001b[39;00m\u001b[38;5;124m is iterable but not a valid numpy \u001b[39m\u001b[38;5;124m\"\u001b[39m\n\u001b[1;32m    193\u001b[0m             \u001b[38;5;124mf\u001b[39m\u001b[38;5;124m\"\u001b[39m\u001b[38;5;124mfancy index\u001b[39m\u001b[38;5;124m\"\u001b[39m) \u001b[38;5;28;01mfrom\u001b[39;00m \u001b[38;5;21;01merr\u001b[39;00m\n\u001b[1;32m    194\u001b[0m \u001b[38;5;28;01melse\u001b[39;00m:\n\u001b[1;32m    195\u001b[0m     \u001b[38;5;28;01mraise\u001b[39;00m \u001b[38;5;167;01mValueError\u001b[39;00m(\u001b[38;5;124mf\u001b[39m\u001b[38;5;124m\"\u001b[39m\u001b[38;5;124mmarkevery=\u001b[39m\u001b[38;5;132;01m{\u001b[39;00mmarkevery\u001b[38;5;132;01m!r}\u001b[39;00m\u001b[38;5;124m is not a recognized value\u001b[39m\u001b[38;5;124m\"\u001b[39m)\n",
      "\u001b[0;31mValueError\u001b[0m: markevery=[3258, 3257, 3492, 3501, 3624, 3626, 3632, 3634, 3638, 3643, 3644, 3645, 3646, 3648, 3651, 3653, 3654, 3655, 3656, 3660, 3662] is iterable but not a valid numpy fancy index"
     ]
    },
    {
     "data": {
      "text/plain": [
       "<Figure size 432x288 with 1 Axes>"
      ]
     },
     "metadata": {
      "needs_background": "light"
     },
     "output_type": "display_data"
    }
   ],
   "source": [
    "concat2b = pd.concat([concat2, df_dismiss, df_accept]).sort_values(by='timestamp')\n",
    "concat2b = concat2b[concat2b['type']!='start'].reset_index() \n",
    "\n",
    "accept_evts = concat2b.index[concat2b['type'] == \"accept\"].tolist()\n",
    "dismiss_evts = concat2b.index[concat2b['type'] == \"dismiss\"].tolist()\n",
    "\n",
    "L1_toggleOn_list = concat2.index[concat2['state'] == \"Auto Expressiveness on\"].tolist()\n",
    "L1_toggleOff_list = concat2.index[concat2['state'] == \"Auto Expressiveness off\"].tolist()\n",
    "L1_events_list = concat2.index[concat2['auto'] == False].tolist()\n",
    "# print(f\"On: {L1_toggleOn_list}\\nOff: {L1_toggleOff_list}\\n\")\n",
    "print(f\"events: {L1_events_list}\\n\")\n",
    "\n",
    "plt.plot(concat2.index, concat2['timestamp'], marker='o', markevery=accept_evts+dismiss_evts, markeredgewidth=0, markerfacecolor=(1,0,0,0.3), markersize=6)\n",
    "y_max = concat2['timestamp'].max()\n",
    "\n",
    "for enum, val in enumerate(L1_toggleOn_list):\n",
    "    try:\n",
    "        start_idx = val\n",
    "        end_idx = L1_toggleOff_list[enum]\n",
    "    except IndexError:\n",
    "        end_idx = len(concat2.index)\n",
    "    # print(f\"start_idx {start_idx}, end_idx: {end_idx}\")\n",
    "    plt.fill_between([x for x in range(start_idx,end_idx)], 0, y_max, color='green', alpha=0.2)\n",
    "\n",
    "# overlay other stuff relevant to L1:\n",
    "# - edits, dismisses, accepts, "
   ]
  },
  {
   "cell_type": "code",
   "execution_count": 27,
   "id": "92a37dba-c3af-4645-ae65-090ea5c14494",
   "metadata": {},
   "outputs": [
    {
     "name": "stdout",
     "output_type": "stream",
     "text": [
      "Writing duration 103.32 minutes\n"
     ]
    }
   ],
   "source": [
    "# writing duration -- aggregate per session_id and add results\n",
    "a = df.groupby('session_id')['timestamp'].max()\n",
    "print(f\"Writing duration {(a.sum()/1000)/60:.2f} minutes\")"
   ]
  },
  {
   "cell_type": "code",
   "execution_count": 28,
   "id": "dd766f38-376e-4256-92e2-170a6e8a694c",
   "metadata": {},
   "outputs": [],
   "source": [
    "# save to csv for further inspection.\n",
    "df[['text', 'cursor', 'timestamp', 'session_id', 'timestamp_diff', 'pauses']][df['pauses']==1].to_csv('pauses.csv')"
   ]
  },
  {
   "cell_type": "markdown",
   "id": "37de1e9e-4fbd-4ceb-aab6-205524d28f74",
   "metadata": {},
   "source": [
    "## Interactions with features\n",
    "\n",
    "Simplify!\n",
    "- separate into groups of interactions (columns): dismisses, accepts, l2dismisses\n",
    "- but at the same time (before or after) \n",
    "- find unique for both \n",
    "\n",
    "- Marks can be either placeholder (L1/L3) or highlights (L2)\n",
    "- dismisses are the L1/L3 dismisses\n",
    "- accepts are the L1/L3 accepts\n",
    "- l2dismisses are the \n",
    "- placeholder only relevant if marks has placeholder"
   ]
  },
  {
   "cell_type": "code",
   "execution_count": null,
   "id": "93c06708-85d9-45b9-92ae-cdd0777a23d7",
   "metadata": {},
   "outputs": [],
   "source": [
    "data[note_number]['data'].keys()"
   ]
  },
  {
   "cell_type": "code",
   "execution_count": null,
   "id": "4d7ff0fb-3f19-4e28-8ac7-a5b7263aa284",
   "metadata": {},
   "outputs": [],
   "source": [
    "pd.DataFrame(data[note_number]['data']['sidebar'])"
   ]
  },
  {
   "cell_type": "code",
   "execution_count": null,
   "id": "54239c30-2cd8-4be8-b59b-163d7be53bb2",
   "metadata": {},
   "outputs": [],
   "source": [
    "pd.DataFrame(data[note_number]['data']['popup'])"
   ]
  },
  {
   "cell_type": "code",
   "execution_count": null,
   "id": "dce433e3-722f-43ae-8df5-282e6792d223",
   "metadata": {},
   "outputs": [],
   "source": [
    "pd.DataFrame(data[note_number]['data']['toggle'])"
   ]
  },
  {
   "cell_type": "code",
   "execution_count": null,
   "id": "168fea96-894e-4980-924c-07c300300e9d",
   "metadata": {},
   "outputs": [],
   "source": [
    "pd.DataFrame(data[note_number]['data']['dismiss'])"
   ]
  },
  {
   "cell_type": "code",
   "execution_count": 1,
   "id": "b4c6f306-7eda-4b3f-a132-cf625d303788",
   "metadata": {},
   "outputs": [
    {
     "ename": "NameError",
     "evalue": "name 'pd' is not defined",
     "output_type": "error",
     "traceback": [
      "\u001b[0;31m---------------------------------------------------------------------------\u001b[0m",
      "\u001b[0;31mNameError\u001b[0m                                 Traceback (most recent call last)",
      "Input \u001b[0;32mIn [1]\u001b[0m, in \u001b[0;36m<cell line: 1>\u001b[0;34m()\u001b[0m\n\u001b[0;32m----> 1\u001b[0m temp \u001b[38;5;241m=\u001b[39m \u001b[43mpd\u001b[49m\u001b[38;5;241m.\u001b[39mDataFrame(data[note_number][\u001b[38;5;124m'\u001b[39m\u001b[38;5;124mdata\u001b[39m\u001b[38;5;124m'\u001b[39m][\u001b[38;5;124m'\u001b[39m\u001b[38;5;124maccept\u001b[39m\u001b[38;5;124m'\u001b[39m])\n\u001b[1;32m      2\u001b[0m temp[temp[\u001b[38;5;124m'\u001b[39m\u001b[38;5;124msuggestion\u001b[39m\u001b[38;5;124m'\u001b[39m] \u001b[38;5;241m!=\u001b[39m \u001b[38;5;124m'\u001b[39m\u001b[38;5;124m'\u001b[39m]\n",
      "\u001b[0;31mNameError\u001b[0m: name 'pd' is not defined"
     ]
    }
   ],
   "source": [
    "temp = pd.DataFrame(data[note_number]['data']['accept'])\n",
    "temp[temp['suggestion'] != '']"
   ]
  },
  {
   "cell_type": "code",
   "execution_count": null,
   "id": "db521941-33e7-4f7a-9349-72737cf53312",
   "metadata": {},
   "outputs": [],
   "source": [
    "pd.DataFrame(data[note_number]['data']['dismisslist'])"
   ]
  },
  {
   "cell_type": "code",
   "execution_count": null,
   "id": "a952e861-8d40-4bcf-a5c3-9981a2addd0f",
   "metadata": {},
   "outputs": [],
   "source": []
  }
 ],
 "metadata": {
  "kernelspec": {
   "display_name": "Python 3 (ipykernel)",
   "language": "python",
   "name": "python3"
  },
  "language_info": {
   "codemirror_mode": {
    "name": "ipython",
    "version": 3
   },
   "file_extension": ".py",
   "mimetype": "text/x-python",
   "name": "python",
   "nbconvert_exporter": "python",
   "pygments_lexer": "ipython3",
   "version": "3.9.5"
  }
 },
 "nbformat": 4,
 "nbformat_minor": 5
}
