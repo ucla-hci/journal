{
 "cells": [
  {
   "cell_type": "code",
   "execution_count": 1,
   "id": "cddeef48-9397-4cc1-9e29-e446d6ef82a8",
   "metadata": {},
   "outputs": [],
   "source": [
    "import pickle\n",
    "import pandas as pd\n",
    "import matplotlib.pyplot as plt"
   ]
  },
  {
   "cell_type": "code",
   "execution_count": 2,
   "id": "80f96a32-5e9b-4df6-baf5-b81438a25b3f",
   "metadata": {},
   "outputs": [],
   "source": [
    "cat_dict_labels = {\"L2a\":'Understanding Judgement', \"L2b\":'Understanding Cognitive Distortions', \"L2c\":'Understanding Harmful Self-talk', \"L2d\":'Understanding Common Symptom Indicators/emotions', \"L2e\":'Understanding Pronoun Perspectives', \"L2f\":'Understanding Healthy Patterns'}"
   ]
  },
  {
   "cell_type": "code",
   "execution_count": 3,
   "id": "839194a1-e014-4983-ad87-012659203b2b",
   "metadata": {},
   "outputs": [],
   "source": [
    "with open('analysisresults.pickle', 'rb') as handle:\n",
    "        analysis_results = pickle.load(handle)"
   ]
  },
  {
   "cell_type": "code",
   "execution_count": 4,
   "id": "9cc1497c-5b24-4438-a902-247841fd48cf",
   "metadata": {
    "tags": []
   },
   "outputs": [],
   "source": [
    "df = pd.DataFrame(analysis_results)\n",
    "# drop all writing samples,\n",
    "df = df.drop(df[df['title'] == 'Writing Sample'].index)"
   ]
  },
  {
   "cell_type": "code",
   "execution_count": 5,
   "id": "ade33182-daf5-4488-8117-a73fc2fa2aa9",
   "metadata": {},
   "outputs": [
    {
     "data": {
      "text/html": [
       "<div>\n",
       "<style scoped>\n",
       "    .dataframe tbody tr th:only-of-type {\n",
       "        vertical-align: middle;\n",
       "    }\n",
       "\n",
       "    .dataframe tbody tr th {\n",
       "        vertical-align: top;\n",
       "    }\n",
       "\n",
       "    .dataframe thead th {\n",
       "        text-align: right;\n",
       "    }\n",
       "</style>\n",
       "<table border=\"1\" class=\"dataframe\">\n",
       "  <thead>\n",
       "    <tr style=\"text-align: right;\">\n",
       "      <th></th>\n",
       "      <th>filename</th>\n",
       "      <th>title</th>\n",
       "      <th>start_time</th>\n",
       "      <th>n_characters</th>\n",
       "      <th>n_words</th>\n",
       "      <th>content</th>\n",
       "      <th>espresso_analysis</th>\n",
       "      <th>duration</th>\n",
       "      <th>pauses</th>\n",
       "      <th>concat2</th>\n",
       "      <th>L1_toggleOn_list</th>\n",
       "      <th>L1_toggleOff_list</th>\n",
       "      <th>L1_events_list</th>\n",
       "      <th>concat1b</th>\n",
       "      <th>popup_evts</th>\n",
       "      <th>sidebar_evts</th>\n",
       "    </tr>\n",
       "  </thead>\n",
       "  <tbody>\n",
       "    <tr>\n",
       "      <th>0</th>\n",
       "      <td>report_P8.json</td>\n",
       "      <td>Feelings about the uncertainty and anxiety</td>\n",
       "      <td>2022-07-12 01:54:00.623</td>\n",
       "      <td>2237</td>\n",
       "      <td>412</td>\n",
       "      <td>Feeling worse than yesterday. I kept wasting m...</td>\n",
       "      <td>{'L2a': 1, 'L2b': 8, 'L2c': 0, 'L2d': 0, 'L2e'...</td>\n",
       "      <td>16.753918</td>\n",
       "      <td>{'plot': True, 'count': 35, 'pauselist_idx': [...</td>\n",
       "      <td>index  timestamp  type  keycode         ...</td>\n",
       "      <td>[136]</td>\n",
       "      <td>[]</td>\n",
       "      <td>[]</td>\n",
       "      <td>level_0   index  timestamp  type  keycod...</td>\n",
       "      <td>[]</td>\n",
       "      <td>[]</td>\n",
       "    </tr>\n",
       "    <tr>\n",
       "      <th>1</th>\n",
       "      <td>report_P8.json</td>\n",
       "      <td>things about uncertainty_v2</td>\n",
       "      <td>2022-07-12 05:13:36.530</td>\n",
       "      <td>1188</td>\n",
       "      <td>221</td>\n",
       "      <td>This is the version with AI assisted. \\n\\nAs s...</td>\n",
       "      <td>{'L2a': 1, 'L2b': 1, 'L2c': 0, 'L2d': 0, 'L2e'...</td>\n",
       "      <td>15.087017</td>\n",
       "      <td>{'plot': True, 'count': 31, 'pauselist_idx': [...</td>\n",
       "      <td>index  timestamp  type  keycode         ...</td>\n",
       "      <td>[35, 834]</td>\n",
       "      <td>[833]</td>\n",
       "      <td>[824, 825, 826, 827]</td>\n",
       "      <td>level_0   index  timestamp  type  keycod...</td>\n",
       "      <td>[127, 128]</td>\n",
       "      <td>[]</td>\n",
       "    </tr>\n",
       "    <tr>\n",
       "      <th>2</th>\n",
       "      <td>report_P8.json</td>\n",
       "      <td>Last day but a good day</td>\n",
       "      <td>2022-07-14 20:59:02.109</td>\n",
       "      <td>1858</td>\n",
       "      <td>344</td>\n",
       "      <td>This will be my last random writing for this s...</td>\n",
       "      <td>{'L2a': 1, 'L2b': 5, 'L2c': 1, 'L2d': 2, 'L2e'...</td>\n",
       "      <td>15.019222</td>\n",
       "      <td>{'plot': True, 'count': 34, 'pauselist_idx': [...</td>\n",
       "      <td>index  timestamp      type  keycode  \\\n",
       "0...</td>\n",
       "      <td>[115]</td>\n",
       "      <td>[]</td>\n",
       "      <td>[2540, 2541, 2542]</td>\n",
       "      <td>level_0  index  timestamp   type  keycod...</td>\n",
       "      <td>[116, 117, 1149, 1150, 1443, 1444, 2546, 2547,...</td>\n",
       "      <td>[]</td>\n",
       "    </tr>\n",
       "  </tbody>\n",
       "</table>\n",
       "</div>"
      ],
      "text/plain": [
       "         filename                                       title  \\\n",
       "0  report_P8.json  Feelings about the uncertainty and anxiety   \n",
       "1  report_P8.json                 things about uncertainty_v2   \n",
       "2  report_P8.json                     Last day but a good day   \n",
       "\n",
       "               start_time  n_characters  n_words  \\\n",
       "0 2022-07-12 01:54:00.623          2237      412   \n",
       "1 2022-07-12 05:13:36.530          1188      221   \n",
       "2 2022-07-14 20:59:02.109          1858      344   \n",
       "\n",
       "                                             content  \\\n",
       "0  Feeling worse than yesterday. I kept wasting m...   \n",
       "1  This is the version with AI assisted. \\n\\nAs s...   \n",
       "2  This will be my last random writing for this s...   \n",
       "\n",
       "                                   espresso_analysis   duration  \\\n",
       "0  {'L2a': 1, 'L2b': 8, 'L2c': 0, 'L2d': 0, 'L2e'...  16.753918   \n",
       "1  {'L2a': 1, 'L2b': 1, 'L2c': 0, 'L2d': 0, 'L2e'...  15.087017   \n",
       "2  {'L2a': 1, 'L2b': 5, 'L2c': 1, 'L2d': 2, 'L2e'...  15.019222   \n",
       "\n",
       "                                              pauses  \\\n",
       "0  {'plot': True, 'count': 35, 'pauselist_idx': [...   \n",
       "1  {'plot': True, 'count': 31, 'pauselist_idx': [...   \n",
       "2  {'plot': True, 'count': 34, 'pauselist_idx': [...   \n",
       "\n",
       "                                             concat2 L1_toggleOn_list  \\\n",
       "0        index  timestamp  type  keycode         ...            [136]   \n",
       "1        index  timestamp  type  keycode         ...        [35, 834]   \n",
       "2        index  timestamp      type  keycode  \\\n",
       "0...            [115]   \n",
       "\n",
       "  L1_toggleOff_list        L1_events_list  \\\n",
       "0                []                    []   \n",
       "1             [833]  [824, 825, 826, 827]   \n",
       "2                []    [2540, 2541, 2542]   \n",
       "\n",
       "                                            concat1b  \\\n",
       "0        level_0   index  timestamp  type  keycod...   \n",
       "1        level_0   index  timestamp  type  keycod...   \n",
       "2        level_0  index  timestamp   type  keycod...   \n",
       "\n",
       "                                          popup_evts sidebar_evts  \n",
       "0                                                 []           []  \n",
       "1                                         [127, 128]           []  \n",
       "2  [116, 117, 1149, 1150, 1443, 1444, 2546, 2547,...           []  "
      ]
     },
     "execution_count": 5,
     "metadata": {},
     "output_type": "execute_result"
    }
   ],
   "source": [
    "df.head(3)"
   ]
  },
  {
   "cell_type": "code",
   "execution_count": 6,
   "id": "0b15daae-fa5d-4dc5-a017-06a47123683e",
   "metadata": {},
   "outputs": [
    {
     "data": {
      "text/plain": [
       "Index(['filename', 'title', 'start_time', 'n_characters', 'n_words', 'content',\n",
       "       'espresso_analysis', 'duration', 'pauses', 'concat2',\n",
       "       'L1_toggleOn_list', 'L1_toggleOff_list', 'L1_events_list', 'concat1b',\n",
       "       'popup_evts', 'sidebar_evts'],\n",
       "      dtype='object')"
      ]
     },
     "execution_count": 6,
     "metadata": {},
     "output_type": "execute_result"
    }
   ],
   "source": [
    "df.columns"
   ]
  },
  {
   "cell_type": "code",
   "execution_count": 19,
   "id": "86cf51ad-af6e-4c2a-9360-8b7d6c1bf002",
   "metadata": {},
   "outputs": [
    {
     "data": {
      "text/plain": [
       "Index(['filename', 'title', 'start_time', 'n_characters', 'n_words', 'content',\n",
       "       'espresso_analysis', 'duration', 'concat2', 'L1_toggleOn_list',\n",
       "       'L1_toggleOff_list', 'L1_events_list', 'concat1b', 'popup_evts',\n",
       "       'sidebar_evts', 'pause_plot', 'pause_count', 'pauselist_idx',\n",
       "       'pauselist', 'totalpausetime', 'pause_freq', 'pause_plotdata'],\n",
       "      dtype='object')"
      ]
     },
     "execution_count": 19,
     "metadata": {},
     "output_type": "execute_result"
    }
   ],
   "source": [
    "# split by filename and sort by time\n",
    "df_1 = df[df['filename']=='report_P8.json'].sort_values(by=['start_time'])\n",
    "# df_1 = df\n",
    "# expand pause subanalysis\n",
    "df_1 = pd.concat([df_1, df_1['pauses'].apply(pd.Series)], axis=1).drop(columns=\"pauses\").rename(columns={\"plot\":\"pause_plot\", \"count\": \"pause_count\", \"frequency\":\"pause_freq\", \"plot_data\": \"pause_plotdata\"})\n",
    "df_1.columns"
   ]
  },
  {
   "cell_type": "code",
   "execution_count": 20,
   "id": "debb29dd-52d0-41e7-834c-bf820698da24",
   "metadata": {},
   "outputs": [],
   "source": [
    "df_1 = df_1.dropna(subset=[\"pauselist\"])"
   ]
  },
  {
   "cell_type": "code",
   "execution_count": 21,
   "id": "656c4178-f33f-4e85-b5d9-fd12f616251b",
   "metadata": {},
   "outputs": [
    {
     "name": "stderr",
     "output_type": "stream",
     "text": [
      "/var/folders/vf/hjtk1bb946xbhqv76gy6k_zr0000gn/T/ipykernel_77430/1989552814.py:7: FutureWarning: Treating datetime data as categorical rather than numeric in `.describe` is deprecated and will be removed in a future version of pandas. Specify `datetime_is_numeric=True` to silence this warning and adopt the future behavior now.\n",
      "  df_1_exp.describe(include = 'all')\n"
     ]
    },
    {
     "data": {
      "text/html": [
       "<div>\n",
       "<style scoped>\n",
       "    .dataframe tbody tr th:only-of-type {\n",
       "        vertical-align: middle;\n",
       "    }\n",
       "\n",
       "    .dataframe tbody tr th {\n",
       "        vertical-align: top;\n",
       "    }\n",
       "\n",
       "    .dataframe thead th {\n",
       "        text-align: right;\n",
       "    }\n",
       "</style>\n",
       "<table border=\"1\" class=\"dataframe\">\n",
       "  <thead>\n",
       "    <tr style=\"text-align: right;\">\n",
       "      <th></th>\n",
       "      <th>filename</th>\n",
       "      <th>title</th>\n",
       "      <th>start_time</th>\n",
       "      <th>espresso_analysis</th>\n",
       "      <th>duration</th>\n",
       "      <th>timestamp</th>\n",
       "      <th>text</th>\n",
       "      <th>marks</th>\n",
       "      <th>placeholder</th>\n",
       "      <th>session_id</th>\n",
       "    </tr>\n",
       "  </thead>\n",
       "  <tbody>\n",
       "    <tr>\n",
       "      <th>count</th>\n",
       "      <td>100</td>\n",
       "      <td>100</td>\n",
       "      <td>100</td>\n",
       "      <td>100</td>\n",
       "      <td>100.000000</td>\n",
       "      <td>100.000000</td>\n",
       "      <td>100</td>\n",
       "      <td>100</td>\n",
       "      <td>100</td>\n",
       "      <td>100.0</td>\n",
       "    </tr>\n",
       "    <tr>\n",
       "      <th>unique</th>\n",
       "      <td>1</td>\n",
       "      <td>3</td>\n",
       "      <td>3</td>\n",
       "      <td>3</td>\n",
       "      <td>NaN</td>\n",
       "      <td>NaN</td>\n",
       "      <td>98</td>\n",
       "      <td>54</td>\n",
       "      <td>8</td>\n",
       "      <td>NaN</td>\n",
       "    </tr>\n",
       "    <tr>\n",
       "      <th>top</th>\n",
       "      <td>report_P8.json</td>\n",
       "      <td>Feelings about the uncertainty and anxiety</td>\n",
       "      <td>2022-07-12 01:54:00.623000</td>\n",
       "      <td>{'L2a': 1, 'L2b': 8, 'L2c': 0, 'L2d': 0, 'L2e'...</td>\n",
       "      <td>NaN</td>\n",
       "      <td>NaN</td>\n",
       "      <td>This will be my last random writing for this s...</td>\n",
       "      <td>[{'tag': 'L2-highlight', 'from': {'line': 0, '...</td>\n",
       "      <td></td>\n",
       "      <td>NaN</td>\n",
       "    </tr>\n",
       "    <tr>\n",
       "      <th>freq</th>\n",
       "      <td>100</td>\n",
       "      <td>35</td>\n",
       "      <td>35</td>\n",
       "      <td>35</td>\n",
       "      <td>NaN</td>\n",
       "      <td>NaN</td>\n",
       "      <td>2</td>\n",
       "      <td>14</td>\n",
       "      <td>54</td>\n",
       "      <td>NaN</td>\n",
       "    </tr>\n",
       "    <tr>\n",
       "      <th>first</th>\n",
       "      <td>NaN</td>\n",
       "      <td>NaN</td>\n",
       "      <td>2022-07-12 01:54:00.623000</td>\n",
       "      <td>NaN</td>\n",
       "      <td>NaN</td>\n",
       "      <td>NaN</td>\n",
       "      <td>NaN</td>\n",
       "      <td>NaN</td>\n",
       "      <td>NaN</td>\n",
       "      <td>NaN</td>\n",
       "    </tr>\n",
       "    <tr>\n",
       "      <th>last</th>\n",
       "      <td>NaN</td>\n",
       "      <td>NaN</td>\n",
       "      <td>2022-07-14 20:59:02.109000</td>\n",
       "      <td>NaN</td>\n",
       "      <td>NaN</td>\n",
       "      <td>NaN</td>\n",
       "      <td>NaN</td>\n",
       "      <td>NaN</td>\n",
       "      <td>NaN</td>\n",
       "      <td>NaN</td>\n",
       "    </tr>\n",
       "    <tr>\n",
       "      <th>mean</th>\n",
       "      <td>NaN</td>\n",
       "      <td>NaN</td>\n",
       "      <td>NaN</td>\n",
       "      <td>NaN</td>\n",
       "      <td>15.647382</td>\n",
       "      <td>537433.419000</td>\n",
       "      <td>NaN</td>\n",
       "      <td>NaN</td>\n",
       "      <td>NaN</td>\n",
       "      <td>0.0</td>\n",
       "    </tr>\n",
       "    <tr>\n",
       "      <th>std</th>\n",
       "      <td>NaN</td>\n",
       "      <td>NaN</td>\n",
       "      <td>NaN</td>\n",
       "      <td>NaN</td>\n",
       "      <td>0.816527</td>\n",
       "      <td>241379.792833</td>\n",
       "      <td>NaN</td>\n",
       "      <td>NaN</td>\n",
       "      <td>NaN</td>\n",
       "      <td>0.0</td>\n",
       "    </tr>\n",
       "    <tr>\n",
       "      <th>min</th>\n",
       "      <td>NaN</td>\n",
       "      <td>NaN</td>\n",
       "      <td>NaN</td>\n",
       "      <td>NaN</td>\n",
       "      <td>15.019222</td>\n",
       "      <td>31265.300000</td>\n",
       "      <td>NaN</td>\n",
       "      <td>NaN</td>\n",
       "      <td>NaN</td>\n",
       "      <td>0.0</td>\n",
       "    </tr>\n",
       "    <tr>\n",
       "      <th>25%</th>\n",
       "      <td>NaN</td>\n",
       "      <td>NaN</td>\n",
       "      <td>NaN</td>\n",
       "      <td>NaN</td>\n",
       "      <td>15.019222</td>\n",
       "      <td>379940.175000</td>\n",
       "      <td>NaN</td>\n",
       "      <td>NaN</td>\n",
       "      <td>NaN</td>\n",
       "      <td>0.0</td>\n",
       "    </tr>\n",
       "    <tr>\n",
       "      <th>50%</th>\n",
       "      <td>NaN</td>\n",
       "      <td>NaN</td>\n",
       "      <td>NaN</td>\n",
       "      <td>NaN</td>\n",
       "      <td>15.087017</td>\n",
       "      <td>544652.450000</td>\n",
       "      <td>NaN</td>\n",
       "      <td>NaN</td>\n",
       "      <td>NaN</td>\n",
       "      <td>0.0</td>\n",
       "    </tr>\n",
       "    <tr>\n",
       "      <th>75%</th>\n",
       "      <td>NaN</td>\n",
       "      <td>NaN</td>\n",
       "      <td>NaN</td>\n",
       "      <td>NaN</td>\n",
       "      <td>16.753918</td>\n",
       "      <td>735895.450000</td>\n",
       "      <td>NaN</td>\n",
       "      <td>NaN</td>\n",
       "      <td>NaN</td>\n",
       "      <td>0.0</td>\n",
       "    </tr>\n",
       "    <tr>\n",
       "      <th>max</th>\n",
       "      <td>NaN</td>\n",
       "      <td>NaN</td>\n",
       "      <td>NaN</td>\n",
       "      <td>NaN</td>\n",
       "      <td>16.753918</td>\n",
       "      <td>989749.600000</td>\n",
       "      <td>NaN</td>\n",
       "      <td>NaN</td>\n",
       "      <td>NaN</td>\n",
       "      <td>0.0</td>\n",
       "    </tr>\n",
       "  </tbody>\n",
       "</table>\n",
       "</div>"
      ],
      "text/plain": [
       "              filename                                       title  \\\n",
       "count              100                                         100   \n",
       "unique               1                                           3   \n",
       "top     report_P8.json  Feelings about the uncertainty and anxiety   \n",
       "freq               100                                          35   \n",
       "first              NaN                                         NaN   \n",
       "last               NaN                                         NaN   \n",
       "mean               NaN                                         NaN   \n",
       "std                NaN                                         NaN   \n",
       "min                NaN                                         NaN   \n",
       "25%                NaN                                         NaN   \n",
       "50%                NaN                                         NaN   \n",
       "75%                NaN                                         NaN   \n",
       "max                NaN                                         NaN   \n",
       "\n",
       "                        start_time  \\\n",
       "count                          100   \n",
       "unique                           3   \n",
       "top     2022-07-12 01:54:00.623000   \n",
       "freq                            35   \n",
       "first   2022-07-12 01:54:00.623000   \n",
       "last    2022-07-14 20:59:02.109000   \n",
       "mean                           NaN   \n",
       "std                            NaN   \n",
       "min                            NaN   \n",
       "25%                            NaN   \n",
       "50%                            NaN   \n",
       "75%                            NaN   \n",
       "max                            NaN   \n",
       "\n",
       "                                        espresso_analysis    duration  \\\n",
       "count                                                 100  100.000000   \n",
       "unique                                                  3         NaN   \n",
       "top     {'L2a': 1, 'L2b': 8, 'L2c': 0, 'L2d': 0, 'L2e'...         NaN   \n",
       "freq                                                   35         NaN   \n",
       "first                                                 NaN         NaN   \n",
       "last                                                  NaN         NaN   \n",
       "mean                                                  NaN   15.647382   \n",
       "std                                                   NaN    0.816527   \n",
       "min                                                   NaN   15.019222   \n",
       "25%                                                   NaN   15.019222   \n",
       "50%                                                   NaN   15.087017   \n",
       "75%                                                   NaN   16.753918   \n",
       "max                                                   NaN   16.753918   \n",
       "\n",
       "            timestamp                                               text  \\\n",
       "count      100.000000                                                100   \n",
       "unique            NaN                                                 98   \n",
       "top               NaN  This will be my last random writing for this s...   \n",
       "freq              NaN                                                  2   \n",
       "first             NaN                                                NaN   \n",
       "last              NaN                                                NaN   \n",
       "mean    537433.419000                                                NaN   \n",
       "std     241379.792833                                                NaN   \n",
       "min      31265.300000                                                NaN   \n",
       "25%     379940.175000                                                NaN   \n",
       "50%     544652.450000                                                NaN   \n",
       "75%     735895.450000                                                NaN   \n",
       "max     989749.600000                                                NaN   \n",
       "\n",
       "                                                    marks placeholder  \\\n",
       "count                                                 100         100   \n",
       "unique                                                 54           8   \n",
       "top     [{'tag': 'L2-highlight', 'from': {'line': 0, '...               \n",
       "freq                                                   14          54   \n",
       "first                                                 NaN         NaN   \n",
       "last                                                  NaN         NaN   \n",
       "mean                                                  NaN         NaN   \n",
       "std                                                   NaN         NaN   \n",
       "min                                                   NaN         NaN   \n",
       "25%                                                   NaN         NaN   \n",
       "50%                                                   NaN         NaN   \n",
       "75%                                                   NaN         NaN   \n",
       "max                                                   NaN         NaN   \n",
       "\n",
       "        session_id  \n",
       "count        100.0  \n",
       "unique         NaN  \n",
       "top            NaN  \n",
       "freq           NaN  \n",
       "first          NaN  \n",
       "last           NaN  \n",
       "mean           0.0  \n",
       "std            0.0  \n",
       "min            0.0  \n",
       "25%            0.0  \n",
       "50%            0.0  \n",
       "75%            0.0  \n",
       "max            0.0  "
      ]
     },
     "execution_count": 21,
     "metadata": {},
     "output_type": "execute_result"
    }
   ],
   "source": [
    "s = df_1.apply(lambda x: pd.Series(x['pauselist']), axis=1).stack().reset_index(level=1, drop=True)\n",
    "s.name = 'pausefull'\n",
    "df_1_exp = df_1.join(s)\n",
    "df_1_exp = pd.concat([df_1_exp, df_1_exp['pausefull'].apply(pd.Series)], axis=1).drop(columns=\"pausefull\")\n",
    "df_1_exp.columns\n",
    "df_1_exp = df_1_exp[['filename', 'title', 'start_time', 'espresso_analysis', 'duration', 'timestamp', 'text', 'marks', 'placeholder', 'session_id']]\n",
    "df_1_exp.describe(include = 'all')"
   ]
  },
  {
   "cell_type": "code",
   "execution_count": 22,
   "id": "742ec265-12ca-406c-9891-2d7ea5884590",
   "metadata": {},
   "outputs": [
    {
     "data": {
      "text/html": [
       "<div>\n",
       "<style scoped>\n",
       "    .dataframe tbody tr th:only-of-type {\n",
       "        vertical-align: middle;\n",
       "    }\n",
       "\n",
       "    .dataframe tbody tr th {\n",
       "        vertical-align: top;\n",
       "    }\n",
       "\n",
       "    .dataframe thead th {\n",
       "        text-align: right;\n",
       "    }\n",
       "</style>\n",
       "<table border=\"1\" class=\"dataframe\">\n",
       "  <thead>\n",
       "    <tr style=\"text-align: right;\">\n",
       "      <th></th>\n",
       "      <th>filename</th>\n",
       "      <th>title</th>\n",
       "      <th>start_time</th>\n",
       "      <th>espresso_analysis</th>\n",
       "      <th>duration</th>\n",
       "      <th>timestamp</th>\n",
       "      <th>text</th>\n",
       "      <th>marks</th>\n",
       "      <th>placeholder</th>\n",
       "      <th>session_id</th>\n",
       "    </tr>\n",
       "  </thead>\n",
       "  <tbody>\n",
       "    <tr>\n",
       "      <th>0</th>\n",
       "      <td>report_P8.json</td>\n",
       "      <td>Feelings about the uncertainty and anxiety</td>\n",
       "      <td>2022-07-12 01:54:00.623</td>\n",
       "      <td>{'L2a': 1, 'L2b': 8, 'L2c': 0, 'L2d': 0, 'L2e'...</td>\n",
       "      <td>16.753918</td>\n",
       "      <td>121675.9</td>\n",
       "      <td>Feeling worse than yesterday. I kept wasting m</td>\n",
       "      <td>[]</td>\n",
       "      <td></td>\n",
       "      <td>0</td>\n",
       "    </tr>\n",
       "    <tr>\n",
       "      <th>0</th>\n",
       "      <td>report_P8.json</td>\n",
       "      <td>Feelings about the uncertainty and anxiety</td>\n",
       "      <td>2022-07-12 01:54:00.623</td>\n",
       "      <td>{'L2a': 1, 'L2b': 8, 'L2c': 0, 'L2d': 0, 'L2e'...</td>\n",
       "      <td>16.753918</td>\n",
       "      <td>126946.4</td>\n",
       "      <td>Feeling worse than yesterday. I kept wasting m...</td>\n",
       "      <td>[]</td>\n",
       "      <td></td>\n",
       "      <td>0</td>\n",
       "    </tr>\n",
       "    <tr>\n",
       "      <th>0</th>\n",
       "      <td>report_P8.json</td>\n",
       "      <td>Feelings about the uncertainty and anxiety</td>\n",
       "      <td>2022-07-12 01:54:00.623</td>\n",
       "      <td>{'L2a': 1, 'L2b': 8, 'L2c': 0, 'L2d': 0, 'L2e'...</td>\n",
       "      <td>16.753918</td>\n",
       "      <td>154836.0</td>\n",
       "      <td>Feeling worse than yesterday. I kept wasting m...</td>\n",
       "      <td>[{'tag': 'L2-highlight', 'from': {'line': 0, '...</td>\n",
       "      <td>A different point of view can be...</td>\n",
       "      <td>0</td>\n",
       "    </tr>\n",
       "  </tbody>\n",
       "</table>\n",
       "</div>"
      ],
      "text/plain": [
       "         filename                                       title  \\\n",
       "0  report_P8.json  Feelings about the uncertainty and anxiety   \n",
       "0  report_P8.json  Feelings about the uncertainty and anxiety   \n",
       "0  report_P8.json  Feelings about the uncertainty and anxiety   \n",
       "\n",
       "               start_time                                  espresso_analysis  \\\n",
       "0 2022-07-12 01:54:00.623  {'L2a': 1, 'L2b': 8, 'L2c': 0, 'L2d': 0, 'L2e'...   \n",
       "0 2022-07-12 01:54:00.623  {'L2a': 1, 'L2b': 8, 'L2c': 0, 'L2d': 0, 'L2e'...   \n",
       "0 2022-07-12 01:54:00.623  {'L2a': 1, 'L2b': 8, 'L2c': 0, 'L2d': 0, 'L2e'...   \n",
       "\n",
       "    duration  timestamp                                               text  \\\n",
       "0  16.753918   121675.9     Feeling worse than yesterday. I kept wasting m   \n",
       "0  16.753918   126946.4  Feeling worse than yesterday. I kept wasting m...   \n",
       "0  16.753918   154836.0  Feeling worse than yesterday. I kept wasting m...   \n",
       "\n",
       "                                               marks  \\\n",
       "0                                                 []   \n",
       "0                                                 []   \n",
       "0  [{'tag': 'L2-highlight', 'from': {'line': 0, '...   \n",
       "\n",
       "                           placeholder  session_id  \n",
       "0                                                0  \n",
       "0                                                0  \n",
       "0  A different point of view can be...           0  "
      ]
     },
     "execution_count": 22,
     "metadata": {},
     "output_type": "execute_result"
    }
   ],
   "source": [
    "df_1_exp.head(3)"
   ]
  },
  {
   "cell_type": "code",
   "execution_count": 23,
   "id": "c7f0751f-1e85-4acf-9515-95f7c9af65a3",
   "metadata": {},
   "outputs": [],
   "source": [
    "df_1_exp['text'] = df_1_exp['text'].apply(getlastsentence)"
   ]
  },
  {
   "cell_type": "code",
   "execution_count": 24,
   "id": "343e61ff-2400-4abd-96dd-3a9fbe2fa9b1",
   "metadata": {},
   "outputs": [],
   "source": [
    "df_1_exp.to_csv('PAUSE_DATA.csv')"
   ]
  },
  {
   "cell_type": "code",
   "execution_count": 25,
   "id": "9208fb99-d087-4d94-8589-f84c088146c2",
   "metadata": {},
   "outputs": [],
   "source": [
    "def getlastsentence(text):\n",
    "    #test = \"In this long. \"\n",
    "    try:\n",
    "        sentence_list = text.split(\".\")\n",
    "        if len(sentence_list[-1]) > 2:\n",
    "            # print(f\"\\r{sentence_list[-1]}\")\n",
    "            return sentence_list[-1]\n",
    "        else:\n",
    "            # print(f\"\\r{sentence_list[-1]}\")\n",
    "            return sentence_list[-2]\n",
    "    except:\n",
    "        return pd.NA\n",
    "    "
   ]
  },
  {
   "cell_type": "code",
   "execution_count": 26,
   "id": "5045fa7f-f737-4be6-975b-59b4c8edbfaa",
   "metadata": {},
   "outputs": [
    {
     "data": {
      "text/plain": [
       "<AxesSubplot:>"
      ]
     },
     "execution_count": 26,
     "metadata": {},
     "output_type": "execute_result"
    },
    {
     "data": {
      "image/png": "[encoded data removed]",
      "text/plain": [
       "<Figure size 432x288 with 1 Axes>"
      ]
     },
     "metadata": {
      "needs_background": "light"
     },
     "output_type": "display_data"
    }
   ],
   "source": [
    "pd.DataFrame(list(df_1['espresso_analysis'])).T.rename(index=cat_dict_labels).plot(kind='bar')"
   ]
  },
  {
   "cell_type": "code",
   "execution_count": 18,
   "id": "089038de-e115-4dd8-886f-353665620a58",
   "metadata": {},
   "outputs": [
    {
     "data": {
      "text/plain": [
       "<AxesSubplot:>"
      ]
     },
     "execution_count": 18,
     "metadata": {},
     "output_type": "execute_result"
    },
    {
     "data": {
      "image/png": "[encoded data removed]",
      "text/plain": [
       "<Figure size 432x288 with 1 Axes>"
      ]
     },
     "metadata": {
      "needs_background": "light"
     },
     "output_type": "display_data"
    }
   ],
   "source": [
    "# change in dict analysis in one user\n",
    "pd.DataFrame(list(df_1['espresso_analysis'])).T.plot(kind='bar')"
   ]
  },
  {
   "cell_type": "code",
   "execution_count": 54,
   "id": "cae5069a-5d74-43c7-878f-13f276333263",
   "metadata": {},
   "outputs": [
    {
     "name": "stdout",
     "output_type": "stream",
     "text": [
      "report.json\n",
      "report2.json\n",
      "report3.json\n",
      "report_P1.json\n",
      "report_P4.json\n",
      "report_P5.json\n",
      "report_P6.json\n",
      "report_P7.json\n",
      "report_P8.json\n",
      "report_pilot_test.json\n"
     ]
    },
    {
     "data": {
      "image/png": "[encoded data removed]",
      "text/plain": [
       "<Figure size 432x288 with 1 Axes>"
      ]
     },
     "metadata": {
      "needs_background": "light"
     },
     "output_type": "display_data"
    },
    {
     "data": {
      "image/png": "[encoded data removed]",
      "text/plain": [
       "<Figure size 432x288 with 1 Axes>"
      ]
     },
     "metadata": {
      "needs_background": "light"
     },
     "output_type": "display_data"
    },
    {
     "data": {
      "image/png": "[encoded data removed]",
      "text/plain": [
       "<Figure size 432x288 with 1 Axes>"
      ]
     },
     "metadata": {
      "needs_background": "light"
     },
     "output_type": "display_data"
    },
    {
     "data": {
      "image/png": "[encoded data removed]",
      "text/plain": [
       "<Figure size 432x288 with 1 Axes>"
      ]
     },
     "metadata": {
      "needs_background": "light"
     },
     "output_type": "display_data"
    },
    {
     "data": {
      "image/png": "[encoded data removed]",
      "text/plain": [
       "<Figure size 432x288 with 1 Axes>"
      ]
     },
     "metadata": {
      "needs_background": "light"
     },
     "output_type": "display_data"
    },
    {
     "data": {
      "image/png": "[encoded data removed]",
      "text/plain": [
       "<Figure size 432x288 with 1 Axes>"
      ]
     },
     "metadata": {
      "needs_background": "light"
     },
     "output_type": "display_data"
    },
    {
     "data": {
      "image/png": "[encoded data removed]",
      "text/plain": [
       "<Figure size 432x288 with 1 Axes>"
      ]
     },
     "metadata": {
      "needs_background": "light"
     },
     "output_type": "display_data"
    },
    {
     "data": {
      "image/png": "[encoded data removed]",
      "text/plain": [
       "<Figure size 432x288 with 1 Axes>"
      ]
     },
     "metadata": {
      "needs_background": "light"
     },
     "output_type": "display_data"
    },
    {
     "data": {
      "image/png": "[encoded data removed]",
      "text/plain": [
       "<Figure size 432x288 with 1 Axes>"
      ]
     },
     "metadata": {
      "needs_background": "light"
     },
     "output_type": "display_data"
    },
    {
     "data": {
      "image/png": "[encoded data removed]",
      "text/plain": [
       "<Figure size 432x288 with 1 Axes>"
      ]
     },
     "metadata": {
      "needs_background": "light"
     },
     "output_type": "display_data"
    }
   ],
   "source": [
    "filenames = list(set(df['filename']))\n",
    "filenames.sort()\n",
    "for fname in filenames:\n",
    "    print(fname)\n",
    "    temp = df[df['filename']==fname].sort_values(by=['start_time'])\n",
    "    pd.DataFrame(list(temp['espresso_analysis'])).T.plot(kind='bar')"
   ]
  },
  {
   "cell_type": "code",
   "execution_count": 67,
   "id": "f876f1ec-6125-4263-8956-c026860df2bf",
   "metadata": {},
   "outputs": [
    {
     "name": "stdout",
     "output_type": "stream",
     "text": [
      "report.json\n",
      "report2.json\n",
      "report3.json\n",
      "report_P1.json\n",
      "error getting pause_count\n",
      "report_P4.json\n",
      "report_P5.json\n",
      "report_P6.json\n",
      "report_P7.json\n",
      "report_P8.json\n",
      "report_pilot_test.json\n",
      "error getting pause_count\n"
     ]
    },
    {
     "data": {
      "image/png": "[encoded data removed]",
      "text/plain": [
       "<Figure size 432x288 with 1 Axes>"
      ]
     },
     "metadata": {
      "needs_background": "light"
     },
     "output_type": "display_data"
    },
    {
     "data": {
      "image/png": "[encoded data removed]",
      "text/plain": [
       "<Figure size 432x288 with 1 Axes>"
      ]
     },
     "metadata": {
      "needs_background": "light"
     },
     "output_type": "display_data"
    },
    {
     "data": {
      "image/png": "[encoded data removed]",
      "text/plain": [
       "<Figure size 432x288 with 1 Axes>"
      ]
     },
     "metadata": {
      "needs_background": "light"
     },
     "output_type": "display_data"
    },
    {
     "data": {
      "text/plain": [
       "<Figure size 432x288 with 0 Axes>"
      ]
     },
     "metadata": {},
     "output_type": "display_data"
    },
    {
     "data": {
      "image/png": "[encoded data removed]",
      "text/plain": [
       "<Figure size 432x288 with 1 Axes>"
      ]
     },
     "metadata": {
      "needs_background": "light"
     },
     "output_type": "display_data"
    },
    {
     "data": {
      "image/png": "[encoded data removed]",
      "text/plain": [
       "<Figure size 432x288 with 1 Axes>"
      ]
     },
     "metadata": {
      "needs_background": "light"
     },
     "output_type": "display_data"
    },
    {
     "data": {
      "image/png": "[encoded data removed]",
      "text/plain": [
       "<Figure size 432x288 with 1 Axes>"
      ]
     },
     "metadata": {
      "needs_background": "light"
     },
     "output_type": "display_data"
    },
    {
     "data": {
      "image/png": "[encoded data removed]",
      "text/plain": [
       "<Figure size 432x288 with 1 Axes>"
      ]
     },
     "metadata": {
      "needs_background": "light"
     },
     "output_type": "display_data"
    },
    {
     "data": {
      "image/png": "[encoded data removed]",
      "text/plain": [
       "<Figure size 432x288 with 1 Axes>"
      ]
     },
     "metadata": {
      "needs_background": "light"
     },
     "output_type": "display_data"
    },
    {
     "data": {
      "text/plain": [
       "<Figure size 432x288 with 0 Axes>"
      ]
     },
     "metadata": {},
     "output_type": "display_data"
    }
   ],
   "source": [
    "# plot pause count\n",
    "# single user\n",
    "# df_1['pause_count'].plot()\n",
    "for fname in filenames:\n",
    "    try:\n",
    "        print(fname)\n",
    "        \n",
    "        temp = df[df['filename']==fname].sort_values(by=['start_time'])\n",
    "        temp = pd.concat([temp, temp['pauses'].apply(pd.Series)], axis=1).drop(columns=\"pauses\").rename(columns={\"plot\":\"pause_plot\", \"count\": \"pause_count\", \"frequency\":\"pause_freq\", \"plot_data\": \"pause_plotdata\"})\n",
    "        fig = plt.figure()\n",
    "        temp['pause_count'].plot(kind='bar')\n",
    "    except:\n",
    "        print(\"error getting pause_count\")"
   ]
  },
  {
   "cell_type": "code",
   "execution_count": 18,
   "id": "2bf730de-0f78-4733-9ee8-d80b0d96d1ec",
   "metadata": {},
   "outputs": [],
   "source": [
    "# progression espresso analysis all users aggregated as time goes on (~3 plots)"
   ]
  },
  {
   "cell_type": "code",
   "execution_count": null,
   "id": "00df97a2-163a-4945-885e-de7e6ed60d3f",
   "metadata": {},
   "outputs": [],
   "source": [
    "# progression pauses per user (as time goes on 2, 3, notes)"
   ]
  },
  {
   "cell_type": "code",
   "execution_count": 68,
   "id": "41a177d3-edd5-4b1f-8f54-ed61654f4442",
   "metadata": {},
   "outputs": [],
   "source": [
    "# progression pauses all users as time goes on"
   ]
  },
  {
   "cell_type": "code",
   "execution_count": null,
   "id": "c9d2e140-975c-4a2c-a1a2-aadd9e0b1d33",
   "metadata": {},
   "outputs": [],
   "source": [
    "# last sentence before ..."
   ]
  }
 ],
 "metadata": {
  "kernelspec": {
   "display_name": "Python 3 (ipykernel)",
   "language": "python",
   "name": "python3"
  },
  "language_info": {
   "codemirror_mode": {
    "name": "ipython",
    "version": 3
   },
   "file_extension": ".py",
   "mimetype": "text/x-python",
   "name": "python",
   "nbconvert_exporter": "python",
   "pygments_lexer": "ipython3",
   "version": "3.9.5"
  }
 },
 "nbformat": 4,
 "nbformat_minor": 5
}
